{
 "cells": [
  {
   "cell_type": "markdown",
   "metadata": {},
   "source": [
    "# Homework Assignment #1 (Individual)\n",
    "## Git practice, debugging practice, and new Python packages"
   ]
  },
  {
   "cell_type": "markdown",
   "metadata": {},
   "source": [
    "### <p style=\"text-align: right;\"> &#9989; Put your name here.</p>\n",
    "### <p style=\"text-align: right;\"> &#9989; Put your _GitHub username_ here.</p>"
   ]
  },
  {
   "cell_type": "markdown",
   "metadata": {},
   "source": [
    "<img src=\"https://biopython.org/assets/images/biopython_logo_white.png\" width=300px align=\"right\" style=\"margin-left: 20px\" alt=\"Image credit: https://biopython.org/\">\n",
    "\n",
    "### Goals for this homework assignment\n",
    "By the end of this assignment, you should be able to:\n",
    "* Use Git to create a repository, track changes to the files within the repository, and push those changes to a remote repository.\n",
    "* Debug some basic Python code.\n",
    "* Read documentation and example code to use a new Python package\n",
    "\n",
    "Work through the following assignment, making sure to follow all of the directions and answer all of the questions.\n",
    "\n",
    "There are **41 points** possible on this assignment. Point values for each part are included in the section headers and question prompts.\n",
    "\n",
    "**This assignment is due roughly two weeks from now at 11:59 pm on Friday, February 4.** It should be uploaded into the \"Homework Assignments\" submission folder for Homework #1 on D2L.  Submission instructions can be found at the end of the notebook. **You must also fill out a survey regarding this assignment.** The link to this survey can also be found at the end of the notebook."
   ]
  },
  {
   "cell_type": "markdown",
   "metadata": {},
   "source": [
    "---\n",
    "## Part 1: Setting up a git repository to track your progress on your assignment (8 points)\n",
    "\n",
    "For this assignment, you're going to create new **private** GitHub repository that you can used to track your progress on this homework assignment and future assignments. Again, this should be a **private** repository so that your solutions are not publicly accessible.\n",
    "\n",
    "**&#9989; Do the following**:\n",
    "\n",
    "1. On [GitHub](https://github.com) make sure you are logged into your account and then create a new <font color=\"red\">**_private_**</font> GitHub repository called `cmse202-s22-turnin`.\n",
    "2. Once you've initialized the repository on GitHub, **clone a copy of it onto JupyterHub or your computer**.\n",
    "3. Inside the `cmse202-s22-turnin` repository, create a new folder called `hw-01`.\n",
    "4. Move this notebook into that **new directory** in your repository then **add it and commit it to your repository**. **Important**: you'll want to make sure you **save and close** the notebook before you do this step and then re-open it once you've added it to your repository.\n",
    "5. Finally, to test that everything is working, `git push` the notebook file so that it shows up in your <font color=\"red\">**_private_**</font> GitHub repository on the web.\n",
    "\n",
    "**Important**: Make sure you've added your Professor and your TA as collaborators to your new \"turnin\" respository with \"Read\" access so that they can see your assignment. **You should check the Slack channel _for your section of the course_ to get this information.**\n",
    "\n",
    "**Double-check the following**: Make sure that the version of this notebook that you are working on is the same one that you just added to your repository! If you are working on a different copy of the noteobok, **none of your changes will be tracked**.\n",
    "\n",
    "If everything went as intended, the file should now show up on your GitHub account in the \"`cmse202-s22-turnin`\" repository inside the `hw-01` directory that you just created.  Periodically, **you'll be asked to commit your changes to the repository and push them to the remote GitHub location**. Of course, you can always commit your changes more often than that, if you wish.  It can be good to get into a habit of committing your changes any time you make a significant modification, or when you stop working on the project for a bit.\n",
    "\n",
    "&#9989; **Do this**: Before you move on, put the command that your instructor should run to clone your repository in the markdown cell below."
   ]
  },
  {
   "cell_type": "markdown",
   "metadata": {},
   "source": [
    "``` bash\n",
    "# Put the command for cloning your repository here!\n",
    "\n",
    "```\n",
    "git clone https://github.com/xq1msu/cmse202-s22-turnin.git"
   ]
  },
  {
   "cell_type": "markdown",
   "metadata": {},
   "source": [
    "---\n",
    "\n",
    "## Part 2: Bit of code debugging: reading Python and understanding errors and error messages (16 points)\n",
    "\n",
    "As a bit of Python practice, review the following code. Read the comments to understand what the code is supposed to do. Then run the code and see what it outputs and/or the error message. Finally, **fix the code**. When you fix the code **add a comment to explain what was wrong with the original code**.\n",
    "\n",
    "Note that not every block of code will result in an error message, but there is something wrong with each block of code below."
   ]
  },
  {
   "cell_type": "markdown",
   "metadata": {},
   "source": [
    "### Fixing errors\n",
    "\n",
    "**Question 1 [2 points per block]**: Resolve the errors in the following pieces of code and add a comment that explains what was wrong in the first place."
   ]
  },
  {
   "cell_type": "code",
   "execution_count": 2,
   "metadata": {
    "scrolled": true
   },
   "outputs": [
    {
     "name": "stdout",
     "output_type": "stream",
     "text": [
      "i = 0\n",
      "i = 1\n",
      "i = 2\n",
      "i = 3\n",
      "i = 4\n",
      "i = 5\n",
      "i = 6\n",
      "i = 7\n",
      "i = 8\n",
      "i = 9\n"
     ]
    }
   ],
   "source": [
    "# Print \"i = 0\", \"i = 1\", ..., and \"i = 9\" on separate lines\n",
    "for i in range(10):\n",
    "    print(\"i = %i\" %i)"
   ]
  },
  {
   "cell_type": "code",
   "execution_count": 12,
   "metadata": {},
   "outputs": [
    {
     "name": "stdout",
     "output_type": "stream",
     "text": [
      "The circumference of the circle is 6.283185307179586\n"
     ]
    }
   ],
   "source": [
    "# Print the circumference a circle given the diameter of the circle\n",
    "from math import pi\n",
    "\n",
    "def circumference_of_circle(diameter):\n",
    "    circumference = pi*diameter\n",
    "    print(\"The circumference of the circle is\", circumference)\n",
    "    \n",
    "circumference_of_circle(2)"
   ]
  },
  {
   "cell_type": "code",
   "execution_count": 6,
   "metadata": {},
   "outputs": [
    {
     "name": "stdout",
     "output_type": "stream",
     "text": [
      "The area of the square is 25\n"
     ]
    }
   ],
   "source": [
    "# Print the area of a square given the length of its side\n",
    "def area_of_square(length):\n",
    "    area = length**2\n",
    "    print(\"The area of the square is\", area)\n",
    "    \n",
    "area_of_square(5) # The correct area is 5^2 = 25"
   ]
  },
  {
   "cell_type": "code",
   "execution_count": 11,
   "metadata": {},
   "outputs": [
    {
     "name": "stdout",
     "output_type": "stream",
     "text": [
      "The value of the fraction 5 / 7 is 0.7142857142857143\n"
     ]
    }
   ],
   "source": [
    "# Prints the value of a fraction given its numerator and denominator ()\n",
    "def compute_fraction(numerator, denominator):\n",
    "    fraction = numerator/denominator\n",
    "    print(\"The value of the fraction\",numerator,\"/\",denominator,\"is\",fraction)\n",
    "    \n",
    "compute_fraction(5, 7) # The correct value is 5/7 = 0.714285..."
   ]
  },
  {
   "cell_type": "code",
   "execution_count": 17,
   "metadata": {},
   "outputs": [
    {
     "name": "stdout",
     "output_type": "stream",
     "text": [
      "The value of the 13th element is 12\n"
     ]
    }
   ],
   "source": [
    "# Creates the numpy array n = [0,1,...,29] and prints \"The value of the 13th element is 12\"\n",
    "import numpy as np\n",
    "n = np.arange(30)\n",
    "print(\"The value of the 13th element is %d\" % (n[12]))"
   ]
  },
  {
   "cell_type": "code",
   "execution_count": 19,
   "metadata": {},
   "outputs": [
    {
     "name": "stdout",
     "output_type": "stream",
     "text": [
      "1\n",
      "3\n",
      "5\n",
      "7\n",
      "9\n",
      "2\n",
      "4\n",
      "6\n",
      "8\n",
      "10\n"
     ]
    }
   ],
   "source": [
    "# Print the numbers 1,3,5,7,9,2,4,6,8,10 one per line\n",
    "odd = range(1,10,2)\n",
    "even = range(2,11,2)\n",
    "\n",
    "for i in odd:\n",
    "    print(i)\n",
    "    \n",
    "for j in even:\n",
    "    print(j)"
   ]
  },
  {
   "cell_type": "code",
   "execution_count": 21,
   "metadata": {},
   "outputs": [
    {
     "name": "stdout",
     "output_type": "stream",
     "text": [
      "[1, 3, 5, 7, 9, 11, 13, 15, 17, 19]\n"
     ]
    }
   ],
   "source": [
    "# Forms a list of odd integers by starting with an empty list and appending one element at a time\n",
    "odd_integers = []\n",
    "for i in range(10):\n",
    "    odd_integers.append(2*i+1)\n",
    "    \n",
    "print(odd_integers)"
   ]
  },
  {
   "cell_type": "code",
   "execution_count": 23,
   "metadata": {},
   "outputs": [
    {
     "name": "stdout",
     "output_type": "stream",
     "text": [
      "bonjour\n",
      "un deux trois\n",
      "jaune\n"
     ]
    }
   ],
   "source": [
    "# First, the code forms a dictionary whose keys are a few English words and values are the corresponding French words\n",
    "# Then, the code translates the English words \"hello\", \"one, two, three\", and \"yellow\". \n",
    "# The output should be \"bonjour\", \"un, deux, trois\", \"jaune\" on separate lines.\n",
    "french = dict()\n",
    "french['hello'] = 'bonjour'\n",
    "french['yes'] = 'oui'\n",
    "french['one'] = 'un'\n",
    "french['two'] = 'deux'\n",
    "french['three'] = 'trois'\n",
    "french['red'] = 'rouge'\n",
    "french['black'] = 'noire'\n",
    "french['green'] = 'vert'\n",
    "french['blue'] = 'bleu'\n",
    "french['yellow'] = \"jaune\"\n",
    "\n",
    "print(french[\"hello\"])\n",
    "print(french[\"one\"], french[\"two\"], french[\"three\"])\n",
    "print(french[\"yellow\"])"
   ]
  },
  {
   "cell_type": "markdown",
   "metadata": {},
   "source": [
    "---\n",
    "### &#128721; STOP\n",
    "**Pause to commit your changes to your Git repository!**\n",
    "\n",
    "Take a moment to save your notebook, commit the changes to your Git repository using the commit message \"Committing Part 2\", and push the changes to GitHub.\n",
    "\n",
    "---"
   ]
  },
  {
   "cell_type": "markdown",
   "metadata": {},
   "source": [
    "## Part 3: Working with a new Python library (17 points)\n",
    "\n",
    "Since we're been practicing download data from the internet and learning to use new Python packages, you're going to practice doing exactly that in this assignment! This will require using the command line a bit (or running command-line commands from inside your notebook), reading documentation, and looking at code examples you're not familiar with. These are all authentic parts of being an independent computational professional."
   ]
  },
  {
   "cell_type": "markdown",
   "metadata": {},
   "source": [
    "---\n",
    "### 3.1: Download the data (2 points)\n",
    "\n",
    "For this assignment you're going to need to download a text file from the internet which contains the text from the eight [State of the Union](https://en.wikipedia.org/wiki/State_of_the_Union) addresses delivered by President George Washington between 1790 and 1796 (which were obtained from [this site](https://www.infoplease.com/primary-sources/government/presidential-speeches/state-union-addresses)). Since you can't do parts of the assignment without the file, let the instructor know if you run into issues right away! Remember, in order to work with the file in this notebook, you'll want to make sure the file is in the same place as the notebook.\n",
    "\n",
    "**Add and commit the file to your repository once you've downloaded it.**\n",
    "\n",
    "The file you need is located here: `https://raw.githubusercontent.com/msu-cmse-courses/cmse202-S22-data/main/data/WashingtonSOTU.txt`\n",
    "\n",
    "&#9989; **Question 1 [2 points]**: What command line command(s) could you use to download the file?"
   ]
  },
  {
   "cell_type": "code",
   "execution_count": null,
   "metadata": {
    "tags": []
   },
   "outputs": [],
   "source": [
    "# Put your download command here\n"
   ]
  },
  {
   "cell_type": "markdown",
   "metadata": {},
   "source": [
    "---\n",
    "### &#128721; STOP\n",
    "**Pause to commit your changes to your Git repository!**\n",
    "\n",
    "Take a moment to save your notebook, commit the changes to your Git repository using the commit message \"Committing part 3.1\", and push the changes to GitHub.\n",
    "\n",
    "---"
   ]
  },
  {
   "cell_type": "markdown",
   "metadata": {},
   "source": [
    "### 3.2: Install the Natural Language Toolkit (2 points)\n",
    "\n",
    "We will use the [Natural Language Toolkit (NLTK)](https://www.nltk.org/) to analyze text in the file you downloaded. To start, we need to install NLTK, and then use NLTK's downloader to obtain a few specific modules.\n",
    "\n",
    "&#9989; **Question 2 [2 points]**: What command did you use to install NLTK? Include this command in the Markdown cell below."
   ]
  },
  {
   "cell_type": "markdown",
   "metadata": {},
   "source": [
    "``` bash\n",
    "# Put the command for installing NLTK here!\n",
    "\n",
    "```"
   ]
  },
  {
   "cell_type": "markdown",
   "metadata": {},
   "source": [
    "**Do this**: After making sure NLTK is installed, **run the cell below** to import `nltk` and download the specific `nltk` modules we will need."
   ]
  },
  {
   "cell_type": "code",
   "execution_count": null,
   "metadata": {},
   "outputs": [],
   "source": [
    "import nltk\n",
    "nltk.download('punkt')\n",
    "nltk.download('stopwords')"
   ]
  },
  {
   "cell_type": "markdown",
   "metadata": {},
   "source": [
    "---\n",
    "### &#128721; STOP\n",
    "**Pause to commit your changes to your Git repository!**\n",
    "\n",
    "Take a moment to save your notebook, commit the changes to your Git repository using the commit message \"Committing part 3.2\", and push the changes to GitHub.\n",
    "\n",
    "---"
   ]
  },
  {
   "cell_type": "markdown",
   "metadata": {},
   "source": [
    "### 3.3 Load and pre-process the text (2 points)\n",
    "\n",
    "&#9989; **Question 3 [2 points]**: Our goal is to identify the most common words in President Washington's SOTU addresses, and make a plot of their relative frequencies. To start, we need to read in the text file into Python and perform a bit of pre-processing. **Do the following**:\n",
    "\n",
    "* Read in the text file by using Python's `open()` function and the File method `read()`. \n",
    "* Convert all the characters to lowercase using the String method `lower()`. (This will prevent words like \"National\" and \"national\" from being counted as different words due to capitalization).\n",
    "* Display the text to make sure you have done the above steps correctly.\n",
    "\n",
    "To help you get started, the cell below has code which performs the first step above. So you just need to add code for the last two steps."
   ]
  },
  {
   "cell_type": "code",
   "execution_count": null,
   "metadata": {},
   "outputs": [],
   "source": [
    "# Put your code for Question 3 here\n",
    "textfile = open('WashingtonSOTU.txt','r')\n",
    "sotu_text = textfile.read()"
   ]
  },
  {
   "cell_type": "markdown",
   "metadata": {},
   "source": [
    "---\n",
    "### &#128721; STOP\n",
    "**Pause to commit your changes to your Git repository!**\n",
    "\n",
    "Take a moment to save your notebook, commit the changes to your Git repository using the commit message \"Committing part 3.3\", and push the changes to GitHub.\n",
    "\n",
    "---"
   ]
  },
  {
   "cell_type": "markdown",
   "metadata": {},
   "source": [
    "### 3.4: Identify the most frequently used words in the SOTU addresses (4 points)\n",
    "\n",
    "&#9989; **Question 4 [4 points]**: Next, we will use NLTK to breakup the pre-processed text into \"tokens\" and make a histogram showing the most frequently used tokens. Do the following:\n",
    "\n",
    "* Use the `nltk.tokenize.word_tokenize()` method on the pre-processed text to obtain a list of tokens in the text. \n",
    "* Use the `nltk.FreqDist()` method to count the number of times each token appears in the text. \n",
    "* Finally, make a plot showing the 30 most frequently used tokens and the number of times each token appears in the text. \n",
    "\n",
    "**Hint**: You are strongly encouraged to use your favorite search engine to find example code which does this."
   ]
  },
  {
   "cell_type": "code",
   "execution_count": null,
   "metadata": {},
   "outputs": [],
   "source": [
    "# Put your code for Question 4 here"
   ]
  },
  {
   "cell_type": "markdown",
   "metadata": {},
   "source": [
    "---\n",
    "### &#128721; STOP\n",
    "**Pause to commit your changes to your Git repository!**\n",
    "\n",
    "Take a moment to save your notebook, commit the changes to your Git repository using the commit message \"Committing part 3.4\", and push the changes to GitHub.\n",
    "\n",
    "---"
   ]
  },
  {
   "cell_type": "markdown",
   "metadata": {},
   "source": [
    "### 3.5: Remove stop words (7 points)\n",
    "\n",
    "In the field of natural language processing (NLP), _stop words_ are words which are very commonly used in the English language, and thus, carry very little information about the text it came from. \n",
    "\n",
    "&#9989; **Question 5 [2 points]**: Look at 30 most frequently occuring tokens in your histogram from Part 3.4. Which of these tokens do think would appear in almost any English text, and which of these tokens do you think are at least somewhat specific to a State of the Union address? If you were asked to pick 30 words which are most characteristic of a speech by President George Washington, would the 30 most frequently occuring tokens you found be a good choice? Why or why not?"
   ]
  },
  {
   "cell_type": "markdown",
   "metadata": {},
   "source": [
    "<font size=+3>&#9998;</font> Do This - Erase the contents of this cell and replace it with your answer to the above question!  (double-click on this text to edit this cell, and hit shift+enter to save the text)"
   ]
  },
  {
   "cell_type": "markdown",
   "metadata": {},
   "source": [
    "&#9989; **Question 6 [5 points]**: Make another histogram, but this time without stop words or punctuation marks. Do the following:\n",
    "\n",
    "* Use `nltk.corpus.stopwords.words('english')` to obtain a list of stop words in the English language.\n",
    "* Go through the list of tokens and remove any which are in the list of stop words. Also, remove the punctuation marks `,`, `.`, `;`, and `:`. You can use a for loop, list comprehension, or any other method you'd like to do this.\n",
    "* Finally, make a plot showing the 30 most frequently used tokens that aren't stop words or punctuation marks and the number of times each token appears in the text. \n",
    "\n",
    "**Hint**: Again, you are strongly encouraged to use your favorite search engine to find example code which does this."
   ]
  },
  {
   "cell_type": "code",
   "execution_count": null,
   "metadata": {},
   "outputs": [],
   "source": [
    "# Put your code for Question 6 here"
   ]
  },
  {
   "cell_type": "markdown",
   "metadata": {},
   "source": [
    "---\n",
    "### &#128721; STOP\n",
    "**Pause to commit your changes to your Git repository!**\n",
    "\n",
    "Take a moment to save your notebook, commit the changes to your Git repository using the commit message \"Committing part 3.5\", and push the changes to GitHub.\n",
    "\n",
    "---"
   ]
  },
  {
   "cell_type": "markdown",
   "metadata": {},
   "source": [
    "---\n",
    "## Assignment wrap-up\n",
    "\n",
    "Please fill out the form that appears when you run the code below.  **You must completely fill this out in order to receive credit for the assignment!**"
   ]
  },
  {
   "cell_type": "code",
   "execution_count": null,
   "metadata": {},
   "outputs": [],
   "source": [
    "from IPython.display import HTML\n",
    "HTML(\n",
    "\"\"\"\n",
    "<iframe \n",
    "\tsrc=\"https://forms.office.com/Pages/ResponsePage.aspx?id=MHEXIi9k2UGSEXQjetVofW5KC5LXMwdNiylLj_y2A4lURUNPRFk1NkxaWTVENEhOV0pJOTVOR045Ty4u\" \n",
    "\twidth=\"800px\" \n",
    "\theight=\"600px\" \n",
    "\tframeborder=\"0\" \n",
    "\tmarginheight=\"0\" \n",
    "\tmarginwidth=\"0\">\n",
    "\tLoading...\n",
    "</iframe>\n",
    "\"\"\"\n",
    ")"
   ]
  },
  {
   "cell_type": "markdown",
   "metadata": {},
   "source": [
    "### Congratulations, you're done!\n",
    "\n",
    "Submit this assignment by uploading it to the course Desire2Learn web page.  Go to the \"Homework Assignments\" folder, find the dropbox link for Homework #1, and upload it there."
   ]
  },
  {
   "cell_type": "markdown",
   "metadata": {},
   "source": [
    "&#169; Copyright 2022,  Department of Computational Mathematics, Science and Engineering at Michigan State University"
   ]
  }
 ],
 "metadata": {
  "anaconda-cloud": {},
  "kernelspec": {
   "display_name": "Python 3",
   "language": "python",
   "name": "python3"
  },
  "language_info": {
   "codemirror_mode": {
    "name": "ipython",
    "version": 3
   },
   "file_extension": ".py",
   "mimetype": "text/x-python",
   "name": "python",
   "nbconvert_exporter": "python",
   "pygments_lexer": "ipython3",
   "version": "3.8.8"
  },
  "toc": {
   "base_numbering": 1,
   "nav_menu": {},
   "number_sections": true,
   "sideBar": true,
   "skip_h1_title": false,
   "title_cell": "Table of Contents",
   "title_sidebar": "Contents",
   "toc_cell": false,
   "toc_position": {},
   "toc_section_display": true,
   "toc_window_display": false
  }
 },
 "nbformat": 4,
 "nbformat_minor": 4
}
