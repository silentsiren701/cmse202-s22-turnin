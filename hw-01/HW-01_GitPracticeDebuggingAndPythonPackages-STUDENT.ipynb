{
 "cells": [
  {
   "cell_type": "markdown",
   "metadata": {},
   "source": [
    "# Homework Assignment #1 (Individual)\n",
    "## Git practice, debugging practice, and new Python packages"
   ]
  },
  {
   "cell_type": "markdown",
   "metadata": {},
   "source": [
    "### <p style=\"text-align: right;\"> &#9989; Put your name here.</p>\n",
    "### <p style=\"text-align: right;\"> &#9989; Put your _GitHub username_ here.</p>"
   ]
  },
  {
   "cell_type": "markdown",
   "metadata": {},
   "source": [
    "<img src=\"https://biopython.org/assets/images/biopython_logo_white.png\" width=300px align=\"right\" style=\"margin-left: 20px\" alt=\"Image credit: https://biopython.org/\">\n",
    "\n",
    "### Goals for this homework assignment\n",
    "By the end of this assignment, you should be able to:\n",
    "* Use Git to create a repository, track changes to the files within the repository, and push those changes to a remote repository.\n",
    "* Debug some basic Python code.\n",
    "* Read documentation and example code to use a new Python package\n",
    "\n",
    "Work through the following assignment, making sure to follow all of the directions and answer all of the questions.\n",
    "\n",
    "There are **41 points** possible on this assignment. Point values for each part are included in the section headers and question prompts.\n",
    "\n",
    "**This assignment is due roughly two weeks from now at 11:59 pm on Friday, February 4.** It should be uploaded into the \"Homework Assignments\" submission folder for Homework #1 on D2L.  Submission instructions can be found at the end of the notebook. **You must also fill out a survey regarding this assignment.** The link to this survey can also be found at the end of the notebook."
   ]
  },
  {
   "cell_type": "markdown",
   "metadata": {},
   "source": [
    "---\n",
    "## Part 1: Setting up a git repository to track your progress on your assignment (8 points)\n",
    "\n",
    "For this assignment, you're going to create new **private** GitHub repository that you can used to track your progress on this homework assignment and future assignments. Again, this should be a **private** repository so that your solutions are not publicly accessible.\n",
    "\n",
    "**&#9989; Do the following**:\n",
    "\n",
    "1. On [GitHub](https://github.com) make sure you are logged into your account and then create a new <font color=\"red\">**_private_**</font> GitHub repository called `cmse202-s22-turnin`.\n",
    "2. Once you've initialized the repository on GitHub, **clone a copy of it onto JupyterHub or your computer**.\n",
    "3. Inside the `cmse202-s22-turnin` repository, create a new folder called `hw-01`.\n",
    "4. Move this notebook into that **new directory** in your repository then **add it and commit it to your repository**. **Important**: you'll want to make sure you **save and close** the notebook before you do this step and then re-open it once you've added it to your repository.\n",
    "5. Finally, to test that everything is working, `git push` the notebook file so that it shows up in your <font color=\"red\">**_private_**</font> GitHub repository on the web.\n",
    "\n",
    "**Important**: Make sure you've added your Professor and your TA as collaborators to your new \"turnin\" respository with \"Read\" access so that they can see your assignment. **You should check the Slack channel _for your section of the course_ to get this information.**\n",
    "\n",
    "**Double-check the following**: Make sure that the version of this notebook that you are working on is the same one that you just added to your repository! If you are working on a different copy of the noteobok, **none of your changes will be tracked**.\n",
    "\n",
    "If everything went as intended, the file should now show up on your GitHub account in the \"`cmse202-s22-turnin`\" repository inside the `hw-01` directory that you just created.  Periodically, **you'll be asked to commit your changes to the repository and push them to the remote GitHub location**. Of course, you can always commit your changes more often than that, if you wish.  It can be good to get into a habit of committing your changes any time you make a significant modification, or when you stop working on the project for a bit.\n",
    "\n",
    "&#9989; **Do this**: Before you move on, put the command that your instructor should run to clone your repository in the markdown cell below."
   ]
  },
  {
   "cell_type": "markdown",
   "metadata": {},
   "source": [
    "``` bash\n",
    "# Put the command for cloning your repository here!\n",
    "\n",
    "```\n",
    "git clone https://github.com/xq1msu/cmse202-s22-turnin.git"
   ]
  },
  {
   "cell_type": "markdown",
   "metadata": {},
   "source": [
    "---\n",
    "\n",
    "## Part 2: Bit of code debugging: reading Python and understanding errors and error messages (16 points)\n",
    "\n",
    "As a bit of Python practice, review the following code. Read the comments to understand what the code is supposed to do. Then run the code and see what it outputs and/or the error message. Finally, **fix the code**. When you fix the code **add a comment to explain what was wrong with the original code**.\n",
    "\n",
    "Note that not every block of code will result in an error message, but there is something wrong with each block of code below."
   ]
  },
  {
   "cell_type": "markdown",
   "metadata": {},
   "source": [
    "### Fixing errors\n",
    "\n",
    "**Question 1 [2 points per block]**: Resolve the errors in the following pieces of code and add a comment that explains what was wrong in the first place."
   ]
  },
  {
   "cell_type": "code",
   "execution_count": 2,
   "metadata": {
    "scrolled": true
   },
   "outputs": [
    {
     "name": "stdout",
     "output_type": "stream",
     "text": [
      "i = 0\n",
      "i = 1\n",
      "i = 2\n",
      "i = 3\n",
      "i = 4\n",
      "i = 5\n",
      "i = 6\n",
      "i = 7\n",
      "i = 8\n",
      "i = 9\n"
     ]
    }
   ],
   "source": [
    "# Print \"i = 0\", \"i = 1\", ..., and \"i = 9\" on separate lines\n",
    "for i in range(10):\n",
    "    print(\"i = %i\" %i)"
   ]
  },
  {
   "cell_type": "code",
   "execution_count": 12,
   "metadata": {},
   "outputs": [
    {
     "name": "stdout",
     "output_type": "stream",
     "text": [
      "The circumference of the circle is 6.283185307179586\n"
     ]
    }
   ],
   "source": [
    "# Print the circumference a circle given the diameter of the circle\n",
    "from math import pi\n",
    "\n",
    "def circumference_of_circle(diameter):\n",
    "    circumference = pi*diameter\n",
    "    print(\"The circumference of the circle is\", circumference)\n",
    "    \n",
    "circumference_of_circle(2)"
   ]
  },
  {
   "cell_type": "code",
   "execution_count": 6,
   "metadata": {},
   "outputs": [
    {
     "name": "stdout",
     "output_type": "stream",
     "text": [
      "The area of the square is 25\n"
     ]
    }
   ],
   "source": [
    "# Print the area of a square given the length of its side\n",
    "def area_of_square(length):\n",
    "    area = length**2\n",
    "    print(\"The area of the square is\", area)\n",
    "    \n",
    "area_of_square(5) # The correct area is 5^2 = 25"
   ]
  },
  {
   "cell_type": "code",
   "execution_count": 11,
   "metadata": {},
   "outputs": [
    {
     "name": "stdout",
     "output_type": "stream",
     "text": [
      "The value of the fraction 5 / 7 is 0.7142857142857143\n"
     ]
    }
   ],
   "source": [
    "# Prints the value of a fraction given its numerator and denominator ()\n",
    "def compute_fraction(numerator, denominator):\n",
    "    fraction = numerator/denominator\n",
    "    print(\"The value of the fraction\",numerator,\"/\",denominator,\"is\",fraction)\n",
    "    \n",
    "compute_fraction(5, 7) # The correct value is 5/7 = 0.714285..."
   ]
  },
  {
   "cell_type": "code",
   "execution_count": 17,
   "metadata": {},
   "outputs": [
    {
     "name": "stdout",
     "output_type": "stream",
     "text": [
      "The value of the 13th element is 12\n"
     ]
    }
   ],
   "source": [
    "# Creates the numpy array n = [0,1,...,29] and prints \"The value of the 13th element is 12\"\n",
    "import numpy as np\n",
    "n = np.arange(30)\n",
    "print(\"The value of the 13th element is %d\" % (n[12]))"
   ]
  },
  {
   "cell_type": "code",
   "execution_count": 19,
   "metadata": {},
   "outputs": [
    {
     "name": "stdout",
     "output_type": "stream",
     "text": [
      "1\n",
      "3\n",
      "5\n",
      "7\n",
      "9\n",
      "2\n",
      "4\n",
      "6\n",
      "8\n",
      "10\n"
     ]
    }
   ],
   "source": [
    "# Print the numbers 1,3,5,7,9,2,4,6,8,10 one per line\n",
    "odd = range(1,10,2)\n",
    "even = range(2,11,2)\n",
    "\n",
    "for i in odd:\n",
    "    print(i)\n",
    "    \n",
    "for j in even:\n",
    "    print(j)"
   ]
  },
  {
   "cell_type": "code",
   "execution_count": 21,
   "metadata": {},
   "outputs": [
    {
     "name": "stdout",
     "output_type": "stream",
     "text": [
      "[1, 3, 5, 7, 9, 11, 13, 15, 17, 19]\n"
     ]
    }
   ],
   "source": [
    "# Forms a list of odd integers by starting with an empty list and appending one element at a time\n",
    "odd_integers = []\n",
    "for i in range(10):\n",
    "    odd_integers.append(2*i+1)\n",
    "    \n",
    "print(odd_integers)"
   ]
  },
  {
   "cell_type": "code",
   "execution_count": 23,
   "metadata": {},
   "outputs": [
    {
     "name": "stdout",
     "output_type": "stream",
     "text": [
      "bonjour\n",
      "un deux trois\n",
      "jaune\n"
     ]
    }
   ],
   "source": [
    "# First, the code forms a dictionary whose keys are a few English words and values are the corresponding French words\n",
    "# Then, the code translates the English words \"hello\", \"one, two, three\", and \"yellow\". \n",
    "# The output should be \"bonjour\", \"un, deux, trois\", \"jaune\" on separate lines.\n",
    "french = dict()\n",
    "french['hello'] = 'bonjour'\n",
    "french['yes'] = 'oui'\n",
    "french['one'] = 'un'\n",
    "french['two'] = 'deux'\n",
    "french['three'] = 'trois'\n",
    "french['red'] = 'rouge'\n",
    "french['black'] = 'noire'\n",
    "french['green'] = 'vert'\n",
    "french['blue'] = 'bleu'\n",
    "french['yellow'] = \"jaune\"\n",
    "\n",
    "print(french[\"hello\"])\n",
    "print(french[\"one\"], french[\"two\"], french[\"three\"])\n",
    "print(french[\"yellow\"])"
   ]
  },
  {
   "cell_type": "markdown",
   "metadata": {},
   "source": [
    "---\n",
    "### &#128721; STOP\n",
    "**Pause to commit your changes to your Git repository!**\n",
    "\n",
    "Take a moment to save your notebook, commit the changes to your Git repository using the commit message \"Committing Part 2\", and push the changes to GitHub.\n",
    "\n",
    "---"
   ]
  },
  {
   "cell_type": "markdown",
   "metadata": {},
   "source": [
    "## Part 3: Working with a new Python library (17 points)\n",
    "\n",
    "Since we're been practicing download data from the internet and learning to use new Python packages, you're going to practice doing exactly that in this assignment! This will require using the command line a bit (or running command-line commands from inside your notebook), reading documentation, and looking at code examples you're not familiar with. These are all authentic parts of being an independent computational professional."
   ]
  },
  {
   "cell_type": "markdown",
   "metadata": {},
   "source": [
    "---\n",
    "### 3.1: Download the data (2 points)\n",
    "\n",
    "For this assignment you're going to need to download a text file from the internet which contains the text from the eight [State of the Union](https://en.wikipedia.org/wiki/State_of_the_Union) addresses delivered by President George Washington between 1790 and 1796 (which were obtained from [this site](https://www.infoplease.com/primary-sources/government/presidential-speeches/state-union-addresses)). Since you can't do parts of the assignment without the file, let the instructor know if you run into issues right away! Remember, in order to work with the file in this notebook, you'll want to make sure the file is in the same place as the notebook.\n",
    "\n",
    "**Add and commit the file to your repository once you've downloaded it.**\n",
    "\n",
    "The file you need is located here: `https://raw.githubusercontent.com/msu-cmse-courses/cmse202-S22-data/main/data/WashingtonSOTU.txt`\n",
    "\n",
    "&#9989; **Question 1 [2 points]**: What command line command(s) could you use to download the file?"
   ]
  },
  {
   "cell_type": "code",
   "execution_count": 3,
   "metadata": {
    "tags": []
   },
   "outputs": [
    {
     "name": "stdout",
     "output_type": "stream",
     "text": [
      "  % Total    % Received % Xferd  Average Speed   Time    Time     Time  Current\n",
      "                                 Dload  Upload   Total   Spent    Left  Speed\n",
      "100   98k  100   98k    0     0  1472k      0 --:--:-- --:--:-- --:--:-- 1494k\n"
     ]
    }
   ],
   "source": [
    "# Put your download command here\n",
    "!curl https://raw.githubusercontent.com/msu-cmse-courses/cmse202-S22-data/main/data/WashingtonSOTU.txt -o WashingtonSOTU.txt"
   ]
  },
  {
   "cell_type": "markdown",
   "metadata": {},
   "source": [
    "---\n",
    "### &#128721; STOP\n",
    "**Pause to commit your changes to your Git repository!**\n",
    "\n",
    "Take a moment to save your notebook, commit the changes to your Git repository using the commit message \"Committing part 3.1\", and push the changes to GitHub.\n",
    "\n",
    "---"
   ]
  },
  {
   "cell_type": "markdown",
   "metadata": {},
   "source": [
    "### 3.2: Install the Natural Language Toolkit (2 points)\n",
    "\n",
    "We will use the [Natural Language Toolkit (NLTK)](https://www.nltk.org/) to analyze text in the file you downloaded. To start, we need to install NLTK, and then use NLTK's downloader to obtain a few specific modules.\n",
    "\n",
    "&#9989; **Question 2 [2 points]**: What command did you use to install NLTK? Include this command in the Markdown cell below."
   ]
  },
  {
   "cell_type": "markdown",
   "metadata": {},
   "source": [
    "``` bash\n",
    "# Put the command for installing NLTK here!\n",
    "\n",
    "```\n",
    "pip install --user nltk"
   ]
  },
  {
   "cell_type": "markdown",
   "metadata": {},
   "source": [
    "**Do this**: After making sure NLTK is installed, **run the cell below** to import `nltk` and download the specific `nltk` modules we will need."
   ]
  },
  {
   "cell_type": "code",
   "execution_count": 4,
   "metadata": {},
   "outputs": [
    {
     "name": "stderr",
     "output_type": "stream",
     "text": [
      "[nltk_data] Downloading package punkt to /home/xuqingy1/nltk_data...\n",
      "[nltk_data]   Unzipping tokenizers/punkt.zip.\n",
      "[nltk_data] Downloading package stopwords to\n",
      "[nltk_data]     /home/xuqingy1/nltk_data...\n",
      "[nltk_data]   Unzipping corpora/stopwords.zip.\n"
     ]
    },
    {
     "data": {
      "text/plain": [
       "True"
      ]
     },
     "execution_count": 4,
     "metadata": {},
     "output_type": "execute_result"
    }
   ],
   "source": [
    "import nltk\n",
    "nltk.download('punkt')\n",
    "nltk.download('stopwords')"
   ]
  },
  {
   "cell_type": "markdown",
   "metadata": {},
   "source": [
    "---\n",
    "### &#128721; STOP\n",
    "**Pause to commit your changes to your Git repository!**\n",
    "\n",
    "Take a moment to save your notebook, commit the changes to your Git repository using the commit message \"Committing part 3.2\", and push the changes to GitHub.\n",
    "\n",
    "---"
   ]
  },
  {
   "cell_type": "markdown",
   "metadata": {},
   "source": [
    "### 3.3 Load and pre-process the text (2 points)\n",
    "\n",
    "&#9989; **Question 3 [2 points]**: Our goal is to identify the most common words in President Washington's SOTU addresses, and make a plot of their relative frequencies. To start, we need to read in the text file into Python and perform a bit of pre-processing. **Do the following**:\n",
    "\n",
    "* Read in the text file by using Python's `open()` function and the File method `read()`. \n",
    "* Convert all the characters to lowercase using the String method `lower()`. (This will prevent words like \"National\" and \"national\" from being counted as different words due to capitalization).\n",
    "* Display the text to make sure you have done the above steps correctly.\n",
    "\n",
    "To help you get started, the cell below has code which performs the first step above. So you just need to add code for the last two steps."
   ]
  },
  {
   "cell_type": "code",
   "execution_count": 8,
   "metadata": {},
   "outputs": [
    {
     "data": {
      "text/plain": [
       "'fellow-citizens of the senate and house of representatives:\\n\\ni embrace with great satisfaction the opportunity which now presents itself of congratulating you on the present favorable prospects of our public affairs. the recent accession of the important state of north carolina to the constitution of the united states (of which official information has been received), the rising credit and respectability of our country, the general and increasing good will toward the government of the union, and the concord, peace, and plenty with which we are blessed are circumstances auspicious in an eminent degree to our national prosperity.\\n\\nin resuming your consultations for the general good you can not but derive encouragement from the reflection that the measures of the last session have been as satisfactory to your constituents as the novelty and difficulty of the work allowed you to hope. still further to realize their expectations and to secure the blessings which a gracious providence has placed within our reach will in the course of the present important session call for the cool and deliberate exertion of your patriotism, firmness, and wisdom.\\n\\namong the many interesting objects which will engage your attention that of providing for the common defense will merit particular regard. to be prepared for war is one of the most effectual means of preserving peace.\\n\\na free people ought not only to be armed, but disciplined; to which end a uniform and well-digested plan is requisite; and their safety and interest require that they should promote such manufactories as tend to render them independent of others for essential, particularly military, supplies.\\n\\nthe proper establishment of the troops which may be deemed indispensable will be entitled to mature consideration. in the arrangements which may be made respecting it it will be of importance to conciliate the comfortable support of the officers and soldiers with a due regard to economy.\\n\\nthere was reason to hope that the pacific measures adopted with regard to certain hostile tribes of indians would have relieved the inhabitants of our southern and western frontiers from their depredations, but you will perceive from the information contained in the papers which i shall direct to be laid before you (comprehending a communication from the commonwealth of virginia) that we ought to be prepared to afford protection to those parts of the union, and, if necessary, to punish aggressors.\\n\\nthe interests of the united states require that our intercourse with other nations should be facilitated by such provisions as will enable me to fulfill my duty in that respect in the manner which circumstances may render most conducive to the public good, and to this end that the compensation to be made to the persons who may be employed should, according to the nature of their appointments, be defined by law, and a competent fund designated for defraying the expenses incident to the conduct of foreign affairs.\\n\\nvarious considerations also render it expedient that the terms on which foreigners may be admitted to the rights of citizens should be speedily ascertained by a uniform rule of naturalization.\\n\\nuniformity in the currency, weights, and measures of the united states is an object of great importance, and will, i am persuaded, be duly attended to.\\n\\nthe advancement of agriculture, commerce, and manufactures by all proper means will not, i trust, need recommendation; but i can not forbear intimating to you the expediency of giving effectual encouragement as well to the introduction of new and useful inventions from abroad as to the exertions of skill and genius in producing them at home, and of facilitating the intercourse between the distant parts of our country by a due attention to the post-office and post-roads.\\n\\nnor am i less persuaded that you will agree with me in opinion that there is nothing which can better deserve your patronage than the promotion of science and literature. knowledge is in every country the surest basis of public happiness. in one in which the measures of government receive their impressions so immediately from the sense of the community as in ours it is proportionably essential.\\n\\nto the security of a free constitution it contributes in various ways?by convincing those who are intrusted with the public administration that every valuable end of government is best answered by the enlightened confidence of the people, and by teaching the people themselves to know and to value their own rights; to discern and provide against invasions of them; to distinguish between oppression and the necessary exercise of lawful authority; between burthens proceeding from a disregard to their convenience and those resulting from the inevitable exigencies of society; to discriminate the spirit of liberty from that of licentiousness? cherishing the first, avoiding the last?and uniting a speedy but temperate vigilance against encroachments, with an inviolable respect to the laws.\\n\\nwhether this desirable object will be best promoted by affording aids to seminaries of learning already established, by the institution of a national university, or by any other expedients will be well worthy of a place in the deliberations of the legislature.\\n\\ngentlemen of the house of representatives:\\n\\ni saw with peculiar pleasure at the close of the last session the resolution entered into by you expressive of your opinion that an adequate provision for the support of the public credit is a matter of high importance to the national honor and prosperity. in this sentiment i entirely concur; and to a perfect confidence in your best endeavors to devise such a provision as will be truly with the end i add an equal reliance on the cheerful cooperation of the other branch of the legislature.\\n\\nit would be superfluous to specify inducements to a measure in which the character and interests of the united states are so obviously so deeply concerned, and which has received so explicit a sanction from your declaration.\\n\\ngentlemen of the senate and house of representatives:\\n\\ni have directed the proper officers to lay before you, respectively, such papers and estimates as regard the affairs particularly recommended to your consideration, and necessary to convey to you that information of the state of the union which it is my duty to afford.\\n\\nthe welfare of our country is the great object to which our cares and efforts ought to be directed, and i shall derive great satisfaction from a cooperation with you in the pleasing though arduous task of insuring to our fellow citizens the blessings which they have a right to expect from a free, efficient, and equal government.\\n\\n\\nfellow-citizens of the senate and house of representatives:\\n\\nin meeting you again i feel much satisfaction in being able to repeat my congratulations on the favorable prospects which continue to distinguish our public affairs. the abundant fruits of another year have blessed our country with plenty and with the means of a flourishing commerce.\\n\\nthe progress of public credit is witnessed by a considerable rise of american stock abroad as well as at home, and the revenues allotted for this and other national purposes have been productive beyond the calculations by which they were regulated. this latter circumstance is the more pleasing, as it is not only a proof of the fertility of our resources, but as it assures us of a further increase of the national respectability and credit, and, let me add, as it bears an honorable testimony to the patriotism and integrity of the mercantile and marine part of our citizens. the punctuality of the former in discharging their engagements has been exemplary.\\n\\nin conformity to the powers vested in me by acts of the last session, a loan of 3,000,000 florins, toward which some provisional measures had previously taken place, has been completed in holland. as well the celerity with which it has been filled as the nature of the terms (considering the more than ordinary demand for borrowing created by the situation of europe) give a reasonable hope that the further execution of those powers may proceed with advantage and success. the secretary of the treasury has my directions to communicate such further particulars as may be requisite for more precise information.\\n\\nsince your last sessions i have received communications by which it appears that the district of kentucky, at present a part of virginia, has concurred in certain propositions contained in a law of that state, in consequence of which the district is to become a distinct member of the union, in case the requisite sanction of congress be added. for this sanction application is now made. i shall cause the papers on this very transaction to be laid before you.\\n\\nthe liberality and harmony with which it has been conducted will be found to do great honor to both the parties, and the sentiments of warm attachment to the union and its present government expressed by our fellow citizens of kentucky can not fail to add an affectionate concern for their particular welfare to the great national impressions under which you will decide on the case submitted to you.\\n\\nit has been heretofore known to congress that frequent incursions have been made on our frontier settlements by certain banditti of indians from the northwest side of the ohio. these, with some of the tribes dwelling on and near the wabash, have of late been particularly active in their depredations, and being emboldened by the impunity of their crimes and aided by such parts of the neighboring tribes as could be seduced to join in their hostilities or afford them a retreat for their prisoners and plunder, they have, instead of listening to the humane invitations and overtures made on the part of the united states, renewed their violences with fresh alacrity and greater effect. the lives of a number of valuable citizens have thus been sacrificed, and some of them under circumstances peculiarly shocking, whilst others have been carried into a deplorable captivity.\\n\\nthese aggravated provocations rendered it essential to the safety of the western settlements that the aggressors should be made sensible that the government of the union is not less capable of punishing their crimes than it is disposed to respect their rights and reward their attachments. as this object could not be effected by defensive measures, it became necessary to put in force the act which empowers the president to call out the militia for the protection of the frontiers, and i have accordingly authorized an expedition in which the regular troops in that quarter are combined with such drafts of militia as were deemed sufficient. the event of the measure is yet unknown to me. the secretary of war is directed to lay before you a statement of the information on which it is founded, as well as an estimate of the expense with which it will be attended.\\n\\nthe disturbed situation of europe, and particularly the critical posture of the great maritime powers, whilst it ought to make us the more thankful for the general peace and security enjoyed by the united states, reminds us at the same time of the circumspection with which it becomes us to preserve these blessings. it requires also that we should not overlook the tendency of a war, and even of preparations for a war, among the nations most concerned in active commerce with this country to abridge the means, and thereby at least enhance the price, of transporting its valuable productions to their markets. i recommend it to your serious reflections how far and in what mode it may be expedient to guard against embarrassments from these contingencies by such encouragements to our own navigation as will render our commerce and agriculture less dependent on foreign bottoms, which may fail us in the very moments most interesting to both of these great objects. our fisheries and the transportation of our own produce offer us abundant means for guarding ourselves against this evil.\\n\\nyour attention seems to be not less due to that particular branch of our trade which belongs to the mediterranean. so many circumstances unite in rendering the present state of it distressful to us that you will not think any deliberations misemployed which may lead to its relief and protection.\\n\\nthe laws you have already passed for the establishment of a judiciary system have opened the doors of justice to all descriptions of persons. you will consider in your wisdom whether improvements in that system may yet be made, and particularly whether an uniform process of execution on sentences issuing from the federal courts be not desirable through all the states.\\n\\nthe patronage of our commerce, of our merchants and sea men, has called for the appointment of consuls in foreign countries. it seems expedient to regulate by law the exercise of that jurisdiction and those functions which are permitted them, either by express convention or by a friendly indulgence, in the places of their residence. the consular convention, too, with his most christian majesty has stipulated in certain cases the aid of the national authority to his consuls established here. some legislative provision is requisite to carry these stipulations into full effect.\\n\\nthe establishment of the militia, of a mint, of standards of weights and measures, of the post office and post roads are subjects which i presume you will resume of course, and which are abundantly urged by their own importance.\\n\\ngentlemen of the house of representatives:\\n\\nthe sufficiency of the revenues you have established for the objects to which they are appropriated leaves no doubt that the residuary provisions will be commensurate to the other objects for which the public faith stands now pledged. allow me, moreover, to hope that it will be a favorite policy with you, not merely to secure a payment of the interest of the debt funded, but as far and as fast as the growing resources of the country will permit to exonerate it of the principal itself. the appropriation you have made of the western land explains your dispositions on this subject, and i am persuaded that the sooner that valuable fund can be made to contribute, along with the other means, to the actual reduction of the public debt the more salutary will the measure be to every public interest, as well as the more satisfactory to our constituents.\\n\\ngentlemen of the senate and house of representatives:\\n\\nin pursuing the various and weighty business of the present session i indulge the fullest persuasion that your consultation will be equally marked with wisdom and animated by the love of your country. in whatever belongs to my duty you shall have all the cooperation which an undiminished zeal for its welfare can inspire. it will be happy for us both, and our best reward, if, by a successful administration of our respective trusts, we can make the established government more and more instrumental in promoting the good of our fellow citizens, and more and more the object of their attachment and confidence.\\n\\n\\nfellow-citizens of the senate and house of representatives:\\n\\n\"in vain may we expect peace with the indians on our frontiers so long as a lawless set of unprincipled wretches can violate the rights of hospitality, or infringe the most solemn treaties, without receiving the punishment they so justly merit.\"\\n\\ni meet you upon the present occasion with the feelings which are naturally inspired by a strong impression of the prosperous situations of our common country, and by a persuasion equally strong that the labors of the session which has just commenced will, under the guidance of a spirit no less prudent than patriotic, issue in measures conducive to the stability and increase of national prosperity.\\n\\nnumerous as are the providential blessings which demand our grateful acknowledgments, the abundance with which another year has again rewarded the industry of the husbandman is too important to escape recollection.\\n\\nyour own observations in your respective situations will have satisfied you of the progressive state of agriculture, manufactures, commerce, and navigation. in tracing their causes you will have remarked with particular pleasure the happy effects of that revival of confidence, public as well as private, to which the constitution and laws of the united states have so eminently contributed; and you will have observed with no less interest new and decisive proofs of the increasing reputation and credit of the nation. but you nevertheless can not fail to derive satisfaction from the confirmation of these circumstances which will be disclosed in the several official communications that will be made to you in the course of your deliberations.\\n\\nthe rapid subscriptions to the bank of the united states, which completed the sum allowed to be subscribed in a single day, is among the striking and pleasing evidences which present themselves, not only of confidence in the government, but of resource in the community.\\n\\nin the interval of your recess due attention has been paid to the execution of the different objects which were specially provided for by the laws and resolutions of the last session.\\n\\namong the most important of these is the defense and security of the western frontiers. to accomplish it on the most humane principles was a primary wish.\\n\\naccordingly, at the same time the treaties have been provisionally concluded and other proper means used to attach the wavering and to confirm in their friendship the well-disposed tribes of indians, effectual measures have been adopted to make those of a hostile description sensible that a pacification was desired upon terms of moderation and justice.\\n\\nthose measures having proved unsuccessful, it became necessary to convince the refractory of the power of the united states to punish their depredations. offensive operations have therefore been directed, to be conducted, however, as consistently as possible with the dictates of humanity.\\n\\nsome of these have been crowned with full success and others are yet depending. the expeditions which have been completed were carried on under the authority and at the expense of the united states by the militia of kentucky, whose enterprise, intrepidity, and good conduct are entitled of peculiar commendation.\\n\\novertures of peace are still continued to the deluded tribes, and considerable numbers of individuals belonging to them have lately renounced all further opposition, removed from their former situations, and placed themselves under the immediate protection of the united states.\\n\\nit is sincerely to be desired that all need of coercion in future may cease and that an intimate intercourse may succeed, calculated to advance the happiness of the indians and to attach them firmly to the united states.\\n\\nin order to this it seems necessary?that they should experience the benefits of an impartial dispensation of justice. that the mode of alienating their lands, the main source of discontent and war, should be so defined and regulated as to obviate imposition and as far as may be practicable controversy concerning the reality and extent of the alienations which are made. that commerce with them should be promoted under regulations tending to secure an equitable deportment toward them, and that such rational experiments should be made for imparting to them the blessings of civilization as may from time to time suit their condition. that the executive of the united states should be enabled to employ the means to which the indians have been long accustomed for uniting their immediate interests with the preservation of peace. and that efficacious provision should be made for inflicting adequate penalties upon all those who, by violating their rights, shall infringe the treaties and endanger the peace of the union. a system corresponding with the mild principles of religion and philanthropy toward an unenlightened race of men, whose happiness materially depends on the conduct of the united states, would be as honorable to the national character as conformable to the dictates of sound policy.\\n\\nthe powers specially vested in me by the act laying certain duties on distilled spirits, which respect the subdivisions of the districts into surveys, the appointment of officers, and the assignment of compensations, have likewise been carried into effect. in a manner in which both materials and experience were wanting to guide the calculation it will be readily conceived that there must have been difficulty in such an adjustment of the rates of compensation as would conciliate a reasonable competency with a proper regard to the limits prescribed by the law. it is hoped that the circumspection which has been used will be found in the result to have secured the last of the two objects; but it is probable that with a view to the first in some instances a revision of the provision will be found advisable.\\n\\nthe impressions with which this law has been received by the community have been upon the whole such as were to be expected among enlightened and well-disposed citizens from the propriety and necessity of the measure. the novelty, however, of the tax in a considerable part of the united states and a misconception of some of its provisions have given occasion in particular places to some degree of discontent; but it is satisfactory to know that this disposition yields to proper explanations and more just apprehensions of the true nature of the law, and i entertain a full confidence that it will in all give way to motives which arise out of a just sense of duty and a virtuous regard to the public welfare.\\n\\nif there are any circumstances in the law which consistently with its main design may be so varied as to remove any well-intentioned objections that may happen to exist, it will consist with a wise moderation to make the proper variations. it is desirable on all occasions to unite with a steady and firm adherence to constitutional and necessary acts of government the fullest evidence of a disposition as far as may be practicable to consult the wishes of every part of the community and to lay the foundations of the public administration in the affections of the people.\\n\\npursuant to the authority contained in the several acts on that subject, a district of 10 miles square for the permanent seat of the government of the united states has been fixed and announced by proclamation, which district will comprehend lands on both sides of the river potomac and the towns of alexandria and georgetown. a city has also been laid out agreeably to a plan which will be placed before congress, and as there is a prospect, favored by the rate of sales which have already taken place, of ample funds for carrying on the necessary public buildings, there is every expectation of their due progress.\\n\\nthe completion of the census of the inhabitants, for which provision was made by law, has been duly notified (excepting one instance in which the return has been informal, and another in which it has been omitted or miscarried), and the returns of the officers who were charged with this duty, which will be laid before you, will give you the pleasing assurance that the present population of the united states borders on 4,000,000 persons.\\n\\nit is proper also to inform you that a further loan of 2,500,000 florins has been completed in holland, the terms of which are similar to those of the one last announced, except as to a small reduction of charges. another, on like terms, for 6,000,000 florins, had been set on foot under circumstances that assured an immediate completion.\\n\\ngentlemen of the senate:\\n\\ntwo treaties which have been provisionally concluded with the cherokees and six nations of indians will be laid before you for your consideration and ratification.\\n\\ngentlemen of the house of representatives:\\n\\nin entering upon the discharge of your legislative trust you must anticipate with pleasure that many of the difficulties necessarily incident to the first arrangements of a new government for an extensive country have been happily surmounted by the zealous and judicious exertions of your predecessors in cooperation with the other branch of the legislature. the important objects which remain to be accomplished will, i am persuaded, be conducted upon principles equally comprehensive and equally well calculated of the advancement of the general weal.\\n\\nthe time limited for receiving subscriptions to the loans proposed by the act making provision for the debt of the united states having expired, statements from the proper department will as soon as possible apprise you of the exact result. enough, however, is known already to afford an assurance that the views of that act have been substantially fulfilled. the subscription in the domestic debt of the united states has embraced by far the greatest proportion of that debt, affording at the same time proof of the general satisfaction of the public creditors with the system which has been proposed to their acceptance and of the spirit of accommodation to the convenience of the government with which they are actuated. the subscriptions in the debts of the respective states as far as the provisions of the law have permitted may be said to be yet more general. the part of the debt of the united states which remains unsubscribed will naturally engage your further deliberations.\\n\\nit is particularly pleasing to me to be able to announce to you that the revenues which have been established promise to be adequate to their objects, and may be permitted, if no unforeseen exigency occurs, to supersede for the present the necessity of any new burthens upon our constituents.\\n\\nan object which will claim your early attention is a provision for the current service of the ensuing year, together with such ascertained demands upon the treasury as require to be immediately discharged, and such casualties as may have arisen in the execution of the public business, for which no specific appropriation may have yet been made; of all which a proper estimate will be laid before you.\\n\\ngentlemen of the senate and of the house of representatives:\\n\\ni shall content myself with a general reference to former communications for several objects upon which the urgency of other affairs has hitherto postponed any definitive resolution. their importance will recall them to your attention, and i trust that the progress already made in the most arduous arrangements of the government will afford you leisure to resume them to advantage.\\n\\nthese are, however, some of them of which i can not forbear a more particular mention. these are the militia, the post office and post roads, the mint, weights and measures, a provision for the sale of the vacant lands of the united states.\\n\\nthe first is certainly an object of primary importance whether viewed in reference to the national security to the satisfaction of the community or to the preservation of order. in connection with this the establishment of competent magazines and arsenals and the fortification of such places as are peculiarly important and vulnerable naturally present themselves to consideration. the safety of the united states under divine protection ought to rest on the basis of systematic and solid arrangements, exposed as little as possible to the hazards of fortuitous circumstances.\\n\\nthe importance of the post office and post roads on a plan sufficiently liberal and comprehensive, as they respect the expedition, safety, and facility of communication, is increased by their instrumentality in diffusing a knowledge of the laws and proceedings of the government, which, while it contributes to the security of the people, serves also to guard them against the effects of misrepresentation and misconception. the establishment of additional cross posts, especially to some of the important points in the western and northern parts of the union, can not fail to be of material utility.\\n\\nthe disorders in the existing currency, and especially the scarcity of small change, a scarcity so peculiarly distressing to the poorer classes, strongly recommend the carrying into immediate effect the resolution already entered into concerning the establishment of a mint. measures have been taken pursuant to that resolution for procuring some of the most necessary artists, together with the requisite apparatus.\\n\\nan uniformity in the weights and measures of the country is among the important objects submitted to you by the constitution, and if it can be derived from a standard at once invariable and universal, must be no less honorable to the public councils than conducive to the public convenience.\\n\\na provision for the sale of the vacant lands of the united states is particularly urged, among other reasons, by the important considerations that they are pledged as a fund for reimbursing the public debt; that if timely and judiciously applied they may save the necessity of burthening our citizens with new taxes for the extinguishment of the principal; and that being free to discharge the principal but in a limited proportion, no opportunity ought to be lost for availing the public of its right.\\n\\n\\nfellow-citizens of the senate and house of representatives:\\n\\nit is some abatement of the satisfaction with which i meet you on the present occasion that, in felicitating you on a continuance of the national prosperity generally, i am not able to add to it information that the indian hostilities which have for some time past distressed our northwestern frontier have terminated.\\n\\nyou will, i am persuaded, learn with no less concern than i communicate it that reiterated endeavors toward effecting a pacification have hitherto issued only in new and outrageous proofs of persevering hostility on the part of the tribes with whom we are in contest. an earnest desire to procure tranquillity to the frontier, to stop the further effusion of blood, to arrest the progress of expense, to forward the prevalent wish of the nation for peace has led to strenuous efforts through various channels to accomplish these desirable purposes; in making which efforts i consulted less my own anticipations of the event, or the scruples which some considerations were calculated to inspire, than the wish to find the object attainable, or if not attainable, to ascertain unequivocally that such is the case.\\n\\na detail of the measures which have been pursued and of their consequences, which will be laid before you, while it will confirm to you the want of success thus far, will, i trust, evince that means as proper and as efficacious as could have been devised have been employed. the issue of some of them, indeed, is still depending, but a favorable one, though not to be despaired of, is not promised by anything that has yet happened.\\n\\nin the course of the attempts which have been made some valuable citizens have fallen victims to their zeal for the public service. a sanction commonly respected even among savages has been found in this instance insufficient to protect from massacre the emissaries of peace. it will, i presume, be duly considered whether the occasion does not call for an exercise of liberality toward the families of the deceased.\\n\\nit must add to your concern to be informed that, besides the continuation of hostile appearances among the tribes north of the ohio, some threatening symptoms have of late been revived among some of those south of it.\\n\\na part of the cherokees, known by the name of chickamaugas, inhabiting five villages on the tennessee river, have long been in the practice of committing depredations on the neighboring settlements.\\n\\nit was hoped that the treaty of holston, made with the cherokee nation in july, 1791, would have prevented a repetition of such depredations; but the event has not answered this hope. the chickamaugas, aided by some banditti of another tribe in their vicinity, have recently perpetrated wanton and unprovoked hostilities upon the citizens of the united states in that quarter. the information which has been received on this subject will be laid before you. hitherto defensive precautions only have been strictly enjoined and observed.\\n\\nit is not understood that any breach of treaty or aggression whatsoever on the part of the united states or their citizens is even alleged as a pretext for the spirit of hostility in this quarter.\\n\\ni have reason to believe that every practicable exertion has been made (pursuant to the provision by law for that purpose) to be prepared for the alternative of a prosecution of the war in the event of a failure of pacific overtures. a large proportion of the troops authorized to be raised have been recruited, though the number is still incomplete, and pains have been taken to discipline and put them in condition for the particular kind of service to be performed. a delay of operations (besides being dictated by the measures which were pursuing toward a pacific termination of the war) has been in itself deemed preferable to immature efforts. a statement from the proper department with regard to the number of troops raised, and some other points which have been suggested, will afford more precise information as a guide to the legislative consultations, and among other things will enable congress to judge whether some additional stimulus to the recruiting service may not be advisable.\\n\\nin looking forward to the future expense of the operations which may be found inevitable i derive consolation from the information i receive that the product of the revenues for the present year is likely to supersede the necessity of additional burthens on the community for the service of the ensuing year. this, however, will be better ascertained in the course of the session, and it is proper to add that the information alluded to proceeds upon the supposition of no material extension of the spirit of hostility.\\n\\ni can not dismiss the subject of indian affairs without again recommending to your consideration the expediency of more adequate provision for giving energy to the laws throughout our interior frontier and for restraining the commission of outrages upon the indians, without which all pacific plans must prove nugatory. to enable, by competent rewards, the employment of qualified and trusty persons to reside among them as agents would also contribute to the preservation of peace and good neighborhood. if in addition to these expedients an eligible plan could be devised for promoting civilization among the friendly tribes and for carrying on trade with them upon a scale equal to their wants and under regulations calculated to protect them from imposition and extortion, its influence in cementing their interest with ours could not but be considerable.\\n\\nthe prosperous state of our revenue has been intimated. this would be still more the case were it not for the impediments which in some places continue to embarrass the collection of the duties on spirits distilled within the united states. these impediments have lessened and are lessening in local extent, and, as applied to the community at large, the contentment with the law appears to be progressive.\\n\\nbut symptoms of increased opposition having lately manifested themselves in certain quarters, i judged a special interposition on my part proper and advisable, and under this impression have issued a proclamation warning against all unlawful combinations and proceedings having for their object or tending to obstruct the operation of the law in question, and announcing that all lawful ways and means would be strictly put in execution for bringing to justice the infractors thereof and securing obedience thereto.\\n\\nmeasures have also been taken for the prosecution of offenders, and congress may be assured that nothing within constitutional and legal limits which may depend upon me shall be wanting to assert and maintain the just authority of the laws. in fulfilling this trust i shall count entirely upon the full cooperation of the other departments of the government and upon the zealous support of all good citizens.\\n\\ni can not forbear to bring again into the view of the legislature the subject of a revision of the judiciary system. a representation from the judges of the supreme court, which will be laid before you, points out some of the inconveniences that are experienced. in the course of the execution of the laws considerations arise out of the structure of the system which in some cases tend to relax their efficacy. as connected with this subject, provisions to facilitate the taking of bail upon processes out of the courts of the united states and a supplementary definition of offenses against the constitution and laws of the union and of the punishment for such offenses will, it is presumed, be found worthy of particular attention.\\n\\nobservations on the value of peace with other nations are unnecessary. it would be wise, however, by timely provisions to guard against those acts of our own citizens which might tend to disturb it, and to put ourselves in a condition to give that satisfaction to foreign nations which we may sometimes have occasion to require from them. i particularly recommend to your consideration the means of preventing those aggressions by our citizens on the territory of other nations, and other infractions of the law of nations, which, furnishing just subject of complaint, might endanger our peace with them; and, in general, the maintenance of a friendly intercourse with foreign powers will be presented to your attention by the expiration of the law for that purpose, which takes place, if not renewed, at the close of the present session.\\n\\nin execution of the authority given by the legislature measures have been taken for engaging some artists from abroad to aid in the establishment of our mint. others have been employed at home. provision has been made of the requisite buildings, and these are now putting into proper condition for the purposes of the establishment. there has also been a small beginning in the coinage of half dimes, the want of small coins in circulation calling the first attention to them.\\n\\nthe regulation of foreign coins in correspondency with the principles of our national coinage, as being essential to their due operation and to order in our money concerns, will, i doubt not, be resumed and completed.\\n\\nit is represented that some provisions in the law which establishes the post office operate, in experiment, against the transmission of news papers to distant parts of the country. should this, upon due inquiry, be found to be the fact, a full conviction of the importance of facilitating the circulation of political intelligence and information will, i doubt not, lead to the application of a remedy.\\n\\nthe adoption of a constitution for the state of kentucky has been notified to me. the legislature will share with me in the satisfaction which arises from an event interesting to the happiness of the part of the nation to which it relates and conducive to the general order.\\n\\nit is proper likewise to inform you that since my last communication on the subject, and in further execution of the acts severally making provision for the public debt and for the reduction thereof, three new loans have been effected, each for 3,000,000 florins?one at antwerp, at the annual interest of 4.5%, with an allowance of 4% in lieu of all charges, in the other 2 at amsterdam, at the annual interest of 4%, with an allowance of 5.5% in one case and of 5% in the other in lieu of all charges. the rates of these loans and the circumstances under which they have been made are confirmations of the high state of our credit abroad.\\n\\namong the objects to which these funds have been directed to be applied, the payment of the debts due to certain foreign officers, according to the provision made during the last session, has been embraced.\\n\\ngentlemen of the house of representatives:\\n\\ni entertain a strong hope that the state of the national finances is now sufficiently matured to enable you to enter upon a systematic and effectual arrangement for the regular redemption and discharge of the public debt, according to the right which has been reserved to the government. no measure can be more desirable, whether viewed with an eye to its intrinsic importance or to the general sentiment and wish of the nation.\\n\\nprovision is likewise requisite for the reimbursement of the loan which has been made of the bank of the united states, pursuant to the eleventh section of the act by which it is incorporated. in fulfilling the public stipulations in this particular it is expected a valuable saving will be made.\\n\\nappropriations for the current service of the ensuing year and for such extraordinaries as may require provision will demand, and i doubt not will engage, your early attention.\\n\\ngentlemen of the senate and of the house of representatives:\\n\\ni content myself with recalling your attention generally to such objects, not particularized in my present, as have been suggested in my former communications to you.\\n\\nvarious temporary laws will expire during the present session. among these, that which regulates trade and intercourse with the indian tribes will merit particular notice.\\n\\nthe results of your common deliberations hitherto will, i trust, be productive of solid and durable advantages to our constituents, such as, by conciliating more and more their ultimate suffrage, will tend to strengthen and confirm their attachment to that constitution of government upon which, under divine providence, materially depend their union, their safety, and their happiness.\\n\\nstill further to promote and secure these inestimable ends there is nothing which can have a more powerful tendency than the careful cultivation of harmony, combined with a due regard to stability, in the public councils.\\n\\n\\nfellow-citizens of the senate and house of representatives:\\n\\nsince the commencement of the term for which i have been again called into office no fit occasion has arisen for expressing to my fellow citizens at large the deep and respectful sense which i feel of the renewed testimony of public approbation. while on the one hand it awakened my gratitude for all those instances of affectionate partiality with which i have been honored by my country, on the other it could not prevent an earnest wish for that retirement from which no private consideration should ever have torn me. but influenced by the belief that my conduct would be estimated according to its real motives, and that the people, and the authorities derived from them, would support exertions having nothing personal for their object, i have obeyed the suffrage which commanded me to resume the executive power; and i humbly implore that being on whose will the fate of nations depends to crown with success our mutual endeavors for the general happiness.\\n\\nas soon as the war in europe had embraced those powers with whom the united states have the most extensive relations there was reason to apprehend that our intercourse with them might be interrupted and our disposition for peace drawn into question by the suspicions too often entertained by belligerent nations. it seemed, therefore, to be my duty to admonish our citizens of the consequences of a contraband trade and of hostile acts to any of the parties, and to obtain by a declaration of the existing legal state of things an easier admission of our right to the immunities belonging to our situation. under these impressions the proclamation which will be laid before you was issued.\\n\\nin this posture of affairs, both new and delicate, i resolved to adopt general rules which should conform to the treaties and assert the privileges of the united states. these were reduced into a system, which will be communicated to you. although i have not thought of myself at liberty to forbid the sale of the prizes permitted by our treaty of commerce with france to be brought into our ports, i have not refused to cause them to be restored when they were taken within the protection of our territory, or by vessels commissioned or equipped in a warlike form within the limits of the united states.\\n\\nit rests with the wisdom of congress to correct, improve, or enforce this plan of procedure; and it will probably be found expedient to extend the legal code and the jurisdiction of the courts of the united states to many cases which, though dependent on principles already recognized, demand some further provisions.\\n\\nwhere individuals shall, within the united states, array themselves in hostility against any of the powers at war, or enter upon military expeditions or enterprises within the jurisdiction of the united states, or usurp and exercise judicial authority within the united states, or where the penalties on violations of the law of nations may have been indistinctly marked, or are inadequate?these offenses can not receive too early and close an attention, and require prompt and decisive remedies.\\n\\nwhatsoever those remedies may be, they will be well administered by the judiciary, who possess a long-established course of investigation, effectual process, and officers in the habit of executing it.\\n\\nin like manner, as several of the courts have doubted, under particular circumstances, their power to liberate the vessels of a nation at peace, and even of a citizen of the united states, although seized under a false color of being hostile property, and have denied their power to liberate certain captures within the protection of our territory, it would seem proper to regulate their jurisdiction in these points. but if the executive is to be the resort in either of the two last-mentioned cases, it is hoped that he will be authorized by law to have facts ascertained by the courts when for his own information he shall request it.\\n\\ni can not recommend to your notice measures for the fulfillment of our duties to the rest of the world without again pressing upon you the necessity of placing ourselves in a condition of complete defense and of exacting from them the fulfillment of their duties toward us. the united states ought not to indulge a persuasion that, contrary to the order of human events, they will forever keep at a distance those painful appeals to arms with which the history of every other nation abounds. there is a rank due to the united states among nations which will be withheld, if not absolutely lost, by the reputation of weakness. if we desire to avoid insult, we must be able to repel it; if we desire to secure peace, one of the most powerful instruments of our rising prosperity, it must be known that we are at all times ready for war. the documents which will be presented to you will shew the amount and kinds of arms and military stores now in our magazines and arsenals; and yet an addition even to these supplies can not with prudence be neglected, as it would leave nothing to the uncertainty of procuring warlike apparatus in the moment of public danger.\\n\\nnor can such arrangements, with such objects, be exposed to the censure or jealousy of the warmest friends of republican government. they are incapable of abuse in the hands of the militia, who ought to possess a pride in being the depository of the force of the republic, and may be trained to a degree of energy equal to every military exigency of the united states. but it is an inquiry which can not be too solemnly pursued, whether the act \"more effectually to provide for the national defense by establishing an uniform militia throughout the united states\" has organized them so as to produce their full effect; whether your own experience in the several states has not detected some imperfections in the scheme, and whether a material feature in an improvement of it ought not to be to afford an opportunity for the study of those branches of the military art which can scarcely ever be attained by practice alone.\\n\\nthe connection of the united states with europe has become extremely interesting. the occurrences which relate to it and have passed under the knowledge of the executive will be exhibited to congress in a subsequent communication.\\n\\nwhen we contemplate the war on our frontiers, it may be truly affirmed that every reasonable effort has been made to adjust the causes of dissension with the indians north of the ohio. the instructions given to the commissioners evince a moderation and equity proceeding from a sincere love of peace, and a liberality having no restriction but the essential interests and dignity of the united states. the attempt, however, of an amicable negotiation having been frustrated, the troops have marched to act offensively. although the proposed treaty did not arrest the progress of military preparation, it is doubtful how far the advance of the season, before good faith justified active movements, may retard them during the remainder of the year. from the papers and intelligence which relate to this important subject you will determine whether the deficiency in the number of troops granted by law shall be compensated by succors of militia, or additional encouragements shall be proposed to recruits.\\n\\nan anxiety has been also demonstrated by the executive for peace with the creeks and the cherokees. the former have been relieved with corn and with clothing, and offensive measures against them prohibited during the recess of congress. to satisfy the complaints of the latter, prosecutions have been instituted for the violences committed upon them. but the papers which will be delivered to you disclose the critical footing on which we stand in regard to both those tribes, and it is with congress to pronounce what shall be done.\\n\\nafter they shall have provided for the present emergency, it will merit their most serious labors to render tranquillity with the savages permanent by creating ties of interest. next to a rigorous execution of justice on the violators of peace, the establishment of commerce with the indian nations in behalf of the united states is most likely to conciliate their attachment. but it ought to be conducted without fraud, without extortion, with constant and plentiful supplies, with a ready market for the commodities of the indians and a stated price for what they give in payment and receive in exchange. individuals will not pursue such a traffic unless they be allured by the hope of profit; but it will be enough for the united states to be reimbursed only. should this recommendation accord with the opinion of congress, they will recollect that it can not be accomplished by any means yet in the hands of the executive.\\n\\ngentlemen of the house of representatives:\\n\\nthe commissioners charged with the settlement of accounts between the united states and individual states concluded their important function within the time limited by law, and the balances struck in their report, which will be laid before congress, have been placed on the books of the treasury.\\n\\non the first day of june last an installment of 1,000,000 florins became payable on the loans of the united states in holland. this was adjusted by a prolongation of the period of reimbursement in nature of a new loan at an interest of 5% for the term of ten years, and the expenses of this operation were a commission of 3%.\\n\\nthe first installment of the loan of $2,000,000 from the bank of the united states has been paid, as was directed by law. for the second it is necessary that provision be made.\\n\\nno pecuniary consideration is more urgent than the regular redemption and discharge of the public debt. on none can delay be more injurious or an economy of time more valuable.\\n\\nthe productiveness of the public revenues hitherto has continued to equal the anticipations which were formed of it, but it is not expected to prove commensurate with all the objects which have been suggested. some auxiliary provisions will therefore, it is presumed, be requisite, and it is hoped that these may be made consistently with a due regard to the convenience of our citizens, who can not but be sensible of the true wisdom of encountering a small present addition to their contributions to obviate a future accumulation of burthens.\\n\\nbut here i can not forbear to recommend a repeal of the tax on the transportation of public prints. there is no resource so firm for the government of the united states as the affections of the people, guided by an enlightened policy; and to this primary good nothing can conduce more than a faithful representation of public proceedings, diffused without restraint throughout the united states.\\n\\nan estimate of the appropriations necessary for the current service of the ensuing year and a statement of a purchase of arms and military stores made during the recess will be presented to congress.\\n\\ngentlemen of the senate and of the house of representatives:\\n\\nthe several subjects to which i have now referred open a wide range to your deliberations and involve some of the choicest interests of our common country. permit me to bring to your remembrance the magnitude of your task. without an unprejudiced coolness the welfare of the government may be hazarded; without harmony as far as consists with freedom of sentiment its dignity may be lost. but as the legislative proceedings of the united states will never, i trust, be reproached for the want of temper or of candor, so shall not the public happiness languish from the want of my strenuous and warmest cooperation.\\n\\n\\nfellow-citizens of the senate and house of representatives:\\n\\nwhen we call to mind the gracious indulgence of heaven by which the american people became a nation; when we survey the general prosperity of our country, and look forward to the riches, power, and happiness to which it seems destined, with the deepest regret do i announce to you that during your recess some of the citizens of the united states have been found capable of insurrection. it is due, however, to the character of our government and to its stability, which can not be shaken by the enemies of order, freely to unfold the course of this event.\\n\\nduring the session of the year 1790 it was expedient to exercise the legislative power granted by the constitution of the united states \"to lay and collect excises\". in a majority of the states scarcely an objection was heard to this mode of taxation. in some, indeed, alarms were at first conceived, until they were banished by reason and patriotism. in the four western counties of pennsylvania a prejudice, fostered and imbittered by the artifice of men who labored for an ascendency over the will of others by the guidance of their passions, produced symptoms of riot and violence.\\n\\nit is well known that congress did not hesitate to examine the complaints which were presented, and to relieve them as far as justice dictated or general convenience would permit. but the impression which this moderation made on the discontented did not correspond with what it deserved. the arts of delusion were no longer confined to the efforts of designing individuals. the very forbearance to press prosecutions was misinterpreted into a fear of urging the execution of the laws, and associations of men began to denounce threats against the officers employed. from a belief that by a more formal concert their operation might be defeated, certain self-created societies assumed the tone of condemnation. hence, while the greater part of pennsylvania itself were conforming themselves to the acts of excise, a few counties were resolved to frustrate them. it is now perceived that every expectation from the tenderness which had been hitherto pursued was unavailing, and that further delay could only create an opinion of impotency or irresolution in the government. legal process was therefore delivered to the marshal against the rioters and delinquent distillers.\\n\\nno sooner was he understood to be engaged in this duty than the vengeance of armed men was aimed at his person and the person and property of the inspector of the revenue. they fired upon the marshal, arrested him, and detained him for some time as a prisoner. he was obliged, by the jeopardy of his life, to renounce the service of other process on the west side of the allegheny mountain, and a deputation was afterwards sent to him to demand a surrender of that which he had served. a numerous body repeatedly attacked the house of the inspector, seized his papers of office, and finally destroyed by fire his buildings and whatsoever they contained. both of these officers, from a just regard to their safety, fled to the seat of government, it being avowed that the motives to such outrages were to compel the resignation of the inspector, to withstand by force of arms the authority of the united states, and thereby to extort a repeal of the laws of excise and an alteration in the conduct of government.\\n\\nupon testimony of these facts an associate justice of the supreme court of the united states notified to me that \"in the counties of washington and allegheny, in pennsylvania, laws of the united states were opposed, and the execution thereof obstructed, by combinations too powerful to be suppressed by the ordinary course of judicial proceedings or by the powers vested in the marshal of that district\".\\n\\non this call, momentous in the extreme, i sought and weighted what might best subdue the crisis. on the one hand the judiciary was pronounced to be stripped of its capacity to enforce the laws; crimes which reached the very existence of social order were perpetrated without control; the friends of government were insulted, abused, and overawed into silence or an apparent acquiescence; and to yield to the treasonable fury of so small a portion of the united states would be to violate the fundamental principle of our constitution, which enjoins that the will of the majority shall prevail. on the other, to array citizen against citizen, to publish the dishonor of such excesses, to encounter the expense and other embarrassments of so distant an expedition, were steps too delicate, too closely interwoven with many affecting considerations, to be lightly adopted.\\n\\ni postponed, therefore, the summoning of the militia immediately into the field, but i required them to be held in readiness, that if my anxious endeavors to reclaim the deluded and to convince the malignant of their danger should be fruitless, military force might be prepared to act before the season should be too far advanced.\\n\\nmy proclamation of the 7th of august last was accordingly issued, and accompanied by the appointment of commissioners, who were charged to repair to the scene of insurrection. they were authorized to confer with any bodies of men or individuals. they were instructed to be candid and explicit in stating the sensations which had been excited in the executive, and his earnest wish to avoid a resort to coercion; to represent, however, that, without submission, coercion must be the resort; but to invite them, at the same time, to return to the demeanor of faithful citizens, by such accommodations as lay within the sphere of executive power. pardon, too, was tendered to them by the government of the united states and that of pennsylvania, upon no other condition than a satisfactory assurance of obedience to the laws.\\n\\nalthough the report of the commissioners marks their firmness and abilities, and must unite all virtuous men, by shewing that the means of conciliation have been exhausted, all of those who had committed or abetted the tumults did not subscribe the mild form which was proposed as the atonement, and the indications of a peaceable temper were neither sufficiently general nor conclusive to recommend or warrant the further suspension of the march of the militia.\\n\\nthus the painful alternative could not be discarded. i ordered the militia to march, after once more admonishing the insurgents in my proclamation of the 25th of september last.\\n\\nit was a task too difficult to ascertain with precision the lowest degree of force competent to the quelling of the insurrection. from a respect, indeed, to economy and the ease of my fellow citizens belonging to the militia, it would have gratified me to accomplish such an estimate. my very reluctance to ascribe too much importance to the opposition, had its extent been accurately seen, would have been a decided inducement to the smallest efficient numbers. in this uncertainty, therefore, i put into motion fifteen thousand men, as being an army which, according to all human calculation, would be prompt and adequate in every view, and might, perhaps, by rendering resistance desperate, prevent the effusion of blood. quotas had been assigned to the states of new jersey, pennsylvania, maryland, and virginia, the governor of pennsylvania having declared on this occasion an opinion which justified a requisition to the other states.\\n\\nas commander in chief of the militia when called into the actual service of the united states, i have visited the places of general rendezvous to obtain more exact information and to direct a plan for ulterior movements. had there been room for a persuasion that the laws were secure from obstruction; that the civil magistrate was able to bring to justice such of the most culpable as have not embraced the proffered terms of amnesty, and may be deemed fit objects of example; that the friends to peace and good government were not in need of that aid and countenance which they ought always to receive, and, i trust, ever will receive, against the vicious and turbulent, i should have caught with avidity the opportunity of restoring the militia to their families and homes. but succeeding intelligence has tended to manifest the necessity of what has been done, it being now confessed by those who were not inclined to exaggerate the ill conduct of the insurgents that their malevolence was not pointed merely to a particular law, but that a spirit inimical to all order has actuated many of the offenders. if the state of things had afforded reason for the continuance of my presence with the army, it would not have been withholden. but every appearance assuring such an issue as will redound to the reputation and strength of the united states, i have judged it most proper to resume my duties at the seat of government, leaving the chief command with the governor of virginia.\\n\\nstill, however, as it is probable that in a commotion like the present, whatsoever may be the pretense, the purposes of mischief and revenge may not be laid aside, the stationing of a small force for a certain period in the four western counties of pennsylvania will be indispensable, whether we contemplate the situation of those who are connected with the execution of the laws or of others who may have exposed themselves by an honorable attachment to them. thirty days from the commencement of this session being the legal limitation of the employment of the militia, congress can not be too early occupied with this subject.\\n\\namong the discussions which may arise from this aspect of our affairs, and from the documents which will be submitted to congress, it will not escape their observation that not only the inspector of the revenue, but other officers of the united states in pennsylvania have, from their fidelity in the discharge of their functions, sustained material injuries to their property. the obligation and policy of indemnifying them are strong and obvious. it may also merit attention whether policy will not enlarge this provision to the retribution of other citizens who, though not under the ties of office, may have suffered damage by their generous exertions for upholding the constitution and the laws. the amount, even if all the injured were included, would not be great, and on future emergencies the government would be amply repaid by the influence of an example that he who incurs a loss in its defense shall find a recompense in its liberality.\\n\\nwhile there is cause to lament that occurrences of this nature should have disgraced the name or interrupted the tranquillity of any part of our community, or should have diverted to a new application any portion of the public resources, there are not wanting real and substantial consolations for the misfortune. it has demonstrated that our prosperity rests on solid foundations, by furnishing an additional proof that my fellow citizens understand the true principles of government and liberty; that they feel their inseparable union; that notwithstanding all the devices which have been used to sway them from their interest and duty, they are not as ready to maintain the authority of the laws against licentious invasions as they were to defend their rights against usurpation. it has been a spectacle displaying to the highest advantage of republican government to behold the most and the least wealthy of our citizens standing in the same ranks as private soldiers, preeminently distinguished by being the army of the constitution?undeterred by a march of 300 miles over rugged mountains, by approach of an inclement season, or by any other discouragement. nor ought i to omit to acknowledge the efficacious and patriotic cooperation which i have experienced from the chief magistrates of the states to which my requisitions have been addressed.\\n\\nto every description of citizens, let praise be given, but let them persevere in their affectionate vigilance over that precious depository of american happiness, the constitution of the united states. let them cherish it, too, for the sake of those who, from every clime, are daily seeking a dwelling in our land. and when in the calm moments of reflection they shall have retraced the origin and progress of the insurrection, let them determine whether it has not been fomented by combinations of men who, careless of consequences and disregarding the unerring truth that those who rouse can not always appease a civil convulsion, have disseminated, from an ignorance or perversion of facts, suspicions, jealousies, and accusations of the whole government.\\n\\nhaving thus fulfilled the engagement which i took when i entered into office, \"to the best of my ability to preserve, protect, and defend the constitution of the united states\", on you, gentlemen, and the people by whom you are deputed, i rely for support.\\n\\nin the arrangement to which the possibility of a similar contingency will naturally draw your attention it ought not to be forgotten that the militia laws have exhibited such striking defects as could not have been supplied by the zeal of our citizens. besides the extraordinary expense and waste, which are not the least of the defects, every appeal to those laws is attended with a doubt on its success.\\n\\nthe devising and establishing of a well regulated militia would be a genuine source of legislative honor and a perfect title to public gratitude. i therefore entertain a hope that the present session will not pass without carrying to its full energy the power of organizing, arming, and disciplining the militia, and thus providing, in the language of the constitution, for calling them forth to execute the laws of the union, suppress insurrections, and repel invasions.\\n\\nas auxiliary to the state of our defense, to which congress can never too frequently recur, they will not omit to inquire whether the fortifications which have been already licensed by law be commensurate with our exigencies.\\n\\nthe intelligence from the army under the command of general wayne is a happy presage to our military operations against the hostile indians north of the ohio. from the advices which have been forwarded, the advance which he has made must have damped the ardor of the savages and weakened their obstinacy in waging war against the united states. and yet, even at this late hour, when our power to punish them can not be questioned, we shall not be unwilling to cement a lasting peace upon terms of candor, equity, and good neighborhood.\\n\\ntoward none of the indian tribes have overtures of friendship been spared. the creeks in particular are covered from encroachment by the imposition of the general government and that of georgia. from a desire also to remove the discontents of the six nations, a settlement mediated at presque isle, on lake erie, has been suspended, and an agent is now endeavoring to rectify any misconception into which they may have fallen. but i can not refrain from again pressing upon your deliberations the plan which i recommended at the last session for the improvement of harmony with all the indians within our limits by the fixing and conducting of trading houses upon the principles then expressed.\\n\\ngentlemen of the house of representatives:\\n\\nthe time which has elapsed since the commencement of our fiscal measures has developed our pecuniary resources so as to open the way for a definite plan for the redemption of the public debt. it is believed that the result is such as to encourage congress to consummate this work without delay. nothing can more promote the permanent welfare of the nation and nothing would be more grateful to our constituents. indeed, whatsoever is unfinished of our system of public credit can not be benefited by procrastination; and as far as may be practicable we ought to place that credit on grounds which can not be disturbed, and to prevent that progressive accumulation of debt which must ultimately endanger all governments.\\n\\nan estimate of the necessary appropriations, including the expenditures into which we have been driven by the insurrection, will be submitted to congress.\\n\\ngentlemen of the senate and of the house of representatives:\\n\\nthe mint of the united states has entered upon the coinage of the precious metals, and considerable sums of defective coins and bullion have been lodged with the director by individuals. there is a pleasing prospect that the institution will at no remote day realize the expectation which was originally formed of its utility.\\n\\nin subsequent communications certain circumstances of our intercourse with foreign nations will be transmitted to congress. however, it may not be unseasonable to announce that my policy in our foreign transactions has been to cultivate peace with all the world; to observe the treaties with pure and absolute faith; to check every deviation from the line of impartiality; to explain what may have been misapprehended and correct what may have been injurious to any nation, and having thus acquired the right, to lose no time in acquiring the ability to insist upon justice being done to ourselves.\\n\\nlet us unite, therefore, in imploring the supreme ruler of nations to spread his holy protection over these united states; to turn the machinations of the wicked to the confirming of our constitution; to enable us at all times to root out internal sedition and put invasion to flight; to perpetuate to our country that prosperity which his goodness has already conferred, and to verify the anticipations of this government being a safeguard of human rights.\\n\\n\\nfellow-citizens of the senate and house of representatives:\\n\\ni trust i do not deceive myself when i indulge the persuasion that i have never met you at any period when more than at the present the situation of our public affairs has afforded just cause for mutual congratulation, and for inviting you to join with me in profound gratitude to the author of all good for the numerous and extraordinary blessings we enjoy.\\n\\nthe termination of the long, expensive, and distressing war in which we have been engaged with certain indians northwest of the ohio is placed in the option of the united states by a treaty which the commander of our army has concluded provisionally with the hostile tribes in that region.\\n\\nin the adjustment of the terms the satisfaction of the indians was deemed worthy no less of the policy than of the liberality of the united states as the necessary basis of durable tranquillity. the object, it is believed, has been fully attained. the articles agreed upon will immediately be laid before the senate for their consideration.\\n\\nthe creek and cherokee indians, who alone of the southern tribes had annoyed our frontiers, have lately confirmed their preexisting treaties with us, and were giving evidence of a sincere disposition to carry them into effect by the surrender of the prisoners and property they had taken. but we have to lament that the fair prospect in this quarter has been once more clouded by wanton murders, which some citizens of georgia are represented to have recently perpetrated on hunting parties of the creeks, which have again subjected that frontier to disquietude and danger, which will be productive of further expense, and may occasion more effusion of blood. measures are pursuing to prevent or mitigate the usual consequences of such outrages, and with the hope of their succeeding at least to avert general hostility.\\n\\na letter from the emperor of morocco announces to me his recognition of our treaty made with his father, the late emperor, and consequently the continuance of peace with that power. with peculiar satisfaction i add that information has been received from an agent deputed on our part to algiers importing that the terms of the treaty with the dey and regency of that country had been adjusted in such a manner as to authorize the expectation of a speedy peace and the restoration of our unfortunate fellow citizens from a grievous captivity.\\n\\nthe latest advices from our envoy at the court of madrid give, moreover, the pleasing information that he had assurances of a speedy and satisfactory conclusion of his negotiation. while the event depending upon unadjusted particulars can not be regarded as ascertained, it is agreeable to cherish the expectation of an issue which, securing amicably very essential interests of the united states, will at the same time lay the foundation of lasting harmony with a power whose friendship we have uniformly and sincerely desired to cultivate.\\n\\nthough not before officially disclosed to the house of representatives, you, gentlemen, are all apprised that a treaty of amity, commerce, and navigation has been negotiated with great britain, and that the senate have advised and consented to its ratification upon a condition which excepts part of one article. agreeably thereto, and to the best judgment i was able to form of the public interest after full and mature deliberation, i have added my sanction. the result on the part of his britannic majesty is unknown. when received, the subject will without delay be placed before congress.\\n\\nthis interesting summary of our affairs with regard to the foreign powers between whom and the united states controversies have subsisted, and with regard also to those of our indian neighbors with whom we have been in a state of enmity or misunderstanding, opens a wide field for consoling and gratifying reflections. if by prudence and moderation on every side the extinguishment of all the causes of external discord which have heretofore menaced our tranquillity, on terms compatible with our national rights and honor, shall be the happy result, how firm and how precious a foundation will have been laid for accelerating, maturing, and establishing the prosperity of our country.\\n\\ncontemplating the internal situation as well as the external relations of the united states, we discover equal cause for contentment and satisfaction. while many of the nations of europe, with their american dependencies, have been involved in a contest unusually bloody, exhausting, and calamitous, in which the evils of foreign war have been aggravated by domestic convulsion and insurrection; in which many of the arts most useful to society have been exposed to discouragement and decay; in which scarcity of subsistence has imbittered other sufferings; while even the anticipations of a return of the blessings of peace and repose are alloyed by the sense of heavy and accumulating burthens, which press upon all the departments of industry and threaten to clog the future springs of government, our favored country, happy in a striking contrast, has enjoyed tranquillity?a tranquillity the more satisfactory because maintained at the expense of no duty. faithful to ourselves, we have violated no obligation to others.\\n\\nour agriculture, commerce, and manufactures prosper beyond former example, the molestations of our trade (to prevent a continuance of which, however, very pointed remonstrances have been made) being overbalanced by the aggregate benefits which it derives from a neutral position. our population advances with a celerity which, exceeding the most sanguine calculations, proportionally augments our strength and resources, and guarantees our future security.\\n\\nevery part of the union displays indications of rapid and various improvement; and with burthens so light as scarcely to be perceived, with resources fully adequate to our present exigencies, with governments founded on the genuine principles of rational liberty, and with mild and wholesome laws, is it too much to say that our country exhibits a spectacle of national happiness never surpassed, if ever before equaled?\\n\\nplaced in a situation every way so auspicious, motives of commanding force impel us, with sincere acknowledgment to heaven and pure love to our country, to unite our efforts to preserve, prolong, and improve our immense advantages. to cooperate with you in this desirable work is a fervent and favorite wish of my heart.\\n\\nit is a valuable ingredient in the general estimate of our welfare that the part of our country which was lately the scene of disorder and insurrection now enjoys the blessings of quiet and order. the misled have abandoned their errors, and pay the respect to our constitution and laws which is due from good citizens to the public authorities of the society. these circumstances have induced me to pardon generally the offenders here referred to, and to extend forgiveness to those who had been adjudged to capital punishment. for though i shall always think it a sacred duty to exercise with firmness and energy the constitutional powers with which i am vested, yet it appears to me no less consistent with the public good than it is with my personal feelings to mingle in the operations of government every degree of moderation and tenderness which the national justice, dignity, and safety may permit.\\n\\ngentlemen: among the objects which will claim your attention in the course of the session, a review of our military establishment is not the least important. it is called for by the events which have changed, and may be expected still further to change, the relative situation of our frontiers. in this review you will doubtless allow due weight to the considerations that the questions between us and certain foreign powers are not yet finally adjusted, that the war in europe is not yet terminated, and that our western posts, when recovered, will demand provision for garrisoning and securing them. a statement of our present military force will be laid before you by the department of war.\\n\\nwith the review of our army establishment is naturally connected that of the militia. it will merit inquiry what imperfections in the existing plan further experience may have unfolded. the subject is of so much moment in my estimation as to excite a constant solicitude that the consideration of it may be renewed until the greatest attainable perfection shall be accomplished. time is wearing away some advantages for forwarding the object, while none better deserves the persevering attention of the public councils.\\n\\nwhile we indulge the satisfaction which the actual condition of our western borders so well authorizes, it is necessary that we should not lose sight of an important truth which continually receives new confirmations, namely, that the provisions heretofore made with a view to the protection of the indians from the violences of the lawless part of our frontier inhabitants are insufficient. it is demonstrated that these violences can now be perpetrated with impunity, and it can need no argument to prove that unless the murdering of indians can be restrained by bringing the murderers to condign punishment, all the exertions of the government to prevent destructive retaliations by the indians will prove fruitless and all our present agreeable prospects illusory. the frequent destruction of innocent women and children, who are chiefly the victims of retaliation, must continue to shock humanity, and an enormous expense to drain the treasury of the union.\\n\\nto enforce upon the indians the observance of justice it is indispensable that there shall be competent means of rendering justice to them. if these means can be devised by the wisdom of congress, and especially if there can be added an adequate provision for supplying the necessities of the indians on reasonable terms (a measure the mention of which i the more readily repeat, as in all the conferences with them they urge it with solicitude), i should not hesitate to entertain a strong hope of rendering our tranquillity permanent. i add with pleasure that the probability even of their civilization is not diminished by the experiments which have been thus far made under the auspices of government. the accomplishment of this work, if practicable, will reflect undecaying luster on our national character and administer the most grateful consolations that virtuous minds can know.\\n\\ngentlemen of the house of representatives:\\n\\nthe state of our revenue, with the sums which have been borrowed and reimbursed pursuant to different acts of congress, will be submitted from the proper department, together with an estimate of the appropriations necessary to be made for the service of the ensuing year.\\n\\nwhether measures may not be advisable to reinforce the provision of the redemption of the public debt will naturally engage your examination. congress have demonstrated their sense to be, and it were superfluous to repeat mine, that whatsoever will tend to accelerate the honorable extinction of our public debt accords as much with the true interest of our country as with the general sense of our constituents.\\n\\ngentlemen of the senate and of the house of representatives:\\n\\nthe statements which will be laid before you relative to the mint will shew the situation of that institution and the necessity of some further legislative provisions for carrying the business of it more completely into effect, and for checking abuses which appear to be arising in particular quarters.\\n\\nthe progress in providing materials for the frigates and in building them, the state of the fortifications of our harbors, the measures which have been pursued for obtaining proper sites for arsenals and for replenishing our magazines with military stores, and the steps which have been taken toward the execution of the law for opening a trade with the indians will likewise be presented for the information of congress.\\n\\ntemperate discussion of the important subjects which may arise in the course of the session and mutual forbearance where there is a difference of opinion are too obvious and necessary for the peace, happiness, and welfare of our country to need any recommendation of mine.\\n\\n\\nfellow-citizens of the senate and house of representatives:\\n\\nin recurring to the internal situation of our country since i had last the pleasure to address you, i find ample reason for a renewed expression of that gratitude to the ruler of the universe which a continued series of prosperity has so often and so justly called forth.\\n\\nthe acts of the last session which required special arrangements have been as far as circumstances would admit carried into operation.\\n\\nmeasures calculated to insure a continuance of the friendship of the indians and to preserve peace along the extent of our interior frontier have been digested and adopted. in the framing of these care has been taken to guard on the one hand our advanced settlements from the predatory incursions of those unruly individuals who can not be restrained by their tribes, and on the other hand to protect the rights secured to the indians by treaty?to draw them nearer to the civilized state and inspire them with correct conceptions of the power as well as justice of the government.\\n\\nthe meeting of the deputies from the creek nation at colerain, in the state of georgia, which had for a principal object the purchase of a parcel of their land by that state, broke up without its being accomplished, the nation having previous to their departure instructed them against making any sale. the occasion, however, has been improved to confirm by a new treaty with the creeks their preexisting engagements with the united states, and to obtain their consent to the establishment of trading houses and military posts within their boundary, by means of which their friendship and the general peace may be more effectually secured.\\n\\nthe period during the late session at which the appropriation was passed for carrying into effect the treaty of amity, commerce, and navigation between the united states and his brittanic majesty necessarily procrastinated the reception of the posts stipulated to be delivered beyond the date assigned for that event. as soon, however, as the governor-general of canada could be addressed with propriety on the subject, arrangements were cordially and promptly concluded for their evacuation, and the united states took possession of the principal of them, comprehending oswego, niagara, detroit, michilimackinac, and fort miami, where such repairs and additions have been ordered to be made as appeared indispensable.\\n\\nthe commissioners appointed on the part of the united states and of great britain to determine which is the river st. croix mentioned in the treaty of peace of 1783, agreed in the choice of egbert benson, esq., of new york, for the 3rd commissioner. the whole met at st. andrew\\'s, in passamaquoddy bay, in the beginning of october, and directed surveys to be made of the rivers in dispute; but deeming it impracticable to have these surveys completed before the next year, they adjourned to meet at boston in august, 1797, for the final decision of the question.\\n\\nother commissioners appointed on the part of the united states, agreeably to the 7th article of the treaty with great britain, relative to captures and condemnation of vessels and other property, met the commissioners of his britannic majesty in london in august last, when john trumbull, esq., was chosen by lot for the 5th commissioner. in october following the board were to proceed to business. as yet there has been no communication of commissioners on the part of great britain to unite with those who have been appointed on the part of the united states for carrying into effect the 6th article of the treaty.\\n\\nthe treaty with spain required that the commissioners for running the boundary line between the territory of the united states and his catholic majesty\\'s provinces of east and west florida should meet at the natchez before the expiration of 6 months after the exchange of the ratifications, which was effected at aranjuez on the 25th day of april; and the troops of his catholic majesty occupying any posts within the limits of the united states were within the same time period to be withdrawn. the commissioner of the united states therefore commenced his journey for the natchez in september, and troops were ordered to occupy the posts from which the spanish garrisons should be withdrawn. information has been recently received of the appointment of a commissioner on the part of his catholic majesty for running the boundary line, but none of any appointment for the adjustment of the claims of our citizens whose vessels were captured by the armed vessels of spain.\\n\\nin pursuance of the act of congress passed in the last session for the protection and relief of american sea-men, agents were appointed, one to reside in great britain and the other in the west indies. the effects of the agency in the west indies are not yet fully ascertained, but those which have been communicated afford grounds to believe the measure will be beneficial. the agent destined to reside in great britain declining to accept the appointment, the business has consequently devolved on the minister of the united states in london, and will command his attention until a new agent shall be appointed.\\n\\nafter many delays and disappointments arising out of the european war, the final arrangements for fulfilling the engagements made to the dey and regency of algiers will in all present appearance be crowned with success, but under great, though inevitable, disadvantages in the pecuniary transactions occasioned by that war, which will render further provision necessary. the actual liberation of all our citizens who were prisoners in algiers, while it gratifies every feeling of heart, is itself an earnest of a satisfactory termination of the whole negotiation. measures are in operation for effecting treaties with the regencies of tunis and tripoli.\\n\\nto an active external commerce the protection of a naval force is indispensable. this is manifest with regard to wars in which a state is itself a party. but besides this, it is in our own experience that the most sincere neutrality is not a sufficient guard against the depredations of nations at war. to secure respect to a neutral flag requires a naval force organized and ready to vindicate it from insult or aggression. this may even prevent the necessity of going to war by discouraging belligerent powers from committing such violations of the rights of the neutral party as may, first or last, leave no other option. from the best information i have been able to obtain it would seem as if our trade to the mediterranean without a protecting force will always be insecure and our citizens exposed to the calamities from which numbers of them have but just been relieved.\\n\\nthese considerations invite the united states to look to the means, and to set about the gradual creation of a navy. the increasing progress of their navigation promises them at no distant period the requisite supply of sea-men, and their means in other respects favor the undertaking. it is an encouragement, likewise, that their particular situation will give weight and influence to a moderate naval force in their hands. will it not, then, be advisable to begin without delay to provide and lay up the materials for the building and equipping of ships of war, and to proceed in the work by degrees, in proportion as our resources shall render it practicable without inconvenience, so that a future war of europe may not find our commerce in the same unprotected state in which it was found by the present?\\n\\ncongress have repeatedly, and not without success, directed their attention to the encouragement of manufactures. the object is of too much consequence not to insure a continuance of their efforts in every way which shall appear eligible. as a general rule, manufactures on public account are inexpedient; but where the state of things in a country leaves little hope that certain branches of manufacture will for a great length of time obtain, when these are of a nature essential to the furnishing and equipping of the public force in time of war, are not establishments for procuring them on public account to the extent of the ordinary demand for the public service recommended by strong considerations of national policy as an exception to the general rule?\\n\\nought our country to remain in such cases dependent on foreign supply, precarious because liable to be interrupted? if the necessary article should in this mode cost more in time of peace, will not the security and independence thence arising form an ample compensation?\\n\\nestablishments of this sort, commensurate only with the calls of the public service in time of peace, will in time of war easily be extended in proportion to the exigencies of the government, and may even perhaps be made to yield a surplus for the supply of our citizens at large, so as to mitigate the privations from the interruption of their trade. if adopted, the plan ought to exclude all those branches which are already, or likely soon to be, established in the country, in order that there may be no danger of interference with pursuits of individual industry.\\n\\nit will not be doubted that with reference either to individual or national welfare agriculture is of primary importance. in proportion as nations advance in population and other circumstances of maturity this truth becomes more apparent, and renders the cultivation of the soil more and more an object of public patronage. institutions for promoting it grow up, supported by the public purse; and to what object can it be dedicated with greater propriety?\\n\\namong the means which have been employed to this end none have been attended with greater success than the establishment of boards (composed of proper characters) charged with collecting and diffusing information, and enabled by premiums and small pecuniary aids to encourage and assist a spirit of discovery and improvement. this species of establishment contributes doubly to the increase of improvement by stimulating to enterprise and experiment, and by drawing to a common center the results everywhere of individual skill and observation, and spreading them thence over the whole nation. experience accordingly has shewn that they are very cheap instruments of immense national benefits.\\n\\ni have heretofore proposed to the consideration of congress the expediency of establishing a national university and also a military academy. the desirableness of both these institutions has so constantly increased with every new view i have taken of the subject that i can not omit the opportunity of once for all recalling your attention to them.\\n\\nthe assembly to which i address myself is too enlightened not to be fully sensible how much a flourishing state of the arts and sciences contributes to national prosperity and reputation.\\n\\ntrue it is that our country, much to its honor, contains many seminaries of learning highly repeatable and useful; but the funds upon which they rest are too narrow to command the ablest professors in the different departments of liberal knowledge for the institution contemplated, though they would be excellent auxiliaries.\\n\\namongst the motives to such an institution, the assimilation of the principles, opinions, and manners of our country-men by the common education of a portion of our youth from every quarter well deserves attention. the more homogenous our citizens can be made in these particulars the greater will be our prospect of permanent union; and a primary object of such a national institution should be the education of our youth in the science of government. in a republic what species of knowledge can be equally important and what duty more pressing on its legislature than to patronize a plan for communicating it to those who are to be the future guardians of the liberties of the country?\\n\\nthe institution of a military academy is also recommended by cogent reasons. however pacific the general policy of a nation may be, it ought never to be without an adequate stock of military knowledge for emergencies. the first would impair the energy of its character, and both would hazard its safety or expose it to greater evils when war could not be avoided; besides that, war might often not depend upon its own choice. in proportion as the observance of pacific maxims might exempt a nation from the necessity of practicing the rules of the military art ought to be its care in preserving and transmitting, by proper establishments, the knowledge of that art.\\n\\nwhatever argument may be drawn from particular examples superficially viewed, a thorough examination of the subject will evince that the art of war is at once comprehensive and complicated, that it demands much previous study, and that the possession of it in its most improved and perfect state is always of great moment to the security of a nation. this, therefore, ought to be a serious care of every government, and for this purpose an academy where a regular course of instruction is given is an obvious expedient which different nations have successfully employed.\\n\\nthe compensation to the officers of the united states in various instances, and in none more than in respect to the most important stations, appear to call for legislative revision. the consequences of a defective provision are of serious import to the government. if private wealth is to supply the defect of public retribution, it will greatly contract the sphere within which the selection of character for office is to be made, and will proportionally diminish the probability of a choice of men able as well as upright. besides that, it should be repugnant to the vital principles of our government virtually to exclude from public trusts talents and virtue unless accompanied by wealth.\\n\\nwhile in our external relations some serious inconveniences and embarrassments have been overcome and others lessened, it is with much pain and deep regret i mention that circumstances of a very unwelcome nature have lately occurred. our trade has suffered and is suffering extensive injuries in the west indies from the cruisers and agents of the french republic, and communications have been received from its minister here which indicate the danger of a further disturbance of our commerce by its authority, and which are in other respects far from agreeable.\\n\\nit has been my constant, sincere, and earnest wish, in conformity with that of our nation, to maintain cordial harmony and a perfectly friendly understanding with that republic. this wish remains unabated, and i shall persevere in the endeavor to fulfill it to the utmost extent of what shall be consistent with a just and indispensable regard to the rights and honor of our country; nor will i easily cease to cherish the expectation that a spirit of justice, candor, and friendship on the part of the republic will eventually insure success.\\n\\nin pursuing this course, however, i can not forget what is due to the character of our government and nation, or to a full and entire confidence in the good sense, patriotism, self-respect, and fortitude of my country-men.\\n\\ni reserve for a special message a more particular communication on this interesting subject.\\n\\ngentlemen of the house of representatives:\\n\\ni have directed an estimate of the appropriations necessary for the service of the ensuing year to be submitted from the proper department, with a view of the public receipts and expenditures to the latest period to which an account can be prepared.\\n\\nit is with satisfaction i am able to inform you that the revenues of the united states continue in a state of progressive improvement.\\n\\na reenforcement of the existing provisions for discharging our public debt was mentioned in my address at the opening of the last session. some preliminary steps were taken toward it, the maturing of which will no doubt engage your zealous attention during the present. i will only add that it will afford me a heart-felt satisfaction to concur in such further measures as will ascertain to our country the prospect of a speedy extinguishment of the debt. posterity may have cause to regret if from any motive intervals of tranquillity are left unimproved for accelerating this valuable end.\\n\\ngentlemen of the senate and of the house of representatives:\\n\\nmy solicitude to see the militia of the united states placed on an efficient establishment has been so often and so ardently expressed that i shall but barely recall the subject to your view on the present occasion, at the same time that i shall submit to your inquiry whether our harbors are yet sufficiently secured.\\n\\nthe situation in which i now stand for the last time, in the midst of the representatives of the people of the united states, naturally recalls the period when the administration of the present form of government commenced, and i can not omit the occasion to congratulate you and my country on the success of the experiment, nor to repeat my fervent supplications to the supreme ruler of the universe and sovereign arbiter of nations that his providential care may still be extended to the united states, that the virtue and happiness of the people may be preserved, and that the government which they have instituted for the protection of their liberties may be perpetual.'"
      ]
     },
     "execution_count": 8,
     "metadata": {},
     "output_type": "execute_result"
    }
   ],
   "source": [
    "# Put your code for Question 3 here\n",
    "textfile = open('WashingtonSOTU.txt','r')\n",
    "sotu_text = textfile.read()\n",
    "\n",
    "sotu_text = sotu_text.lower()\n",
    "\n",
    "sotu_text"
   ]
  },
  {
   "cell_type": "markdown",
   "metadata": {},
   "source": [
    "---\n",
    "### &#128721; STOP\n",
    "**Pause to commit your changes to your Git repository!**\n",
    "\n",
    "Take a moment to save your notebook, commit the changes to your Git repository using the commit message \"Committing part 3.3\", and push the changes to GitHub.\n",
    "\n",
    "---"
   ]
  },
  {
   "cell_type": "markdown",
   "metadata": {},
   "source": [
    "### 3.4: Identify the most frequently used words in the SOTU addresses (4 points)\n",
    "\n",
    "&#9989; **Question 4 [4 points]**: Next, we will use NLTK to breakup the pre-processed text into \"tokens\" and make a histogram showing the most frequently used tokens. Do the following:\n",
    "\n",
    "* Use the `nltk.tokenize.word_tokenize()` method on the pre-processed text to obtain a list of tokens in the text. \n",
    "* Use the `nltk.FreqDist()` method to count the number of times each token appears in the text. \n",
    "* Finally, make a plot showing the 30 most frequently used tokens and the number of times each token appears in the text. \n",
    "\n",
    "**Hint**: You are strongly encouraged to use your favorite search engine to find example code which does this."
   ]
  },
  {
   "cell_type": "code",
   "execution_count": null,
   "metadata": {},
   "outputs": [],
   "source": [
    "# Put your code for Question 4 here"
   ]
  },
  {
   "cell_type": "markdown",
   "metadata": {},
   "source": [
    "---\n",
    "### &#128721; STOP\n",
    "**Pause to commit your changes to your Git repository!**\n",
    "\n",
    "Take a moment to save your notebook, commit the changes to your Git repository using the commit message \"Committing part 3.4\", and push the changes to GitHub.\n",
    "\n",
    "---"
   ]
  },
  {
   "cell_type": "markdown",
   "metadata": {},
   "source": [
    "### 3.5: Remove stop words (7 points)\n",
    "\n",
    "In the field of natural language processing (NLP), _stop words_ are words which are very commonly used in the English language, and thus, carry very little information about the text it came from. \n",
    "\n",
    "&#9989; **Question 5 [2 points]**: Look at 30 most frequently occuring tokens in your histogram from Part 3.4. Which of these tokens do think would appear in almost any English text, and which of these tokens do you think are at least somewhat specific to a State of the Union address? If you were asked to pick 30 words which are most characteristic of a speech by President George Washington, would the 30 most frequently occuring tokens you found be a good choice? Why or why not?"
   ]
  },
  {
   "cell_type": "markdown",
   "metadata": {},
   "source": [
    "<font size=+3>&#9998;</font> Do This - Erase the contents of this cell and replace it with your answer to the above question!  (double-click on this text to edit this cell, and hit shift+enter to save the text)"
   ]
  },
  {
   "cell_type": "markdown",
   "metadata": {},
   "source": [
    "&#9989; **Question 6 [5 points]**: Make another histogram, but this time without stop words or punctuation marks. Do the following:\n",
    "\n",
    "* Use `nltk.corpus.stopwords.words('english')` to obtain a list of stop words in the English language.\n",
    "* Go through the list of tokens and remove any which are in the list of stop words. Also, remove the punctuation marks `,`, `.`, `;`, and `:`. You can use a for loop, list comprehension, or any other method you'd like to do this.\n",
    "* Finally, make a plot showing the 30 most frequently used tokens that aren't stop words or punctuation marks and the number of times each token appears in the text. \n",
    "\n",
    "**Hint**: Again, you are strongly encouraged to use your favorite search engine to find example code which does this."
   ]
  },
  {
   "cell_type": "code",
   "execution_count": null,
   "metadata": {},
   "outputs": [],
   "source": [
    "# Put your code for Question 6 here"
   ]
  },
  {
   "cell_type": "markdown",
   "metadata": {},
   "source": [
    "---\n",
    "### &#128721; STOP\n",
    "**Pause to commit your changes to your Git repository!**\n",
    "\n",
    "Take a moment to save your notebook, commit the changes to your Git repository using the commit message \"Committing part 3.5\", and push the changes to GitHub.\n",
    "\n",
    "---"
   ]
  },
  {
   "cell_type": "markdown",
   "metadata": {},
   "source": [
    "---\n",
    "## Assignment wrap-up\n",
    "\n",
    "Please fill out the form that appears when you run the code below.  **You must completely fill this out in order to receive credit for the assignment!**"
   ]
  },
  {
   "cell_type": "code",
   "execution_count": null,
   "metadata": {},
   "outputs": [],
   "source": [
    "from IPython.display import HTML\n",
    "HTML(\n",
    "\"\"\"\n",
    "<iframe \n",
    "\tsrc=\"https://forms.office.com/Pages/ResponsePage.aspx?id=MHEXIi9k2UGSEXQjetVofW5KC5LXMwdNiylLj_y2A4lURUNPRFk1NkxaWTVENEhOV0pJOTVOR045Ty4u\" \n",
    "\twidth=\"800px\" \n",
    "\theight=\"600px\" \n",
    "\tframeborder=\"0\" \n",
    "\tmarginheight=\"0\" \n",
    "\tmarginwidth=\"0\">\n",
    "\tLoading...\n",
    "</iframe>\n",
    "\"\"\"\n",
    ")"
   ]
  },
  {
   "cell_type": "markdown",
   "metadata": {},
   "source": [
    "### Congratulations, you're done!\n",
    "\n",
    "Submit this assignment by uploading it to the course Desire2Learn web page.  Go to the \"Homework Assignments\" folder, find the dropbox link for Homework #1, and upload it there."
   ]
  },
  {
   "cell_type": "markdown",
   "metadata": {},
   "source": [
    "&#169; Copyright 2022,  Department of Computational Mathematics, Science and Engineering at Michigan State University"
   ]
  }
 ],
 "metadata": {
  "anaconda-cloud": {},
  "kernelspec": {
   "display_name": "Python 3",
   "language": "python",
   "name": "python3"
  },
  "language_info": {
   "codemirror_mode": {
    "name": "ipython",
    "version": 3
   },
   "file_extension": ".py",
   "mimetype": "text/x-python",
   "name": "python",
   "nbconvert_exporter": "python",
   "pygments_lexer": "ipython3",
   "version": "3.8.8"
  },
  "toc": {
   "base_numbering": 1,
   "nav_menu": {},
   "number_sections": true,
   "sideBar": true,
   "skip_h1_title": false,
   "title_cell": "Table of Contents",
   "title_sidebar": "Contents",
   "toc_cell": false,
   "toc_position": {},
   "toc_section_display": true,
   "toc_window_display": false
  }
 },
 "nbformat": 4,
 "nbformat_minor": 4
}
