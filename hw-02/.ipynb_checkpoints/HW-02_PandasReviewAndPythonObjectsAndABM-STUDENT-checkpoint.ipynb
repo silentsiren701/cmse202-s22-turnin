{
 "cells": [
  {
   "cell_type": "markdown",
   "metadata": {},
   "source": [
    "# Homework Assignment #2 (Individual)\n",
    "## Pandas Review, Python Classes, and ABM"
   ]
  },
  {
   "cell_type": "markdown",
   "metadata": {},
   "source": [
    "### <p style=\"text-align: right;\"> &#9989; Put your name here.</p>\n",
    "### <p style=\"text-align: right;\"> &#9989; Put your _GitHub username_ here.</p>"
   ]
  },
  {
   "cell_type": "markdown",
   "metadata": {},
   "source": [
    "### Goals for this homework assignment\n",
    "By the end of this assignment, you should be able to:\n",
    "* Use Git to create a repository, create a new branch, merge branches, track changes to the files within the repository, and push those changes to a remote repository.\n",
    "* Use your Pandas skills to load and explore some data and visualize it with seaborn.\n",
    "* Read and write Python classes, including classes that leverage object inheritance and composition.\n",
    "* Run and agent based model simulation.\n",
    "\n",
    "Work through the following assignment, making sure to follow all of the directions and answer all of the questions.\n",
    "\n",
    "There are **98 points** possible on this assignment. Point values for each part are included in the section headers and question prompts.\n",
    "\n",
    "**This assignment is due in roughly two weeks from now at 11:59 pm on Friday, February 18.** It should be uploaded into the \"Homework Assignments\" submission folder for Homework #2.  Submission instructions can be found at the end of the notebook."
   ]
  },
  {
   "cell_type": "markdown",
   "metadata": {},
   "source": [
    "---\n",
    "## Part 1: Add to your Git repository to track your progress on your assignment (6 points)\n",
    "\n",
    "For this assignment, you're going to add it to the `cmse202-s22-turnin` repository you created in class so that you can track your progress on the assignment and preserve the final version that you turn in. In order to do this you need to\n",
    "\n",
    "**&#9989; Do the following**:\n",
    "\n",
    "1. Navigate to your `cmse202-s22-turnin` repository and create a new directory called `hw-02`.\n",
    "2. Move this notebook into that **new directory** in your repository, then **add it and commit it to your repository**.\n",
    "1. Finally, to test that everything is working, \"git push\" the file so that it ends up in your GitHub repository.\n",
    "\n",
    "**Important**: Double check you've added your Professor and your TA as collaborators to your \"turnin\" repository (you should have done this in the previous homework assignment).\n",
    "\n",
    "**Also important**: Make sure that the version of this notebook that you are working on is the same one that you just added to your repository! If you are working on a different copy of the notebook, **none of your changes will be tracked**!\n",
    "\n",
    "If everything went as intended, the file should now show up on your GitHub account in the \"`cmse202-s22-turnin`\" repository inside the `hw-02` directory that you just created.  Periodically, **you'll be asked to commit your changes to the repository and push them to the remote GitHub location**. Of course, you can always commit your changes more often than that, if you wish.  It can be good to get into a habit of committing your changes any time you make a significant modification, or when you stop working on the project for a bit.\n",
    "\n",
    "&#9989; **Do this**: Before you move on, put the command that your instructor should run to clone your repository in the markdown cell below."
   ]
  },
  {
   "cell_type": "markdown",
   "metadata": {},
   "source": [
    "git clone https://github.com/xq1msu/cmse202-s22-turnin.git"
   ]
  },
  {
   "cell_type": "markdown",
   "metadata": {
    "pycharm": {
     "name": "#%% md\n"
    }
   },
   "source": [
    "&#9989; **Do this**: Before you move on, create a new branch called `hw02_branch` and move into it. In the cell below put the command(s) to create a new branch and to checkout the new branch. (_Note_: your TA will be able to see if you have created the branch and its history)."
   ]
  },
  {
   "cell_type": "markdown",
   "metadata": {
    "pycharm": {
     "name": "#%% md\n"
    }
   },
   "source": [
    "git branch hw02_branch\n",
    "git checkout hw02_branch"
   ]
  },
  {
   "cell_type": "markdown",
   "metadata": {
    "pycharm": {
     "name": "#%% md\n"
    }
   },
   "source": [
    "**You MUST work in this new branch and merge it at the end.**"
   ]
  },
  {
   "cell_type": "markdown",
   "metadata": {},
   "source": [
    "---\n",
    "<img src=https://imgs.xkcd.com/comics/hertzsprung_russell_diagram_2x.png width=300px align=right >\n",
    "\n",
    "## Part 2: Load, manipulate, and visualize data with Pandas (21 points)\n",
    "\n",
    "For this part of the assignment, you're going to brush off your Pandas skills and your data manipulation and visualization skills. Throughout the course we'll continue to work with data, so this should be a good opportunity to remind yourself of some tools and techniques you picked up in CMSE 201 or perhaps learn something new.\n",
    "\n",
    "Let's recreate the [Hertzsprung-Russell](https://en.wikipedia.org/wiki/Hertzsprung%E2%80%93Russell_diagram) diagram. Download the file `stars.csv` and place it in the same folder as this notebook.\n",
    "\n",
    "You can download the file from here:\n",
    "\n",
    "`https://raw.githubusercontent.com/msu-cmse-courses/cmse202-S22-data/main/code_samples/stars.csv`\n",
    "\n"
   ]
  },
  {
   "cell_type": "markdown",
   "metadata": {
    "pycharm": {
     "name": "#%% md\n"
    }
   },
   "source": [
    "&#9989; **Question 2.1 (2 points)**: To get started, **read in the `stars.csv` dataset using Pandas** and then use Pandas to display the first 15 rows of the data."
   ]
  },
  {
   "cell_type": "code",
   "execution_count": 1,
   "metadata": {
    "pycharm": {
     "name": "#%%\n"
    }
   },
   "outputs": [
    {
     "data": {
      "text/html": [
       "<div>\n",
       "<style scoped>\n",
       "    .dataframe tbody tr th:only-of-type {\n",
       "        vertical-align: middle;\n",
       "    }\n",
       "\n",
       "    .dataframe tbody tr th {\n",
       "        vertical-align: top;\n",
       "    }\n",
       "\n",
       "    .dataframe thead th {\n",
       "        text-align: right;\n",
       "    }\n",
       "</style>\n",
       "<table border=\"1\" class=\"dataframe\">\n",
       "  <thead>\n",
       "    <tr style=\"text-align: right;\">\n",
       "      <th></th>\n",
       "      <th>Temperature (K)</th>\n",
       "      <th>Luminosity (L/Lo)</th>\n",
       "      <th>Radius (R/Ro)</th>\n",
       "      <th>Absolute magnitude (Mv)</th>\n",
       "      <th>Star type</th>\n",
       "      <th>Star color</th>\n",
       "      <th>Spectral Class</th>\n",
       "    </tr>\n",
       "  </thead>\n",
       "  <tbody>\n",
       "    <tr>\n",
       "      <th>0</th>\n",
       "      <td>3068</td>\n",
       "      <td>0.002400</td>\n",
       "      <td>0.1700</td>\n",
       "      <td>16.120</td>\n",
       "      <td>0</td>\n",
       "      <td>Red</td>\n",
       "      <td>M</td>\n",
       "    </tr>\n",
       "    <tr>\n",
       "      <th>1</th>\n",
       "      <td>3042</td>\n",
       "      <td>0.000500</td>\n",
       "      <td>0.1542</td>\n",
       "      <td>16.600</td>\n",
       "      <td>0</td>\n",
       "      <td>Red</td>\n",
       "      <td>M</td>\n",
       "    </tr>\n",
       "    <tr>\n",
       "      <th>2</th>\n",
       "      <td>2600</td>\n",
       "      <td>0.000300</td>\n",
       "      <td>0.1020</td>\n",
       "      <td>18.700</td>\n",
       "      <td>0</td>\n",
       "      <td>Red</td>\n",
       "      <td>M</td>\n",
       "    </tr>\n",
       "    <tr>\n",
       "      <th>3</th>\n",
       "      <td>2800</td>\n",
       "      <td>0.000200</td>\n",
       "      <td>0.1600</td>\n",
       "      <td>16.650</td>\n",
       "      <td>0</td>\n",
       "      <td>Red</td>\n",
       "      <td>M</td>\n",
       "    </tr>\n",
       "    <tr>\n",
       "      <th>4</th>\n",
       "      <td>1939</td>\n",
       "      <td>0.000138</td>\n",
       "      <td>0.1030</td>\n",
       "      <td>20.060</td>\n",
       "      <td>0</td>\n",
       "      <td>Red</td>\n",
       "      <td>M</td>\n",
       "    </tr>\n",
       "    <tr>\n",
       "      <th>5</th>\n",
       "      <td>2840</td>\n",
       "      <td>0.000650</td>\n",
       "      <td>0.1100</td>\n",
       "      <td>16.980</td>\n",
       "      <td>0</td>\n",
       "      <td>Red</td>\n",
       "      <td>M</td>\n",
       "    </tr>\n",
       "    <tr>\n",
       "      <th>6</th>\n",
       "      <td>2637</td>\n",
       "      <td>0.000730</td>\n",
       "      <td>0.1270</td>\n",
       "      <td>17.220</td>\n",
       "      <td>0</td>\n",
       "      <td>Red</td>\n",
       "      <td>M</td>\n",
       "    </tr>\n",
       "    <tr>\n",
       "      <th>7</th>\n",
       "      <td>2600</td>\n",
       "      <td>0.000400</td>\n",
       "      <td>0.0960</td>\n",
       "      <td>17.400</td>\n",
       "      <td>0</td>\n",
       "      <td>Red</td>\n",
       "      <td>M</td>\n",
       "    </tr>\n",
       "    <tr>\n",
       "      <th>8</th>\n",
       "      <td>2650</td>\n",
       "      <td>0.000690</td>\n",
       "      <td>0.1100</td>\n",
       "      <td>17.450</td>\n",
       "      <td>0</td>\n",
       "      <td>Red</td>\n",
       "      <td>M</td>\n",
       "    </tr>\n",
       "    <tr>\n",
       "      <th>9</th>\n",
       "      <td>2700</td>\n",
       "      <td>0.000180</td>\n",
       "      <td>0.1300</td>\n",
       "      <td>16.050</td>\n",
       "      <td>0</td>\n",
       "      <td>Red</td>\n",
       "      <td>M</td>\n",
       "    </tr>\n",
       "    <tr>\n",
       "      <th>10</th>\n",
       "      <td>3600</td>\n",
       "      <td>0.002900</td>\n",
       "      <td>0.5100</td>\n",
       "      <td>10.690</td>\n",
       "      <td>1</td>\n",
       "      <td>Red</td>\n",
       "      <td>M</td>\n",
       "    </tr>\n",
       "    <tr>\n",
       "      <th>11</th>\n",
       "      <td>3129</td>\n",
       "      <td>0.012200</td>\n",
       "      <td>0.3761</td>\n",
       "      <td>11.790</td>\n",
       "      <td>1</td>\n",
       "      <td>Red</td>\n",
       "      <td>M</td>\n",
       "    </tr>\n",
       "    <tr>\n",
       "      <th>12</th>\n",
       "      <td>3134</td>\n",
       "      <td>0.000400</td>\n",
       "      <td>0.1960</td>\n",
       "      <td>13.210</td>\n",
       "      <td>1</td>\n",
       "      <td>Red</td>\n",
       "      <td>M</td>\n",
       "    </tr>\n",
       "    <tr>\n",
       "      <th>13</th>\n",
       "      <td>3628</td>\n",
       "      <td>0.005500</td>\n",
       "      <td>0.3930</td>\n",
       "      <td>10.480</td>\n",
       "      <td>1</td>\n",
       "      <td>Red</td>\n",
       "      <td>M</td>\n",
       "    </tr>\n",
       "    <tr>\n",
       "      <th>14</th>\n",
       "      <td>2650</td>\n",
       "      <td>0.000600</td>\n",
       "      <td>0.1400</td>\n",
       "      <td>11.782</td>\n",
       "      <td>1</td>\n",
       "      <td>Red</td>\n",
       "      <td>M</td>\n",
       "    </tr>\n",
       "  </tbody>\n",
       "</table>\n",
       "</div>"
      ],
      "text/plain": [
       "    Temperature (K)  Luminosity (L/Lo)  Radius (R/Ro)  \\\n",
       "0              3068           0.002400         0.1700   \n",
       "1              3042           0.000500         0.1542   \n",
       "2              2600           0.000300         0.1020   \n",
       "3              2800           0.000200         0.1600   \n",
       "4              1939           0.000138         0.1030   \n",
       "5              2840           0.000650         0.1100   \n",
       "6              2637           0.000730         0.1270   \n",
       "7              2600           0.000400         0.0960   \n",
       "8              2650           0.000690         0.1100   \n",
       "9              2700           0.000180         0.1300   \n",
       "10             3600           0.002900         0.5100   \n",
       "11             3129           0.012200         0.3761   \n",
       "12             3134           0.000400         0.1960   \n",
       "13             3628           0.005500         0.3930   \n",
       "14             2650           0.000600         0.1400   \n",
       "\n",
       "    Absolute magnitude (Mv)  Star type Star color Spectral Class  \n",
       "0                    16.120          0        Red              M  \n",
       "1                    16.600          0        Red              M  \n",
       "2                    18.700          0        Red              M  \n",
       "3                    16.650          0        Red              M  \n",
       "4                    20.060          0        Red              M  \n",
       "5                    16.980          0        Red              M  \n",
       "6                    17.220          0        Red              M  \n",
       "7                    17.400          0        Red              M  \n",
       "8                    17.450          0        Red              M  \n",
       "9                    16.050          0        Red              M  \n",
       "10                   10.690          1        Red              M  \n",
       "11                   11.790          1        Red              M  \n",
       "12                   13.210          1        Red              M  \n",
       "13                   10.480          1        Red              M  \n",
       "14                   11.782          1        Red              M  "
      ]
     },
     "execution_count": 1,
     "metadata": {},
     "output_type": "execute_result"
    }
   ],
   "source": [
    "# PUT YOUR CODE HERE\n",
    "import pandas as pd\n",
    "\n",
    "stars = pd.read_csv(\"stars.csv\")\n",
    "stars.head(15)"
   ]
  },
  {
   "cell_type": "markdown",
   "metadata": {},
   "source": [
    "As usual this dataset needs to be cleaned a little bit. Note that the star type is a number that doesn't really tell us much. Fortunately, we have asked our astro friends to give us more information and they told us what the numbers stand for.\n",
    "\n",
    "&#9989; **Question 2.2 (3 points)**: Drop the `Absolute magnitude (Mv)` column, replace the values in the column `Star type` with the following list, print the resulting dataframe\n",
    "\n",
    "    0 -> Brown Dwarf\n",
    "    1 -> Red Dwarf\n",
    "    2 -> White Dwarf\n",
    "    3 -> Main Sequence\n",
    "    4 -> Supergiant\n",
    "    5 -> Hypergiant\n",
    "\n",
    "You should use the [`replace`](https://pandas.pydata.org/docs/reference/api/pandas.DataFrame.replace.html) method of the dataframe."
   ]
  },
  {
   "cell_type": "code",
   "execution_count": 2,
   "metadata": {},
   "outputs": [
    {
     "data": {
      "text/html": [
       "<div>\n",
       "<style scoped>\n",
       "    .dataframe tbody tr th:only-of-type {\n",
       "        vertical-align: middle;\n",
       "    }\n",
       "\n",
       "    .dataframe tbody tr th {\n",
       "        vertical-align: top;\n",
       "    }\n",
       "\n",
       "    .dataframe thead th {\n",
       "        text-align: right;\n",
       "    }\n",
       "</style>\n",
       "<table border=\"1\" class=\"dataframe\">\n",
       "  <thead>\n",
       "    <tr style=\"text-align: right;\">\n",
       "      <th></th>\n",
       "      <th>Temperature (K)</th>\n",
       "      <th>Luminosity (L/Lo)</th>\n",
       "      <th>Radius (R/Ro)</th>\n",
       "      <th>Star type</th>\n",
       "      <th>Star color</th>\n",
       "      <th>Spectral Class</th>\n",
       "    </tr>\n",
       "  </thead>\n",
       "  <tbody>\n",
       "    <tr>\n",
       "      <th>0</th>\n",
       "      <td>3068</td>\n",
       "      <td>0.002400</td>\n",
       "      <td>0.1700</td>\n",
       "      <td>Brown Dwarf</td>\n",
       "      <td>Red</td>\n",
       "      <td>M</td>\n",
       "    </tr>\n",
       "    <tr>\n",
       "      <th>1</th>\n",
       "      <td>3042</td>\n",
       "      <td>0.000500</td>\n",
       "      <td>0.1542</td>\n",
       "      <td>Brown Dwarf</td>\n",
       "      <td>Red</td>\n",
       "      <td>M</td>\n",
       "    </tr>\n",
       "    <tr>\n",
       "      <th>2</th>\n",
       "      <td>2600</td>\n",
       "      <td>0.000300</td>\n",
       "      <td>0.1020</td>\n",
       "      <td>Brown Dwarf</td>\n",
       "      <td>Red</td>\n",
       "      <td>M</td>\n",
       "    </tr>\n",
       "    <tr>\n",
       "      <th>3</th>\n",
       "      <td>2800</td>\n",
       "      <td>0.000200</td>\n",
       "      <td>0.1600</td>\n",
       "      <td>Brown Dwarf</td>\n",
       "      <td>Red</td>\n",
       "      <td>M</td>\n",
       "    </tr>\n",
       "    <tr>\n",
       "      <th>4</th>\n",
       "      <td>1939</td>\n",
       "      <td>0.000138</td>\n",
       "      <td>0.1030</td>\n",
       "      <td>Brown Dwarf</td>\n",
       "      <td>Red</td>\n",
       "      <td>M</td>\n",
       "    </tr>\n",
       "    <tr>\n",
       "      <th>5</th>\n",
       "      <td>2840</td>\n",
       "      <td>0.000650</td>\n",
       "      <td>0.1100</td>\n",
       "      <td>Brown Dwarf</td>\n",
       "      <td>Red</td>\n",
       "      <td>M</td>\n",
       "    </tr>\n",
       "    <tr>\n",
       "      <th>6</th>\n",
       "      <td>2637</td>\n",
       "      <td>0.000730</td>\n",
       "      <td>0.1270</td>\n",
       "      <td>Brown Dwarf</td>\n",
       "      <td>Red</td>\n",
       "      <td>M</td>\n",
       "    </tr>\n",
       "    <tr>\n",
       "      <th>7</th>\n",
       "      <td>2600</td>\n",
       "      <td>0.000400</td>\n",
       "      <td>0.0960</td>\n",
       "      <td>Brown Dwarf</td>\n",
       "      <td>Red</td>\n",
       "      <td>M</td>\n",
       "    </tr>\n",
       "    <tr>\n",
       "      <th>8</th>\n",
       "      <td>2650</td>\n",
       "      <td>0.000690</td>\n",
       "      <td>0.1100</td>\n",
       "      <td>Brown Dwarf</td>\n",
       "      <td>Red</td>\n",
       "      <td>M</td>\n",
       "    </tr>\n",
       "    <tr>\n",
       "      <th>9</th>\n",
       "      <td>2700</td>\n",
       "      <td>0.000180</td>\n",
       "      <td>0.1300</td>\n",
       "      <td>Brown Dwarf</td>\n",
       "      <td>Red</td>\n",
       "      <td>M</td>\n",
       "    </tr>\n",
       "    <tr>\n",
       "      <th>10</th>\n",
       "      <td>3600</td>\n",
       "      <td>0.002900</td>\n",
       "      <td>0.5100</td>\n",
       "      <td>Red Dwarf</td>\n",
       "      <td>Red</td>\n",
       "      <td>M</td>\n",
       "    </tr>\n",
       "    <tr>\n",
       "      <th>11</th>\n",
       "      <td>3129</td>\n",
       "      <td>0.012200</td>\n",
       "      <td>0.3761</td>\n",
       "      <td>Red Dwarf</td>\n",
       "      <td>Red</td>\n",
       "      <td>M</td>\n",
       "    </tr>\n",
       "    <tr>\n",
       "      <th>12</th>\n",
       "      <td>3134</td>\n",
       "      <td>0.000400</td>\n",
       "      <td>0.1960</td>\n",
       "      <td>Red Dwarf</td>\n",
       "      <td>Red</td>\n",
       "      <td>M</td>\n",
       "    </tr>\n",
       "    <tr>\n",
       "      <th>13</th>\n",
       "      <td>3628</td>\n",
       "      <td>0.005500</td>\n",
       "      <td>0.3930</td>\n",
       "      <td>Red Dwarf</td>\n",
       "      <td>Red</td>\n",
       "      <td>M</td>\n",
       "    </tr>\n",
       "    <tr>\n",
       "      <th>14</th>\n",
       "      <td>2650</td>\n",
       "      <td>0.000600</td>\n",
       "      <td>0.1400</td>\n",
       "      <td>Red Dwarf</td>\n",
       "      <td>Red</td>\n",
       "      <td>M</td>\n",
       "    </tr>\n",
       "  </tbody>\n",
       "</table>\n",
       "</div>"
      ],
      "text/plain": [
       "    Temperature (K)  Luminosity (L/Lo)  Radius (R/Ro)    Star type Star color  \\\n",
       "0              3068           0.002400         0.1700  Brown Dwarf        Red   \n",
       "1              3042           0.000500         0.1542  Brown Dwarf        Red   \n",
       "2              2600           0.000300         0.1020  Brown Dwarf        Red   \n",
       "3              2800           0.000200         0.1600  Brown Dwarf        Red   \n",
       "4              1939           0.000138         0.1030  Brown Dwarf        Red   \n",
       "5              2840           0.000650         0.1100  Brown Dwarf        Red   \n",
       "6              2637           0.000730         0.1270  Brown Dwarf        Red   \n",
       "7              2600           0.000400         0.0960  Brown Dwarf        Red   \n",
       "8              2650           0.000690         0.1100  Brown Dwarf        Red   \n",
       "9              2700           0.000180         0.1300  Brown Dwarf        Red   \n",
       "10             3600           0.002900         0.5100    Red Dwarf        Red   \n",
       "11             3129           0.012200         0.3761    Red Dwarf        Red   \n",
       "12             3134           0.000400         0.1960    Red Dwarf        Red   \n",
       "13             3628           0.005500         0.3930    Red Dwarf        Red   \n",
       "14             2650           0.000600         0.1400    Red Dwarf        Red   \n",
       "\n",
       "   Spectral Class  \n",
       "0               M  \n",
       "1               M  \n",
       "2               M  \n",
       "3               M  \n",
       "4               M  \n",
       "5               M  \n",
       "6               M  \n",
       "7               M  \n",
       "8               M  \n",
       "9               M  \n",
       "10              M  \n",
       "11              M  \n",
       "12              M  \n",
       "13              M  \n",
       "14              M  "
      ]
     },
     "execution_count": 2,
     "metadata": {},
     "output_type": "execute_result"
    }
   ],
   "source": [
    "### PUT YOUR CODE HERE\n",
    "stars = stars.drop(columns=[\"Absolute magnitude (Mv)\"])\n",
    "stars[\"Star type\"] = stars[\"Star type\"].replace([0,1,2,3,4,5],\n",
    "                          [\"Brown Dwarf\", \"Red Dwarf\", \"White Dwarf\",\n",
    "                          \"Main Sequence\", \"Supergiant\", \"Hypergiant\"])\n",
    "\n",
    "stars.head(15)"
   ]
  },
  {
   "cell_type": "markdown",
   "metadata": {},
   "source": [
    "&#9989; **Question 2.3 (4 points)**: What built-in Pandas functions can you use to get a quick statistical summary of your data (e.g. the mean, standard deviation, min, max, etc) divided by star type? **Use this function to summarize the data for each star type and then answer the following questions**: \n",
    "\n",
    "1. How many stars are for each type?\n",
    "2. Which star type has the highest mean temperature?"
   ]
  },
  {
   "cell_type": "code",
   "execution_count": 3,
   "metadata": {},
   "outputs": [
    {
     "data": {
      "text/html": [
       "<div>\n",
       "<style scoped>\n",
       "    .dataframe tbody tr th:only-of-type {\n",
       "        vertical-align: middle;\n",
       "    }\n",
       "\n",
       "    .dataframe tbody tr th {\n",
       "        vertical-align: top;\n",
       "    }\n",
       "\n",
       "    .dataframe thead th {\n",
       "        text-align: right;\n",
       "    }\n",
       "</style>\n",
       "<table border=\"1\" class=\"dataframe\">\n",
       "  <thead>\n",
       "    <tr style=\"text-align: right;\">\n",
       "      <th></th>\n",
       "      <th>Temperature (K)</th>\n",
       "      <th>Luminosity (L/Lo)</th>\n",
       "      <th>Radius (R/Ro)</th>\n",
       "    </tr>\n",
       "    <tr>\n",
       "      <th>Star type</th>\n",
       "      <th></th>\n",
       "      <th></th>\n",
       "      <th></th>\n",
       "    </tr>\n",
       "  </thead>\n",
       "  <tbody>\n",
       "    <tr>\n",
       "      <th>Brown Dwarf</th>\n",
       "      <td>2997.950</td>\n",
       "      <td>0.000693</td>\n",
       "      <td>0.110015</td>\n",
       "    </tr>\n",
       "    <tr>\n",
       "      <th>Hypergiant</th>\n",
       "      <td>11405.700</td>\n",
       "      <td>309246.525000</td>\n",
       "      <td>1366.897500</td>\n",
       "    </tr>\n",
       "    <tr>\n",
       "      <th>Main Sequence</th>\n",
       "      <td>16018.000</td>\n",
       "      <td>32067.386275</td>\n",
       "      <td>4.430300</td>\n",
       "    </tr>\n",
       "    <tr>\n",
       "      <th>Red Dwarf</th>\n",
       "      <td>3283.825</td>\n",
       "      <td>0.005406</td>\n",
       "      <td>0.348145</td>\n",
       "    </tr>\n",
       "    <tr>\n",
       "      <th>Supergiant</th>\n",
       "      <td>15347.850</td>\n",
       "      <td>301816.250000</td>\n",
       "      <td>51.150000</td>\n",
       "    </tr>\n",
       "    <tr>\n",
       "      <th>White Dwarf</th>\n",
       "      <td>13931.450</td>\n",
       "      <td>0.002434</td>\n",
       "      <td>0.010728</td>\n",
       "    </tr>\n",
       "  </tbody>\n",
       "</table>\n",
       "</div>"
      ],
      "text/plain": [
       "               Temperature (K)  Luminosity (L/Lo)  Radius (R/Ro)\n",
       "Star type                                                       \n",
       "Brown Dwarf           2997.950           0.000693       0.110015\n",
       "Hypergiant           11405.700      309246.525000    1366.897500\n",
       "Main Sequence        16018.000       32067.386275       4.430300\n",
       "Red Dwarf             3283.825           0.005406       0.348145\n",
       "Supergiant           15347.850      301816.250000      51.150000\n",
       "White Dwarf          13931.450           0.002434       0.010728"
      ]
     },
     "execution_count": 3,
     "metadata": {},
     "output_type": "execute_result"
    }
   ],
   "source": [
    "### PUT YOUR CODE HERE\n",
    "stars.groupby(['Star type']).count()\n",
    "stars.groupby(['Star type']).mean()"
   ]
  },
  {
   "cell_type": "markdown",
   "metadata": {},
   "source": [
    "**<font size=+3>&#9998;</font> Do This**: *Record your observations of your plot here.*\n",
    "\n",
    "Each type of stars have 40 stars\n",
    "\n",
    "Main Sequence has the highest average temoerature"
   ]
  },
  {
   "cell_type": "markdown",
   "metadata": {
    "pycharm": {
     "name": "#%% md\n"
    }
   },
   "source": [
    "&#9989; **Question 2.4 (7 points)**: Using `seaborn` make a plot equivalent to what `scatter_matrix` would produce ([_Hint_](https://seaborn.pydata.org/examples/index.html) ) and set the `hue` option equal to `Star type`. Then answer the following questions\n",
    "\n",
    "1. What does the diagonal represent? How is that different from the diagonal of `scatter_matrix`?\n",
    "2. What do the spikes in the diagonal tell you ? How are they related to the print out of the cell above ?\n",
    "3. Can you see clear distinctions between different star types?"
   ]
  },
  {
   "cell_type": "code",
   "execution_count": 4,
   "metadata": {
    "pycharm": {
     "name": "#%%\n"
    }
   },
   "outputs": [
    {
     "data": {
      "text/plain": [
       "<seaborn.axisgrid.PairGrid at 0x7faca3aa3bb0>"
      ]
     },
     "execution_count": 4,
     "metadata": {},
     "output_type": "execute_result"
    },
    {
     "data": {
      "image/png": "[encoded data removed]",
      "text/plain": [
       "<Figure size 652.375x540 with 12 Axes>"
      ]
     },
     "metadata": {
      "needs_background": "light"
     },
     "output_type": "display_data"
    }
   ],
   "source": [
    "# PUT YOUR CODE HERE\n",
    "import seaborn as sns\n",
    "import matplotlib.pyplot as plt\n",
    "\n",
    "sns.pairplot(stars, hue=\"Star type\", diag_kind=\"hist\")"
   ]
  },
  {
   "cell_type": "markdown",
   "metadata": {},
   "source": [
    "1. In scatter_matrix, the diagonal is plots of histograms to show the frequencey show up of each of star types. In default pairplot, it's a kernel density estimate cruve to show the distribution like histogram. Here I change it to histogram to make it looks more like function scatter_matrix.\n",
    "\n",
    "2. the spike means there are a lot of values in this small intervals, most of stars will have this values. We can see the relate plots also have a distribution of plots which looks like a line.\n",
    "\n",
    "3. no except Hypergaint, hypergaint has extremely large radius compare to others, which makes it easier to distingush with others. We can't tell other star type's distinctions by using this graph"
   ]
  },
  {
   "cell_type": "markdown",
   "metadata": {},
   "source": [
    "Let's make the Hertzsprung-Russell diagram.\n",
    "\n",
    "&#9989; **Question 2.5 (3 points)**: Use `seaborn` to make a scatter plot of the data with:\n",
    "- Temperature on the $x$-axis and Luminosity on the $y$-axis and label them\n",
    "- Use the column `Star type` for your `hue` parameter\n",
    "- Make the $x$-axis and $y$-axis **log** scaled\n",
    "\n",
    "\n",
    "Compare your plot with the one [here](https://www.google.com/url?sa=i&url=https%3A%2F%2Fwww.eso.org%2Fpublic%2Fimages%2Feso0728c%2F&psig=AOvVaw0vMZoAEnGtjcWQspl1IgVK&ust=1644303543060000&source=images&cd=vfe&ved=0CAgQjRxqFwoTCJjJ1J6C7fUCFQAAAAAdAAAAABAD). Notice that your plot is flipped! This is because the Temperature increases towards the left!!! You can fix this by adding this line to the end of your code\n",
    "\n",
    "    plt.gca().invert_xaxis()\n",
    "\n",
    "**NOTE:** This is not necessary. It is just so that the astrophycisists don't get mad \t&#128516;"
   ]
  },
  {
   "cell_type": "code",
   "execution_count": 5,
   "metadata": {},
   "outputs": [
    {
     "data": {
      "image/png": "[encoded data removed]",
      "text/plain": [
       "<Figure size 648x648 with 1 Axes>"
      ]
     },
     "metadata": {
      "needs_background": "light"
     },
     "output_type": "display_data"
    }
   ],
   "source": [
    "# PUT YOUR CODE HERE\n",
    "plt.subplots(figsize=(9, 9))\n",
    "\n",
    "sns.scatterplot(x=\"Temperature (K)\", y=\"Luminosity (L/Lo)\",\n",
    "               data=stars, hue=\"Star type\")\n",
    "plt.xscale(\"log\")\n",
    "plt.yscale(\"log\")\n",
    "\n",
    "plt.gca().invert_xaxis()"
   ]
  },
  {
   "cell_type": "markdown",
   "metadata": {},
   "source": [
    "&#9989; **Question 2.6 (3 points)**: One of star type is obviously easier to separate than the others. Can you use a Boolean mask on the dataframe and isolate that one species **using `Temperature` and `Luminosity` and *not the star type***? Try to do so below and confirm that you were successful.\n",
    "\n",
    "Why weren't we able to see such a pattern in the previous plot?\n"
   ]
  },
  {
   "cell_type": "code",
   "execution_count": 6,
   "metadata": {
    "pycharm": {
     "name": "#%%\n"
    }
   },
   "outputs": [
    {
     "data": {
      "image/png": "[encoded data removed]",
      "text/plain": [
       "<Figure size 648x648 with 1 Axes>"
      ]
     },
     "metadata": {
      "needs_background": "light"
     },
     "output_type": "display_data"
    }
   ],
   "source": [
    "# PUT YOUR CODE HERE\n",
    "plt.subplots(figsize=(9, 9))\n",
    "\n",
    "hind_star = stars[stars[\"Luminosity (L/Lo)\"] <= 0.1]\n",
    "hind_star = hind_star[hind_star[\"Temperature (K)\"] > 6*10**3]\n",
    "\n",
    "\n",
    "sns.scatterplot(x=\"Temperature (K)\", y=\"Luminosity (L/Lo)\",\n",
    "               data=hind_star, hue=\"Star type\")\n",
    "plt.xscale(\"log\")\n",
    "plt.yscale(\"log\")\n",
    "\n",
    "plt.gca().invert_xaxis()"
   ]
  },
  {
   "cell_type": "markdown",
   "metadata": {},
   "source": [
    "---\n",
    "### &#128721; STOP\n",
    "**Pause to commit your changes to your Git repository!**\n",
    "\n",
    "Take a moment to save your notebook, commit the changes to your Git repository using the commit message \"Committing Part 2\", and push the changes to GitHub. If you want you can merge your changes with the `main` branch, but you must checkout branch `hw_02` for Part 3.\n",
    "\n",
    "---"
   ]
  },
  {
   "cell_type": "markdown",
   "metadata": {},
   "source": [
    "## Part 3: Writing Python classes (44 points)\n",
    "\n",
    "<img src=\"https://upload.wikimedia.org/wikipedia/commons/thumb/0/00/Standard_Model_of_Elementary_Particles.svg/627px-Standard_Model_of_Elementary_Particles.svg.png\" alt=\"Image credit: www.wikipedia\">"
   ]
  },
  {
   "cell_type": "markdown",
   "metadata": {},
   "source": [
    "### 3.1 Using and enhancing a pre-existing class (16 points)\n",
    "\n",
    "For this section, you're going to explore a little bit of particle physics, by expanding on the pre-existing Python class contained in a file called `standard_model.py`. You'll need to download this script and put it in the same location as this notebook. **You should also add it and commit it to your repository in the same `hw-02` folder**. You will also **turn in your final version of this script into D2L along with your notebook**.\n",
    "\n",
    "You can download the file from here:\n",
    "\n",
    "`https://raw.githubusercontent.com/msu-cmse-courses/cmse202-S22-data/main/code_samples/standard_model.py`\n",
    "\n",
    "The Python class contained in this script is called `ElementaryParticle` and, not surprisingly, it is designed to store information about the building blocks of the universe. Currently it only has few simple methods. \n",
    "\n",
    "Let's first confirm that you've got the script in the right place and that everything imports and runs correctly.\n",
    "\n",
    "**&#9989; Do this:** Execute the cell below to makes sure that your newly downloaded `ElementaryParticle` class is working correctly. It should run without errors"
   ]
  },
  {
   "cell_type": "code",
   "execution_count": 8,
   "metadata": {},
   "outputs": [
    {
     "name": "stdout",
     "output_type": "stream",
     "text": [
      "========================= Electron =========================\n",
      "The particle has a mass of 0.5 MeV\n",
      "The particle's charge is -1.0 e\n",
      "The particle's spin is 0.5\n",
      "========================== Photon ==========================\n",
      "The particle has a mass of 0.0 MeV\n",
      "The particle's charge is 0.0 e\n",
      "The particle's spin is 1.0\n"
     ]
    }
   ],
   "source": [
    "# The \"magic\" command below tells Jupyter Notebook to automatically load classes and methods from external files \n",
    "# in case they have changed from last load time;\n",
    "# This is needed when you change the standard_model.py file\n",
    "%reload_ext autoreload\n",
    "%autoreload 2\n",
    "\n",
    "from standard_model import ElementaryParticle\n",
    "\n",
    "# Create two particles\n",
    "electron = ElementaryParticle(mass = 0.5, charge = -1., spin = 1./2.)\n",
    "photon = ElementaryParticle(mass = 0.0, spin = 1.0, charge = 0.0)\n",
    "\n",
    "print(\"{:=^60}\".format(\" Electron \"))\n",
    "electron.info()\n",
    "print(\"{:=^60}\".format(\" Photon \"))\n",
    "photon.info()"
   ]
  },
  {
   "cell_type": "markdown",
   "metadata": {},
   "source": [
    "**&#9989; Question 3.1.1 (3 points):** Notice something strange? The order of the inputs is different than the one in the script `ElementaryParticle.py`. Nonetheless we get the right answer when we print out the values. Read this [article](https://www.geeksforgeeks.org/args-kwargs-python/) and answer these questions:\n",
    "\n",
    "1. What is the difference between `args` and `kwargs`?\n",
    "2. Which of the two types of arguments I am using in the above instantiation of particles?\n",
    "3. Why do I get the right answer?"
   ]
  },
  {
   "cell_type": "markdown",
   "metadata": {},
   "source": [
    "1. args is like a tuple or list, which the order of each argument is fixed. kwargs is like a dictionary, the order is not specified. \\\n",
    "\n",
    "2. we are using kwargs since order doesn't matter\n",
    "\n",
    "3. since it's like a dictionary, the function will extract the number it wants when it needs."
   ]
  },
  {
   "cell_type": "markdown",
   "metadata": {
    "pycharm": {
     "name": "#%% md\n"
    }
   },
   "source": [
    "**&#9989; Question 3.1.2 (9 points); Make sure to read _everything_ carefully!:** Using this class as a starting point, your goal is to do the following:\n",
    "\n",
    "* Add a new attribute, `ptype`, to the class so that it is set to a default of `None` when the class object is first initialized. This attributes will indicate whether the particle is a boson or a fermion.\n",
    "* Add another class method, called `check_type`, that takes no input. **This method should:**\n",
    "    - check whether the particle is a \"fermion\" or a \"boson\". Bosons have integer spin, fermions have fractional spin. *Hint*: look at the built-in methods of [`float`](https://docs.python.org/3/library/stdtypes.html#additional-methods-on-float). Is there one that could help you answer this question?\n",
    "    - update the attribute `ptype` with the type of particle, `\"fermion\"` or `\"boson\"`.\n",
    "    - return the attribute `ptype`.\n",
    "* Add a new class method, called `compare`, that takes **one input**, called `other`. Using this input, **this method should**:\n",
    "    1. Check that `other` is an instance of the `ElementaryParticle` class. [Hint](<https://letmegooglethat.com/?q=How+do+I+check+if+an+object+is+an+instance+of+a+given+class+python>).\n",
    "    2. If so it must print to screen whether their charges are equal, whether their masses are equal, whether their spin are equal.\n",
    "    3. If `other` is not a particle raise an error message that requests the user to pass a valid particle. [Hint](https://stackoverflow.com/questions/2052390/manually-raising-throwing-an-exception-in-python).\n",
    "\n",
    "In order to check that everything is working correctly, **run the following cell**. It should not return any errors and should print the following:\n",
    "\n",
    "    ======================== Check Type ========================\n",
    "    fermion\n",
    "    boson\n",
    "    ======================== Comparison ========================\n",
    "    Electron vs Photon\n",
    "    The two particles have the same charge: False\n",
    "    The two particles have the same mass: False\n",
    "    The two particles have the same spin: False"
   ]
  },
  {
   "cell_type": "code",
   "execution_count": 9,
   "metadata": {},
   "outputs": [
    {
     "name": "stdout",
     "output_type": "stream",
     "text": [
      "======================== Check Type ========================\n",
      "fermion\n",
      "boson\n",
      "======================== Comparison ========================\n",
      "Up Quark vs Gluon\n",
      "The two particles have the same charge: False\n",
      "The two particles have the same mass: False\n",
      "The two particles have the same spin: False\n"
     ]
    }
   ],
   "source": [
    "# The \"magic\" command below tells Jupyter Notebook to automatically load classes and methods from external files \n",
    "# in case they have changed from last load time;\n",
    "# This is needed when you change the standard_model.py file\n",
    "%reload_ext autoreload\n",
    "%autoreload 2\n",
    "\n",
    "from standard_model import ElementaryParticle\n",
    "\n",
    "# Create two particles\n",
    "up_quark = ElementaryParticle(charge = 1./3, mass = 2.2,  spin = 1./2.)\n",
    "gluon = ElementaryParticle(charge = 0.0, mass = 0.0, spin = 1.0)\n",
    "\n",
    "# Fermions or Bosons?\n",
    "print(\"{:=^60}\".format(\" Check Type \"))\n",
    "print(f\"{up_quark.check_type()}\")\n",
    "print(f\"{gluon.check_type()}\")\n",
    "\n",
    "# Compare\n",
    "print(\"{:=^60}\".format(\" Comparison \"))\n",
    "print(\"Up Quark vs Gluon\")\n",
    "up_quark.compare(gluon)"
   ]
  },
  {
   "cell_type": "markdown",
   "metadata": {},
   "source": [
    "**&#9989; Question 3.1.3 (2 points):** You should practice writing [docstrings](https://www.programiz.com/python-programming/docstrings) in your script so that it is clear what your methods are doing! You can look at the provided code to get a sense for how this is done.\n",
    "\n",
    "- Did you write docstring for both methods? What type of inputs does `compare` take?\n",
    "\n",
    "Run the following code you should not get any error. "
   ]
  },
  {
   "cell_type": "code",
   "execution_count": 10,
   "metadata": {},
   "outputs": [
    {
     "name": "stdout",
     "output_type": "stream",
     "text": [
      "\n",
      "========== Documentation for check_type ==========\n",
      "\n",
      "        Check the spin of the star and determine which kinds of ptype it is\n",
      "        \n",
      "\n",
      "=========== Documentation for compare ============\n",
      "compare each value of current object and anothe object, and print out if their value are equalivent\n",
      "\n",
      "        Parameters\n",
      "        ----------\n",
      "        other: ElementaryParticle\n",
      "            This one is used to compare\n",
      "        \n"
     ]
    }
   ],
   "source": [
    "print(\"\\n{:=^50}\".format(\" Documentation for check_type \"))\n",
    "print(ElementaryParticle.check_type.__doc__)\n",
    "#\n",
    "print(\"\\n{:=^50}\".format(\" Documentation for compare \"))\n",
    "print(ElementaryParticle.compare.__doc__)"
   ]
  },
  {
   "cell_type": "markdown",
   "metadata": {},
   "source": [
    "#### Testing _all_ of your code is important!\n",
    "\n",
    "Any time you write new code, you should get in the habit of trying to test it to make sure it is working as intended, but we didn't check **all** of your new functionality in the code cell above.\n",
    "\n",
    "**&#9989; Question 3.1.4 (2 points):** Is everything working correctly if you don't pass an `ElementaryParticle` to the `compare` method?\n",
    "\n",
    "**Write some code that proves that your `compare` method is working correctly when you are not passing an `ElementaryParticle` object.** You have some options for how you might do this. \n",
    "\n",
    "*Remember*, if you're editing your script and testing things out, you may need to make sure your class is being imported again to ensure that you're using the newest version of your script.\n",
    "\n",
    "In the markdown cell below your code, **explain how you know that your method is working correctly based on the code that you provided**.\n"
   ]
  },
  {
   "cell_type": "code",
   "execution_count": 11,
   "metadata": {},
   "outputs": [
    {
     "name": "stdout",
     "output_type": "stream",
     "text": [
      "======================== Comparison ========================\n"
     ]
    }
   ],
   "source": [
    "# PUT YOUR CODE HERE\n",
    "print(\"{:=^60}\".format(\" Comparison \"))\n",
    "up_quark.compare([3,4,5])"
   ]
  },
  {
   "cell_type": "markdown",
   "metadata": {},
   "source": [
    "I gived a datatype that is not ElementaryParticle, in my code, i only used one if when they are equal. which means if they are not equal this function don't do anything"
   ]
  },
  {
   "cell_type": "markdown",
   "metadata": {},
   "source": [
    "---\n",
    "### &#128721; STOP\n",
    "**Pause to commit your changes to your Git repository!**\n",
    "\n",
    "Take a moment to save your notebook, commit the changes to your Git repository using the commit message \"Committing part 3.1\", and push the changes to GitHub. **Make sure you've added your version of `standard_model.py` to your repository!**\n",
    "\n",
    "---"
   ]
  },
  {
   "cell_type": "markdown",
   "metadata": {},
   "source": [
    "### 3.2 Inheritance and Composition (28 points)\n",
    "\n",
    "Once we've built a class, if we decide we need some sort of specialized functionality, we can create a new class that inherits all of the properties of the first one. Let's do that now!\n",
    "\n",
    "As you can see in the figure above there are different type of particles: quarks, leptons, gauge bosons, and scalar bosons. Our `ElementaryParticle` class has all the functionalities and properties common amongst all these particles, but all the particles fall into one of two categories: fermions or bosons.\n",
    "Fermions are particles that create matter while bosons are called force carriers. _SideNote_: Anytime two charges  repel/attract each other their are exchanging photons amongst them. &#129299;\n",
    "\n",
    "**&#9989; Question 3.2.1 (18 points)**: Now that you have a functioning class, your next task is to create two new classes, `Fermion` and `Boson`, that **inherit** the `ElementaryParticle` class. **You should create this new class in the same `standard_model.py` script.** When you're done, there should be three different classes available to be imported from the script: `ElementaryParticles`, `Fermion`, `Boson`.\n",
    "\n",
    "The new `Boson` class, has the following documentation:\n",
    "\n",
    "    \"\"\"\n",
    "    Boson: elementary particle that obeys Bose-Einstein statistics.\n",
    "    This class inherits the ElementaryParticle class with all its attributes and methods.\n",
    "    Further attributes and methods are\n",
    "    \n",
    "    Attributes\n",
    "    ----------\n",
    "    name: str\n",
    "        Name of the particle.\n",
    "    \n",
    "    Methods\n",
    "    -------\n",
    "    check_existence()\n",
    "        Checks whether this Boson can exists by calling its parent's method check_type()\n",
    "        Raises a ValueError if check_type() returns \"fermion\"\n",
    "            \n",
    "    \"\"\"\n",
    "    \n",
    "The new `Fermion` class has the following documentation:\n",
    "\n",
    "    \"\"\"\n",
    "    Fermion: elementary particle that obeys Fermi-Dirac statistics.\n",
    "    This class inherits the ElementaryParticle class with all its attributes and methods.\n",
    "    Further attributes and methods are\n",
    "    \n",
    "    Attributes\n",
    "    ----------\n",
    "    name: str\n",
    "        Name of the particle.\n",
    "    \n",
    "    Methods\n",
    "    -------\n",
    "    check_existence()\n",
    "        Checks whether this Fermion can exists by calling its parent's method check_type()\n",
    "        Raises a ValueError if the check_type() returns \"boson\"\n",
    "        \n",
    "    is_antiparticle(other):\n",
    "        Check whether other is the anti-particle of this Fermion \n",
    "        by checking if other is an instance of Fermion first.\n",
    "    \n",
    "    \"\"\"\n",
    "* These documentations tell you what methods and attributes you need to write. \n",
    "\n",
    "* Both classes should have an `__init__` method that takes in four arguments: `name`, `charge`, `mass`, `spin`. This method should use `ElementaryParticle`'s `__init__` method to initialize the last three attributes. In addition this method should call the method `check_existence` to verify that we have passed the correct arguments. See documentation above.\n",
    "\n",
    "* As mentioned in the documentation the `Fermion` class should have a new class method, `is_antiparticle`, that takes one input, `other`, and verifies whether it is the antiparticle. An antiparticle is an exact copy of a particle with the only difference that the antiparticle has the opposite sign. As an example see [electron](https://en.wikipedia.org/wiki/Electron) and [positron](https://en.wikipedia.org/wiki/Positron). This method should check whether other is an instance of a `Fermion` and return `True` if `other` is an antiparticle or `False` if it is not.\n",
    "\n",
    "* Copy the above docstrings into your code.\n",
    "\n",
    "Run the following code as a first check. You should get this result\n",
    "```\n",
    "======================== Comparison ========================\n",
    "Electron vs Positron\n",
    "True\n",
    "```"
   ]
  },
  {
   "cell_type": "code",
   "execution_count": 12,
   "metadata": {},
   "outputs": [
    {
     "name": "stdout",
     "output_type": "stream",
     "text": [
      "======================== Comparison ========================\n",
      "Electron vs Positron\n",
      "True\n"
     ]
    }
   ],
   "source": [
    "# The \"magic\" command below tells Jupyter Notebook to automatically load classes and methods from external files \n",
    "# in case they have changed from last load time;\n",
    "# This is needed when you change the standard_model.py file\n",
    "%reload_ext autoreload\n",
    "%autoreload 2\n",
    "\n",
    "from standard_model import ElementaryParticle, Fermion, Boson\n",
    "\n",
    "# Create two particles\n",
    "electron = Fermion(name = \"electron\", charge = -1., mass = 0.5,  spin = 1./2.)\n",
    "positron = Fermion(name = \"positron\", charge = 1.0, mass = 0.5, spin = 0.5)\n",
    "\n",
    "# Compare\n",
    "print(\"{:=^60}\".format(\" Comparison \"))\n",
    "print(\"Electron vs Positron\")\n",
    "print(f\"{electron.is_antiparticle(positron)}\")"
   ]
  },
  {
   "cell_type": "markdown",
   "metadata": {},
   "source": [
    "#### Testing _all_ of your code is important!\n",
    "\n",
    "Any time you write new code, you should get in the habit of trying to test it to make sure it is working as intended, but we didn't check **all** of your new functionality in the code cell above.\n",
    "\n",
    "**&#9989; Question 3.2.2 (2 points):** Is everything working correctly? What happens when you create a boson with fractional spin? What happens if you try the anti-particle has a different mass?\n",
    "\n",
    "**Write some code that proves that your methods are working correctly**. You have some options for how you might do this. \n",
    "\n",
    "*Remember*, if you're editing your script and testing things out, you may need to make sure your class is being imported again to ensure that you're using the newest version of your script.\n",
    "\n",
    "In the markdown cell below your code, **explain how you know that your method is working correctly based on the code that you provided**.\n"
   ]
  },
  {
   "cell_type": "code",
   "execution_count": 13,
   "metadata": {},
   "outputs": [
    {
     "ename": "ValueError",
     "evalue": "",
     "output_type": "error",
     "traceback": [
      "\u001b[0;31m---------------------------------------------------------------------------\u001b[0m",
      "\u001b[0;31mValueError\u001b[0m                                Traceback (most recent call last)",
      "\u001b[0;32m<ipython-input-13-99553fc43d75>\u001b[0m in \u001b[0;36m<module>\u001b[0;34m\u001b[0m\n\u001b[1;32m      1\u001b[0m \u001b[0;31m# PUT YOUR CODE HERE\u001b[0m\u001b[0;34m\u001b[0m\u001b[0;34m\u001b[0m\u001b[0;34m\u001b[0m\u001b[0m\n\u001b[0;32m----> 2\u001b[0;31m \u001b[0mL\u001b[0m \u001b[0;34m=\u001b[0m \u001b[0mBoson\u001b[0m\u001b[0;34m(\u001b[0m\u001b[0mname\u001b[0m \u001b[0;34m=\u001b[0m \u001b[0;34m\"L\"\u001b[0m\u001b[0;34m,\u001b[0m \u001b[0mcharge\u001b[0m \u001b[0;34m=\u001b[0m \u001b[0;36m1.0\u001b[0m\u001b[0;34m,\u001b[0m \u001b[0mmass\u001b[0m \u001b[0;34m=\u001b[0m \u001b[0;36m0.5\u001b[0m\u001b[0;34m,\u001b[0m \u001b[0mspin\u001b[0m \u001b[0;34m=\u001b[0m \u001b[0;36m0.5\u001b[0m\u001b[0;34m)\u001b[0m\u001b[0;34m\u001b[0m\u001b[0;34m\u001b[0m\u001b[0m\n\u001b[0m",
      "\u001b[0;32m~/cmse202-s22-turnin/hw-02/standard_model.py\u001b[0m in \u001b[0;36m__init__\u001b[0;34m(self, name, charge, mass, spin)\u001b[0m\n\u001b[1;32m    134\u001b[0m         \u001b[0mself\u001b[0m\u001b[0;34m.\u001b[0m\u001b[0mname\u001b[0m \u001b[0;34m=\u001b[0m \u001b[0mname\u001b[0m\u001b[0;34m\u001b[0m\u001b[0;34m\u001b[0m\u001b[0m\n\u001b[1;32m    135\u001b[0m         \u001b[0msuper\u001b[0m\u001b[0;34m(\u001b[0m\u001b[0;34m)\u001b[0m\u001b[0;34m.\u001b[0m\u001b[0m__init__\u001b[0m\u001b[0;34m(\u001b[0m\u001b[0mcharge\u001b[0m\u001b[0;34m,\u001b[0m \u001b[0mmass\u001b[0m\u001b[0;34m,\u001b[0m \u001b[0mspin\u001b[0m\u001b[0;34m)\u001b[0m\u001b[0;34m\u001b[0m\u001b[0;34m\u001b[0m\u001b[0m\n\u001b[0;32m--> 136\u001b[0;31m         \u001b[0mself\u001b[0m\u001b[0;34m.\u001b[0m\u001b[0mcheck_existence\u001b[0m\u001b[0;34m(\u001b[0m\u001b[0;34m)\u001b[0m\u001b[0;34m\u001b[0m\u001b[0;34m\u001b[0m\u001b[0m\n\u001b[0m\u001b[1;32m    137\u001b[0m \u001b[0;34m\u001b[0m\u001b[0m\n\u001b[1;32m    138\u001b[0m     \u001b[0;32mdef\u001b[0m \u001b[0mcheck_existence\u001b[0m\u001b[0;34m(\u001b[0m\u001b[0mself\u001b[0m\u001b[0;34m)\u001b[0m\u001b[0;34m:\u001b[0m\u001b[0;34m\u001b[0m\u001b[0;34m\u001b[0m\u001b[0m\n",
      "\u001b[0;32m~/cmse202-s22-turnin/hw-02/standard_model.py\u001b[0m in \u001b[0;36mcheck_existence\u001b[0;34m(self)\u001b[0m\n\u001b[1;32m    138\u001b[0m     \u001b[0;32mdef\u001b[0m \u001b[0mcheck_existence\u001b[0m\u001b[0;34m(\u001b[0m\u001b[0mself\u001b[0m\u001b[0;34m)\u001b[0m\u001b[0;34m:\u001b[0m\u001b[0;34m\u001b[0m\u001b[0;34m\u001b[0m\u001b[0m\n\u001b[1;32m    139\u001b[0m         \u001b[0;32mif\u001b[0m \u001b[0mself\u001b[0m\u001b[0;34m.\u001b[0m\u001b[0mcheck_type\u001b[0m\u001b[0;34m(\u001b[0m\u001b[0;34m)\u001b[0m \u001b[0;34m!=\u001b[0m \u001b[0;34m\"boson\"\u001b[0m\u001b[0;34m:\u001b[0m\u001b[0;34m\u001b[0m\u001b[0;34m\u001b[0m\u001b[0m\n\u001b[0;32m--> 140\u001b[0;31m             \u001b[0;32mraise\u001b[0m \u001b[0mValueError\u001b[0m\u001b[0;34m\u001b[0m\u001b[0;34m\u001b[0m\u001b[0m\n\u001b[0m\u001b[1;32m    141\u001b[0m \u001b[0;34m\u001b[0m\u001b[0m\n\u001b[1;32m    142\u001b[0m \u001b[0;34m\u001b[0m\u001b[0m\n",
      "\u001b[0;31mValueError\u001b[0m: "
     ]
    }
   ],
   "source": [
    "# PUT YOUR CODE HERE\n",
    "L = Boson(name = \"L\", charge = 1.0, mass = 0.5, spin = 0.5)"
   ]
  },
  {
   "cell_type": "code",
   "execution_count": 14,
   "metadata": {},
   "outputs": [
    {
     "name": "stdout",
     "output_type": "stream",
     "text": [
      "False\n"
     ]
    }
   ],
   "source": [
    "electron = Fermion(name = \"electron\", charge = -1., mass = 1,  spin = 1./2.)\n",
    "positron = Fermion(name = \"positron\", charge = 1.0, mass = 0.5, spin = 0.5)\n",
    "\n",
    "print(f\"{electron.is_antiparticle(positron)}\")"
   ]
  },
  {
   "cell_type": "markdown",
   "metadata": {},
   "source": [
    "1. It rise ValueError when we create a boson with fractional spin. Which is exact reaction we want\n",
    "\n",
    "2. When we create two particles with exact inverse charge and same spin. however the masss is different. When we use antiparticle function to check if they are antiparticle to each other, it should return false since they have different mass. And my code turned false which is what we want"
   ]
  },
  {
   "cell_type": "markdown",
   "metadata": {},
   "source": [
    "Ok, now we have the building blocks to start creating more complex particles. \n",
    "\n",
    "**&#9989; Question 3.2.3 (8 points)**: Create a new class called `CompositeParticle`. **You should create this new class in the same `standard_model.py` script.** When you're done, there should be four different classes available to be imported from the script: `ElementaryParticles`, `Fermion`, `Boson`, `CompositeParticle`.\n",
    "\n",
    "\n",
    "The new `CompositeParticle` class has the following documentation:\n",
    "\n",
    "    \"\"\"\n",
    "    A particle composed of several elementary particles.\n",
    "    \n",
    "    Parameters\n",
    "    ----------\n",
    "\n",
    "    name: str\n",
    "        Name of the particle.\n",
    "\n",
    "    particles : list\n",
    "        List of particles objects that compose this particle.\n",
    "    \n",
    "    charge : float\n",
    "        Electric charge of the particle.\n",
    "\n",
    "    mass : float\n",
    "        Rest mass in MeV of the particle.\n",
    "\n",
    "    spin: float\n",
    "        Spin of the particle.\n",
    "        \n",
    "    \"\"\"\n",
    "* These documentations tell you what attributes you need to write. \n",
    "\n",
    "* This classes should have an `__init__` method that takes in two arguments: `name`, `particles`. This method should assign the charge, mass, and spin attributes by calculating the sum of the respective attributes of the elements of `particles`.\n",
    "\n",
    "* In the following cell create a new `CompositeParticle` called `pion` from the union of an up quark and a down antiquark. Print the value of the charge of the pion. _Note for the physicists_: this is not a real pion so don't expect to obtain the correct spin.\n",
    "\n",
    "* Copy the above docstring into your code.\n"
   ]
  },
  {
   "cell_type": "code",
   "execution_count": 23,
   "metadata": {},
   "outputs": [
    {
     "name": "stdout",
     "output_type": "stream",
     "text": [
      "0.0\n"
     ]
    }
   ],
   "source": [
    "# PUT YOUR CODE HERE\n",
    "from standard_model import CompositeParticle\n",
    "\n",
    "quark = Boson(name = \"quark\", charge = 1.0, mass = 0.5, spin = 1)\n",
    "antiquark = Fermion(name = \"antiquark\", charge = -1., mass = 0.5,  spin = 1./2.)\n",
    "\n",
    "pion = CompositeParticle(name = \"pion\", particles=[L, G])\n",
    "print(pion.charge)"
   ]
  },
  {
   "cell_type": "markdown",
   "metadata": {},
   "source": [
    "---\n",
    "### &#128721; STOP\n",
    "**Pause to commit your changes to your Git repository!**\n",
    "\n",
    "Take a moment to save your notebook, commit the changes to your Git repository using the commit message \"Committing part 3.2\", and push the changes to GitHub. **Make sure you've added and committed your newest version of `standard_model.py` to your repository!**\n",
    "\n",
    "---"
   ]
  },
  {
   "cell_type": "markdown",
   "metadata": {},
   "source": [
    "## Part 4: Creating an ABM universe (26 points)\n",
    "\n",
    "Let's create our universe. You'll need to download the `universe.py` script and put it in the same location as this notebook. **You should also add it and commit it to your repository in the same `hw-02` folder**. You will also **turn in your final version of this script into D2L along with your notebook**.\n",
    "\n",
    "You can download the file from here:\n",
    "\n",
    "`https://raw.githubusercontent.com/msu-cmse-courses/cmse202-S22-data/main/code_samples/universe.py`\n"
   ]
  },
  {
   "cell_type": "markdown",
   "metadata": {},
   "source": [
    "**&#9989; Question 4.1 (11 points)**: The Python class contained in this script is called `Universe` and, not surprisingly, it is designed to implement a simple ABM of the universe. However, it is lacking some information. \n",
    "\n",
    "1. Write docstrings for the methods.\n",
    "2. Complete the `evolve` method. It has a docstring that explains what it should do.\n",
    "3. Answer the questions in the `check_interaction` method."
   ]
  },
  {
   "cell_type": "markdown",
   "metadata": {},
   "source": [
    "1. pop means remove the given index value in list, also return this removed value.\n",
    "\n",
    "2. after we poped the first particle, all particles behind this one actually get -1 on their index. Thus we need -1 here.\n",
    "\n",
    "3. these two particle are destoried, the index and value in this loop is messed up, the continue is used to back to order we want\n",
    "\n",
    "4. similiarly with question 3"
   ]
  },
  {
   "cell_type": "markdown",
   "metadata": {},
   "source": [
    "Run the following cell to initialize our universe"
   ]
  },
  {
   "cell_type": "code",
   "execution_count": 40,
   "metadata": {
    "scrolled": false
   },
   "outputs": [
    {
     "name": "stdout",
     "output_type": "stream",
     "text": [
      "Using matplotlib backend: agg\n",
      "Populating the interactive namespace from numpy and matplotlib\n",
      "Done\n"
     ]
    },
    {
     "name": "stderr",
     "output_type": "stream",
     "text": [
      "/opt/anaconda3/lib/python3.8/site-packages/IPython/core/magics/pylab.py:159: UserWarning: pylab import has clobbered these variables: ['random']\n",
      "`%matplotlib` prevents importing * from pylab and numpy\n",
      "  warn(\"pylab import has clobbered these variables: %s\"  % clobbered +\n"
     ]
    }
   ],
   "source": [
    "# The \"magic\" command below tells Jupyter Notebook to automatically load classes and methods from external files \n",
    "# in case they have changed from last load time;\n",
    "# This is needed when you change the universe.py file\n",
    "%reload_ext autoreload\n",
    "%autoreload 2\n",
    "%pylab\n",
    "%matplotlib inline\n",
    "\n",
    "from IPython.display import display, clear_output\n",
    "\n",
    "from standard_model import Fermion, Boson\n",
    "from universe import Universe\n",
    "\n",
    "my_uni = Universe(width = 200 , height = 200)\n",
    "\n",
    "np.random.seed(123456789)\n",
    "\n",
    "# Create the universe with a list of particles\n",
    "for p in range(200):\n",
    "    my_uni.fermions.append(\n",
    "        Fermion( \n",
    "            name = f\"electron_{p}\",\n",
    "            charge = 1.0,\n",
    "            mass = 0.5,\n",
    "            spin = 0.5\n",
    "        )\n",
    "    )\n",
    "    my_uni.fermions.append(\n",
    "        Fermion( \n",
    "            name = f\"positron_{p}\",\n",
    "            charge = -1.0,\n",
    "            mass = 0.5,\n",
    "            spin = 0.5\n",
    "        )\n",
    "    )\n",
    "    my_uni.bosons.append(\n",
    "        Boson( \n",
    "            name = f\"photon_{p}\",\n",
    "            mass = 0., \n",
    "            charge = 0.0, \n",
    "            spin = 1.0\n",
    "        )\n",
    "    )\n",
    "\n",
    "# Group both sets of particles in one list. You will see later how this is useful.\n",
    "my_uni._all_particles = [*my_uni.fermions, *my_uni.bosons]\n",
    "\n",
    "print(\"Done\")"
   ]
  },
  {
   "cell_type": "markdown",
   "metadata": {},
   "source": [
    "**&#9989; Question 4.2 (6 points)**: We need to initialize the position of each particle. In the next cell randomly place each particle inside the confines of `my_uni` and make a new plot of the universe with the particles."
   ]
  },
  {
   "cell_type": "code",
   "execution_count": 41,
   "metadata": {},
   "outputs": [],
   "source": [
    "# PUT YOUR CODE HERE\n",
    "import random\n",
    "\n",
    "assigned_list = []\n",
    "\n",
    "for p in my_uni._all_particles:\n",
    "    while(True):\n",
    "        x, y = randint(200), randint(200)\n",
    "        if (x,y) not in assigned_list:\n",
    "            break\n",
    "    p.x, p.y = x, y\n",
    "    assigned_list.append((x,y))"
   ]
  },
  {
   "cell_type": "markdown",
   "metadata": {},
   "source": [
    "**&#9989; Question 4.3.1 (9 points):**  Let's run our ABM simulation. The following cell though will throw an error. Fix the error and then print the number of fermion annihilated and the number of boson created at each timestep. "
   ]
  },
  {
   "cell_type": "code",
   "execution_count": 43,
   "metadata": {
    "scrolled": false
   },
   "outputs": [
    {
     "data": {
      "image/png": "[encoded data removed]",
      "text/plain": [
       "<Figure size 720x720 with 1 Axes>"
      ]
     },
     "metadata": {},
     "output_type": "display_data"
    },
    {
     "name": "stdout",
     "output_type": "stream",
     "text": [
      "Total time = 300.4720826148987\n",
      "[3.3927412033081055, 6.636703729629517, 10.053564071655273, 13.434802055358887, 16.678258180618286, 20.06479811668396, 23.298245191574097, 26.68646764755249, 29.8934326171875, 33.07235264778137, 36.447983503341675, 39.80220818519592, 42.9997296333313, 46.162675619125366, 49.51920199394226, 52.84737229347229, 55.9986047744751, 59.14070153236389, 62.43576097488403, 65.69361901283264, 68.7884111404419, 71.85953402519226, 75.0993754863739, 78.17362189292908, 81.39903211593628, 84.57963347434998, 87.61447858810425, 90.64460492134094, 93.84205746650696, 96.87090373039246, 100.06038284301758, 103.09456372261047, 106.2850239276886, 109.46138501167297, 112.49426603317261, 115.48330044746399, 118.671879529953, 121.67472457885742, 124.82131505012512, 127.8046019077301, 130.92926263809204, 134.04124665260315, 137.01407384872437, 139.9729926586151, 143.10561084747314, 146.06847715377808, 149.17655491828918, 152.10043597221375, 155.18055534362793, 158.10878205299377, 161.1924433708191, 164.10405492782593, 167.16433143615723, 170.05620050430298, 173.0868275165558, 176.10427498817444, 178.9935324192047, 181.83851146697998, 184.88094067573547, 187.7121560573578, 190.67966294288635, 193.50195264816284, 196.45898342132568, 199.27389240264893, 202.24020791053772, 205.05851221084595, 208.03100156784058, 210.83584141731262, 213.7700595855713, 216.5663366317749, 219.5129153728485, 222.2911651134491, 225.20043015480042, 227.96116471290588, 230.87900614738464, 233.63716793060303, 236.53863430023193, 239.29344654083252, 242.19368386268616, 244.9423201084137, 247.8527889251709, 250.5779209136963, 253.46084237098694, 256.1929578781128, 259.07951736450195, 261.8090088367462, 264.67718958854675, 267.37102818489075, 270.2217924594879, 272.91105699539185, 275.77780985832214, 278.46971011161804, 281.3112950325012, 284.00256514549255, 286.83244466781616, 289.4943616390228, 292.15560817718506, 294.99478006362915, 297.80154156684875, 300.4720826148987]\n"
     ]
    },
    {
     "data": {
      "text/plain": [
       "<Figure size 720x720 with 0 Axes>"
      ]
     },
     "metadata": {},
     "output_type": "display_data"
    }
   ],
   "source": [
    "fig, ax = plt.subplots(figsize = (10,10))\n",
    "\n",
    "start = time.time()\n",
    "times = []\n",
    "\n",
    "for i in range(100):\n",
    "    \n",
    "    # RUN YOUR ABM\n",
    "    my_uni.evolve()\n",
    "    my_uni.draw()\n",
    "\n",
    "    # Animation part: Comment this part if you want it to go faster\n",
    "    plt.title(f\"Time = {i}\")\n",
    "    clear_output(wait=True) # Clear output for dynamic display\n",
    "    display(fig)            # Reset display\n",
    "    fig.clear()             # Prevent overlapping and layered plots\n",
    "        \n",
    "    end = time.time()\n",
    "    times.append(end-start)\n",
    "    \n",
    "print(\"Total time =\", end-start)    \n",
    "print(times)"
   ]
  },
  {
   "cell_type": "markdown",
   "metadata": {},
   "source": [
    "**&#9989; Question 4.3.2 (3 points):**\n",
    "1. How many bosons have been created in total, if any?\n",
    "2. How many fermions have been annihilated in total, if any?\n",
    "3. What can you do to speed up your simulation? (Beside commenting out the animation part)"
   ]
  },
  {
   "cell_type": "code",
   "execution_count": 44,
   "metadata": {},
   "outputs": [
    {
     "data": {
      "text/plain": [
       "547"
      ]
     },
     "execution_count": 44,
     "metadata": {},
     "output_type": "execute_result"
    }
   ],
   "source": [
    "len(my_uni._all_particles)"
   ]
  },
  {
   "cell_type": "markdown",
   "metadata": {},
   "source": [
    "there was 600 particles in total. now it only have 547. which means (600 - 547) = 53 boson has been created. also 53*2 = 106 fermions was destoried.\n",
    "\n",
    "1. 53\n",
    "\n",
    "2. 106\n",
    "\n",
    "3. improve the model. like detect if a boson will genereate when we move the particles. instead of calculating by writing two huge loop. "
   ]
  },
  {
   "cell_type": "markdown",
   "metadata": {},
   "source": [
    "---\n",
    "### &#128721; STOP\n",
    "**Pause to commit your changes to your Git repository!**\n",
    "\n",
    "Take a moment to save your notebook, commit the changes to your Git repository using the commit message \"Committing part 4\", merge the changes in the main branch, and push the changes to GitHub.\n",
    "\n",
    "---"
   ]
  },
  {
   "cell_type": "markdown",
   "metadata": {},
   "source": [
    "---\n",
    "## Assignment wrap-up\n",
    "\n",
    "Please fill out the form that appears when you run the code below.  **You must completely fill this out in order to receive credit for the assignment!**"
   ]
  },
  {
   "cell_type": "code",
   "execution_count": 45,
   "metadata": {},
   "outputs": [
    {
     "data": {
      "text/html": [
       "\n",
       "<iframe \n",
       "\tsrc=\"https://forms.office.com/Pages/ResponsePage.aspx?id=MHEXIi9k2UGSEXQjetVofVWe89dpqk1HpKW7eyyv-IhURDZRWEZYMFJISDhWN0FNTjJOSFhDREc0Mi4u\"\n",
       "\twidth=\"800px\" \n",
       "\theight=\"600px\" \n",
       "\tframeborder=\"0\" \n",
       "\tmarginheight=\"0\" \n",
       "\tmarginwidth=\"0\">\n",
       "\tLoading...\n",
       "</iframe>\n"
      ],
      "text/plain": [
       "<IPython.core.display.HTML object>"
      ]
     },
     "execution_count": 45,
     "metadata": {},
     "output_type": "execute_result"
    }
   ],
   "source": [
    "from IPython.display import HTML\n",
    "HTML(\n",
    "\"\"\"\n",
    "<iframe \n",
    "\tsrc=\"https://forms.office.com/Pages/ResponsePage.aspx?id=MHEXIi9k2UGSEXQjetVofVWe89dpqk1HpKW7eyyv-IhURDZRWEZYMFJISDhWN0FNTjJOSFhDREc0Mi4u\"\n",
    "\twidth=\"800px\" \n",
    "\theight=\"600px\" \n",
    "\tframeborder=\"0\" \n",
    "\tmarginheight=\"0\" \n",
    "\tmarginwidth=\"0\">\n",
    "\tLoading...\n",
    "</iframe>\n",
    "\"\"\"\n",
    ")"
   ]
  },
  {
   "cell_type": "markdown",
   "metadata": {},
   "source": [
    "### Congratulations, you're done!\n",
    "\n",
    "Submit this assignment by uploading it to the course Desire2Learn web page.  Go to the \"Homework Assignments\" folder, find the dropbox link for Homework #2, and upload **your notebook, your standard_model.py, and your universe.py scripts** there."
   ]
  },
  {
   "cell_type": "markdown",
   "metadata": {},
   "source": [
    "&#169; Copyright 2021,  Department of Computational Mathematics, Science and Engineering at Michigan State University"
   ]
  }
 ],
 "metadata": {
  "anaconda-cloud": {},
  "kernelspec": {
   "display_name": "Python 3",
   "language": "python",
   "name": "python3"
  },
  "language_info": {
   "codemirror_mode": {
    "name": "ipython",
    "version": 3
   },
   "file_extension": ".py",
   "mimetype": "text/x-python",
   "name": "python",
   "nbconvert_exporter": "python",
   "pygments_lexer": "ipython3",
   "version": "3.8.8"
  }
 },
 "nbformat": 4,
 "nbformat_minor": 4
}
