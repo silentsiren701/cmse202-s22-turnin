{
 "cells": [
  {
   "cell_type": "markdown",
   "metadata": {},
   "source": [
    "# Homework Assignment #2 (Individual)\n",
    "## Pandas Review, Python Classes, and ABM"
   ]
  },
  {
   "cell_type": "markdown",
   "metadata": {},
   "source": [
    "### <p style=\"text-align: right;\"> &#9989; Put your name here.</p>\n",
    "### <p style=\"text-align: right;\"> &#9989; Put your _GitHub username_ here.</p>"
   ]
  },
  {
   "cell_type": "markdown",
   "metadata": {},
   "source": [
    "### Goals for this homework assignment\n",
    "By the end of this assignment, you should be able to:\n",
    "* Use Git to create a repository, create a new branch, merge branches, track changes to the files within the repository, and push those changes to a remote repository.\n",
    "* Use your Pandas skills to load and explore some data and visualize it with seaborn.\n",
    "* Read and write Python classes, including classes that leverage object inheritance and composition.\n",
    "* Run and agent based model simulation.\n",
    "\n",
    "Work through the following assignment, making sure to follow all of the directions and answer all of the questions.\n",
    "\n",
    "There are **98 points** possible on this assignment. Point values for each part are included in the section headers and question prompts.\n",
    "\n",
    "**This assignment is due in roughly two weeks from now at 11:59 pm on Friday, February 18.** It should be uploaded into the \"Homework Assignments\" submission folder for Homework #2.  Submission instructions can be found at the end of the notebook."
   ]
  },
  {
   "cell_type": "markdown",
   "metadata": {},
   "source": [
    "---\n",
    "## Part 1: Add to your Git repository to track your progress on your assignment (6 points)\n",
    "\n",
    "For this assignment, you're going to add it to the `cmse202-s22-turnin` repository you created in class so that you can track your progress on the assignment and preserve the final version that you turn in. In order to do this you need to\n",
    "\n",
    "**&#9989; Do the following**:\n",
    "\n",
    "1. Navigate to your `cmse202-s22-turnin` repository and create a new directory called `hw-02`.\n",
    "2. Move this notebook into that **new directory** in your repository, then **add it and commit it to your repository**.\n",
    "1. Finally, to test that everything is working, \"git push\" the file so that it ends up in your GitHub repository.\n",
    "\n",
    "**Important**: Double check you've added your Professor and your TA as collaborators to your \"turnin\" repository (you should have done this in the previous homework assignment).\n",
    "\n",
    "**Also important**: Make sure that the version of this notebook that you are working on is the same one that you just added to your repository! If you are working on a different copy of the notebook, **none of your changes will be tracked**!\n",
    "\n",
    "If everything went as intended, the file should now show up on your GitHub account in the \"`cmse202-s22-turnin`\" repository inside the `hw-02` directory that you just created.  Periodically, **you'll be asked to commit your changes to the repository and push them to the remote GitHub location**. Of course, you can always commit your changes more often than that, if you wish.  It can be good to get into a habit of committing your changes any time you make a significant modification, or when you stop working on the project for a bit.\n",
    "\n",
    "&#9989; **Do this**: Before you move on, put the command that your instructor should run to clone your repository in the markdown cell below."
   ]
  },
  {
   "cell_type": "markdown",
   "metadata": {},
   "source": []
  },
  {
   "cell_type": "markdown",
   "metadata": {
    "pycharm": {
     "name": "#%% md\n"
    }
   },
   "source": [
    "&#9989; **Do this**: Before you move on, create a new branch called `hw02_branch` and move into it. In the cell below put the command(s) to create a new branch and to checkout the new branch. (_Note_: your TA will be able to see if you have created the branch and its history)."
   ]
  },
  {
   "cell_type": "markdown",
   "metadata": {
    "pycharm": {
     "name": "#%% md\n"
    }
   },
   "source": []
  },
  {
   "cell_type": "markdown",
   "metadata": {
    "pycharm": {
     "name": "#%% md\n"
    }
   },
   "source": [
    "**You MUST work in this new branch and merge it at the end.**"
   ]
  },
  {
   "cell_type": "markdown",
   "metadata": {},
   "source": [
    "---\n",
    "<img src=https://imgs.xkcd.com/comics/hertzsprung_russell_diagram_2x.png width=300px align=right >\n",
    "\n",
    "## Part 2: Load, manipulate, and visualize data with Pandas (21 points)\n",
    "\n",
    "For this part of the assignment, you're going to brush off your Pandas skills and your data manipulation and visualization skills. Throughout the course we'll continue to work with data, so this should be a good opportunity to remind yourself of some tools and techniques you picked up in CMSE 201 or perhaps learn something new.\n",
    "\n",
    "Let's recreate the [Hertzsprung-Russell](https://en.wikipedia.org/wiki/Hertzsprung%E2%80%93Russell_diagram) diagram. Download the file `stars.csv` and place it in the same folder as this notebook.\n",
    "\n",
    "You can download the file from here:\n",
    "\n",
    "`https://raw.githubusercontent.com/msu-cmse-courses/cmse202-S22-data/main/code_samples/stars.csv`\n",
    "\n"
   ]
  },
  {
   "cell_type": "markdown",
   "metadata": {
    "pycharm": {
     "name": "#%% md\n"
    }
   },
   "source": [
    "&#9989; **Question 2.1 (2 points)**: To get started, **read in the `stars.csv` dataset using Pandas** and then use Pandas to display the first 15 rows of the data."
   ]
  },
  {
   "cell_type": "code",
   "execution_count": null,
   "metadata": {
    "pycharm": {
     "name": "#%%\n"
    }
   },
   "outputs": [],
   "source": [
    "# PUT YOUR CODE HERE\n"
   ]
  },
  {
   "cell_type": "markdown",
   "metadata": {},
   "source": [
    "As usual this dataset needs to be cleaned a little bit. Note that the star type is a number that doesn't really tell us much. Fortunately, we have asked our astro friends to give us more information and they told us what the numbers stand for.\n",
    "\n",
    "&#9989; **Question 2.2 (3 points)**: Drop the `Absolute magnitude (Mv)` column, replace the values in the column `Star type` with the following list, print the resulting dataframe\n",
    "\n",
    "    0 -> Brown Dwarf\n",
    "    1 -> Red Dwarf\n",
    "    2 -> White Dwarf\n",
    "    3 -> Main Sequence\n",
    "    4 -> Supergiant\n",
    "    5 -> Hypergiant\n",
    "\n",
    "You should use the [`replace`](https://pandas.pydata.org/docs/reference/api/pandas.DataFrame.replace.html) method of the dataframe."
   ]
  },
  {
   "cell_type": "code",
   "execution_count": null,
   "metadata": {},
   "outputs": [],
   "source": [
    "### PUT YOUR CODE HERE\n"
   ]
  },
  {
   "cell_type": "markdown",
   "metadata": {},
   "source": [
    "&#9989; **Question 2.3 (4 points)**: What built-in Pandas functions can you use to get a quick statistical summary of your data (e.g. the mean, standard deviation, min, max, etc) divided by star type? **Use this function to summarize the data for each star type and then answer the following questions**: \n",
    "\n",
    "1. How many stars are for each type?\n",
    "2. Which star type has the highest mean temperature?"
   ]
  },
  {
   "cell_type": "code",
   "execution_count": null,
   "metadata": {},
   "outputs": [],
   "source": [
    "### PUT YOUR CODE HERE\n"
   ]
  },
  {
   "cell_type": "markdown",
   "metadata": {},
   "source": [
    "**<font size=+3>&#9998;</font> Do This**: *Record your observations of your plot here.*"
   ]
  },
  {
   "cell_type": "markdown",
   "metadata": {
    "pycharm": {
     "name": "#%% md\n"
    }
   },
   "source": [
    "&#9989; **Question 2.4 (7 points)**: Using `seaborn` make a plot equivalent to what `scatter_matrix` would produce ([_Hint_](https://seaborn.pydata.org/examples/index.html) ) and set the `hue` option equal to `Star type`. Then answer the following questions\n",
    "\n",
    "1. What does the diagonal represent? How is that different from the diagonal of `scatter_matrix`?\n",
    "2. What do the spikes in the diagonal tell you ? How are they related to the print out of the cell above ?\n",
    "3. Can you see clear distinctions between different star types?"
   ]
  },
  {
   "cell_type": "code",
   "execution_count": null,
   "metadata": {
    "pycharm": {
     "name": "#%%\n"
    }
   },
   "outputs": [],
   "source": [
    "# PUT YOUR CODE HERE"
   ]
  },
  {
   "cell_type": "markdown",
   "metadata": {},
   "source": [
    "Let's make the Hertzsprung-Russell diagram.\n",
    "\n",
    "&#9989; **Question 2.5 (3 points)**: Use `seaborn` to make a scatter plot of the data with:\n",
    "- Temperature on the $x$-axis and Luminosity on the $y$-axis and label them\n",
    "- Use the column `Star type` for your `hue` parameter\n",
    "- Make the $x$-axis and $y$-axis **log** scaled\n",
    "\n",
    "\n",
    "Compare your plot with the one [here](https://www.google.com/url?sa=i&url=https%3A%2F%2Fwww.eso.org%2Fpublic%2Fimages%2Feso0728c%2F&psig=AOvVaw0vMZoAEnGtjcWQspl1IgVK&ust=1644303543060000&source=images&cd=vfe&ved=0CAgQjRxqFwoTCJjJ1J6C7fUCFQAAAAAdAAAAABAD). Notice that your plot is flipped! This is because the Temperature increases towards the left!!! You can fix this by adding this line to the end of your code\n",
    "\n",
    "    plt.gca().invert_xaxis()\n",
    "\n",
    "**NOTE:** This is not necessary. It is just so that the astrophycisists don't get mad \t&#128516;"
   ]
  },
  {
   "cell_type": "code",
   "execution_count": null,
   "metadata": {},
   "outputs": [],
   "source": [
    "# PUT YOUR CODE HERE\n"
   ]
  },
  {
   "cell_type": "markdown",
   "metadata": {},
   "source": [
    "&#9989; **Question 2.6 (3 points)**: One of star type is obviously easier to separate than the others. Can you use a Boolean mask on the dataframe and isolate that one species **using `Temperature` and `Luminosity` and *not the star type***? Try to do so below and confirm that you were successful.\n",
    "\n",
    "Why weren't we able to see such a pattern in the previous plot?\n"
   ]
  },
  {
   "cell_type": "code",
   "execution_count": null,
   "metadata": {
    "pycharm": {
     "name": "#%%\n"
    }
   },
   "outputs": [],
   "source": [
    "# PUT YOUR CODE HERE"
   ]
  },
  {
   "cell_type": "markdown",
   "metadata": {},
   "source": [
    "---\n",
    "### &#128721; STOP\n",
    "**Pause to commit your changes to your Git repository!**\n",
    "\n",
    "Take a moment to save your notebook, commit the changes to your Git repository using the commit message \"Committing Part 2\", and push the changes to GitHub. If you want you can merge your changes with the `main` branch, but you must checkout branch `hw_02` for Part 3.\n",
    "\n",
    "---"
   ]
  },
  {
   "cell_type": "markdown",
   "metadata": {},
   "source": [
    "## Part 3: Writing Python classes (44 points)\n",
    "\n",
    "<img src=\"https://upload.wikimedia.org/wikipedia/commons/thumb/0/00/Standard_Model_of_Elementary_Particles.svg/627px-Standard_Model_of_Elementary_Particles.svg.png\" alt=\"Image credit: www.wikipedia\">"
   ]
  },
  {
   "cell_type": "markdown",
   "metadata": {},
   "source": [
    "### 3.1 Using and enhancing a pre-existing class (16 points)\n",
    "\n",
    "For this section, you're going to explore a little bit of particle physics, by expanding on the pre-existing Python class contained in a file called `standard_model.py`. You'll need to download this script and put it in the same location as this notebook. **You should also add it and commit it to your repository in the same `hw-02` folder**. You will also **turn in your final version of this script into D2L along with your notebook**.\n",
    "\n",
    "You can download the file from here:\n",
    "\n",
    "`https://raw.githubusercontent.com/msu-cmse-courses/cmse202-S22-data/main/code_samples/standard_model.py`\n",
    "\n",
    "The Python class contained in this script is called `ElementaryParticle` and, not surprisingly, it is designed to store information about the building blocks of the universe. Currently it only has few simple methods. \n",
    "\n",
    "Let's first confirm that you've got the script in the right place and that everything imports and runs correctly.\n",
    "\n",
    "**&#9989; Do this:** Execute the cell below to makes sure that your newly downloaded `ElementaryParticle` class is working correctly. It should run without errors"
   ]
  },
  {
   "cell_type": "code",
   "execution_count": null,
   "metadata": {},
   "outputs": [],
   "source": [
    "# The \"magic\" command below tells Jupyter Notebook to automatically load classes and methods from external files \n",
    "# in case they have changed from last load time;\n",
    "# This is needed when you change the standard_model.py file\n",
    "%reload_ext autoreload\n",
    "%autoreload 2\n",
    "\n",
    "from standard_model_INSTRUCTOR import ElementaryParticle\n",
    "\n",
    "# Create two particles\n",
    "electron = ElementaryParticle(mass = 0.5, charge = -1., spin = 1./2.)\n",
    "photon = ElementaryParticle(mass = 0.0, spin = 1.0, charge = 0.0)\n",
    "\n",
    "print(\"{:=^60}\".format(\" Electron \"))\n",
    "electron.info()\n",
    "print(\"{:=^60}\".format(\" Photon \"))\n",
    "photon.info()"
   ]
  },
  {
   "cell_type": "markdown",
   "metadata": {},
   "source": [
    "**&#9989; Question 3.1.1 (3 points):** Notice something strange? The order of the inputs is different than the one in the script `ElementaryParticle.py`. Nonetheless we get the right answer when we print out the values. Read this [article](https://www.geeksforgeeks.org/args-kwargs-python/) and answer these questions:\n",
    "\n",
    "1. What is the difference between `args` and `kwargs`?\n",
    "2. Which of the two types of arguments I am using in the above instantiation of particles?\n",
    "3. Why do I get the right answer?"
   ]
  },
  {
   "cell_type": "markdown",
   "metadata": {},
   "source": [
    "**<font size=+3>&#9998;</font> Do This** - Erase the contents of this cell and replace it with your answer."
   ]
  },
  {
   "cell_type": "markdown",
   "metadata": {
    "pycharm": {
     "name": "#%% md\n"
    }
   },
   "source": [
    "**&#9989; Question 3.1.2 (9 points); Make sure to read _everything_ carefully!:** Using this class as a starting point, your goal is to do the following:\n",
    "\n",
    "* Add a new attribute, `ptype`, to the class so that it is set to a default of `None` when the class object is first initialized. This attributes will indicate whether the particle is a boson or a fermion.\n",
    "* Add another class method, called `check_type`, that takes no input. **This method should:**\n",
    "    - check whether the particle is a \"fermion\" or a \"boson\". Bosons have integer spin, fermions have fractional spin. *Hint*: look at the built-in methods of [`float`](https://docs.python.org/3/library/stdtypes.html#additional-methods-on-float). Is there one that could help you answer this question?\n",
    "    - update the attribute `ptype` with the type of particle, `\"fermion\"` or `\"boson\"`.\n",
    "    - return the attribute `ptype`.\n",
    "* Add a new class method, called `compare`, that takes **one input**, called `other`. Using this input, **this method should**:\n",
    "    1. Check that `other` is an instance of the `ElementaryParticle` class. [Hint](<https://letmegooglethat.com/?q=How+do+I+check+if+an+object+is+an+instance+of+a+given+class+python>).\n",
    "    2. If so it must print to screen whether their charges are equal, whether their masses are equal, whether their spin are equal.\n",
    "    3. If `other` is not a particle raise an error message that requests the user to pass a valid particle. [Hint](https://stackoverflow.com/questions/2052390/manually-raising-throwing-an-exception-in-python).\n",
    "\n",
    "In order to check that everything is working correctly, **run the following cell**. It should not return any errors and should print the following:\n",
    "\n",
    "    ======================== Check Type ========================\n",
    "    fermion\n",
    "    boson\n",
    "    ======================== Comparison ========================\n",
    "    Electron vs Photon\n",
    "    The two particles have the same charge: False\n",
    "    The two particles have the same mass: False\n",
    "    The two particles have the same spin: False"
   ]
  },
  {
   "cell_type": "code",
   "execution_count": null,
   "metadata": {},
   "outputs": [],
   "source": [
    "# The \"magic\" command below tells Jupyter Notebook to automatically load classes and methods from external files \n",
    "# in case they have changed from last load time;\n",
    "# This is needed when you change the standard_model.py file\n",
    "%reload_ext autoreload\n",
    "%autoreload 2\n",
    "\n",
    "from standard_model_INSTRUCTOR import ElementaryParticle\n",
    "\n",
    "# Create two particles\n",
    "up_quark = ElementaryParticle(charge = 1./3, mass = 2.2,  spin = 1./2.)\n",
    "gluon = ElementaryParticle(charge = 0.0, mass = 0.0, spin = 1.0)\n",
    "\n",
    "# Fermions or Bosons?\n",
    "print(\"{:=^60}\".format(\" Check Type \"))\n",
    "print(f\"{up_quark.check_type()}\")\n",
    "print(f\"{gluon.check_type()}\")\n",
    "\n",
    "# Compare\n",
    "print(\"{:=^60}\".format(\" Comparison \"))\n",
    "print(\"Up Quark vs Gluon\")\n",
    "up_quark.compare(gluon)"
   ]
  },
  {
   "cell_type": "markdown",
   "metadata": {},
   "source": [
    "**&#9989; Question 3.1.3 (2 points):** You should practice writing [docstrings](https://www.programiz.com/python-programming/docstrings) in your script so that it is clear what your methods are doing! You can look at the provided code to get a sense for how this is done.\n",
    "\n",
    "- Did you write docstring for both methods? What type of inputs does `compare` take?\n",
    "\n",
    "Run the following code you should not get any error. "
   ]
  },
  {
   "cell_type": "code",
   "execution_count": null,
   "metadata": {},
   "outputs": [],
   "source": [
    "print(\"\\n{:=^50}\".format(\" Documentation for check_type \"))\n",
    "print(ElementaryParticle.check_type.__doc__)\n",
    "#\n",
    "print(\"\\n{:=^50}\".format(\" Documentation for compare \"))\n",
    "print(ElementaryParticle.compare.__doc__)"
   ]
  },
  {
   "cell_type": "markdown",
   "metadata": {},
   "source": [
    "#### Testing _all_ of your code is important!\n",
    "\n",
    "Any time you write new code, you should get in the habit of trying to test it to make sure it is working as intended, but we didn't check **all** of your new functionality in the code cell above.\n",
    "\n",
    "**&#9989; Question 3.1.4 (2 points):** Is everything working correctly if you don't pass an `ElementaryParticle` to the `compare` method?\n",
    "\n",
    "**Write some code that proves that your `compare` method is working correctly when you are not passing an `ElementaryParticle` object.** You have some options for how you might do this. \n",
    "\n",
    "*Remember*, if you're editing your script and testing things out, you may need to make sure your class is being imported again to ensure that you're using the newest version of your script.\n",
    "\n",
    "In the markdown cell below your code, **explain how you know that your method is working correctly based on the code that you provided**.\n"
   ]
  },
  {
   "cell_type": "code",
   "execution_count": null,
   "metadata": {},
   "outputs": [],
   "source": [
    "# PUT YOUR CODE HERE\n"
   ]
  },
  {
   "cell_type": "markdown",
   "metadata": {},
   "source": [
    "**<font size=+3>&#9998;</font> Do This** - Erase the contents of this cell and replace it with your explanation for how you know that you `compare` method is working correctly."
   ]
  },
  {
   "cell_type": "markdown",
   "metadata": {},
   "source": [
    "---\n",
    "### &#128721; STOP\n",
    "**Pause to commit your changes to your Git repository!**\n",
    "\n",
    "Take a moment to save your notebook, commit the changes to your Git repository using the commit message \"Committing part 3.1\", and push the changes to GitHub. **Make sure you've added your version of `standard_model.py` to your repository!**\n",
    "\n",
    "---"
   ]
  },
  {
   "cell_type": "markdown",
   "metadata": {},
   "source": [
    "### 3.2 Inheritance and Composition (28 points)\n",
    "\n",
    "Once we've built a class, if we decide we need some sort of specialized functionality, we can create a new class that inherits all of the properties of the first one. Let's do that now!\n",
    "\n",
    "As you can see in the figure above there are different type of particles: quarks, leptons, gauge bosons, and scalar bosons. Our `ElementaryParticle` class has all the functionalities and properties common amongst all these particles, but all the particles fall into one of two categories: fermions or bosons.\n",
    "Fermions are particles that create matter while bosons are called force carriers. _SideNote_: Anytime two charges  repel/attract each other their are exchanging photons amongst them. &#129299;\n",
    "\n",
    "**&#9989; Question 3.2.1 (18 points)**: Now that you have a functioning class, your next task is to create two new classes, `Fermion` and `Boson`, that **inherit** the `ElementaryParticle` class. **You should create this new class in the same `standard_model.py` script.** When you're done, there should be three different classes available to be imported from the script: `ElementaryParticles`, `Fermion`, `Boson`.\n",
    "\n",
    "The new `Boson` class, has the following documentation:\n",
    "\n",
    "    \"\"\"\n",
    "    Boson: elementary particle that obeys Bose-Einstein statistics.\n",
    "    This class inherits the ElementaryParticle class with all its attributes and methods.\n",
    "    Further attributes and methods are\n",
    "    \n",
    "    Attributes\n",
    "    ----------\n",
    "    name: str\n",
    "        Name of the particle.\n",
    "    \n",
    "    Methods\n",
    "    -------\n",
    "    check_existence()\n",
    "        Checks whether this Boson can exists by calling its parent's method check_type()\n",
    "        Raises a ValueError if check_type() returns \"fermion\"\n",
    "            \n",
    "    \"\"\"\n",
    "    \n",
    "The new `Fermion` class has the following documentation:\n",
    "\n",
    "    \"\"\"\n",
    "    Fermion: elementary particle that obeys Fermi-Dirac statistics.\n",
    "    This class inherits the ElementaryParticle class with all its attributes and methods.\n",
    "    Further attributes and methods are\n",
    "    \n",
    "    Attributes\n",
    "    ----------\n",
    "    name: str\n",
    "        Name of the particle.\n",
    "    \n",
    "    Methods\n",
    "    -------\n",
    "    check_existence()\n",
    "        Checks whether this Fermion can exists by calling its parent's method check_type()\n",
    "        Raises a ValueError if the check_type() returns \"boson\"\n",
    "        \n",
    "    is_antiparticle(other):\n",
    "        Check whether other is the anti-particle of this Fermion \n",
    "        by checking if other is an instance of Fermion first.\n",
    "    \n",
    "    \"\"\"\n",
    "* These documentations tell you what methods and attributes you need to write. \n",
    "\n",
    "* Both classes should have an `__init__` method that takes in four arguments: `name`, `charge`, `mass`, `spin`. This method should use `ElementaryParticle`'s `__init__` method to initialize the last three attributes. In addition this method should call the method `check_existence` to verify that we have passed the correct arguments. See documentation above.\n",
    "\n",
    "* As mentioned in the documentation the `Fermion` class should have a new class method, `is_antiparticle`, that takes one input, `other`, and verifies whether it is the antiparticle. An antiparticle is an exact copy of a particle with the only difference that the antiparticle has the opposite sign. As an example see [electron](https://en.wikipedia.org/wiki/Electron) and [positron](https://en.wikipedia.org/wiki/Positron). This method should check whether other is an instance of a `Fermion` and return `True` if `other` is an antiparticle or `False` if it is not.\n",
    "\n",
    "* Copy the above docstrings into your code.\n",
    "\n",
    "Run the following code as a first check. You should get this result\n",
    "```\n",
    "======================== Comparison ========================\n",
    "Electron vs Positron\n",
    "True\n",
    "```"
   ]
  },
  {
   "cell_type": "code",
   "execution_count": null,
   "metadata": {},
   "outputs": [],
   "source": [
    "# The \"magic\" command below tells Jupyter Notebook to automatically load classes and methods from external files \n",
    "# in case they have changed from last load time;\n",
    "# This is needed when you change the standard_model.py file\n",
    "%reload_ext autoreload\n",
    "%autoreload 2\n",
    "\n",
    "from standard_model_INSTRUCTOR import ElementaryParticle, Fermion, Boson\n",
    "\n",
    "# Create two particles\n",
    "electron = Fermion(name = \"electron\", charge = -1., mass = 0.5,  spin = 1./2.)\n",
    "positron = Fermion(name = \"positron\", charge = 1.0, mass = 0.5, spin = 0.5)\n",
    "\n",
    "# Compare\n",
    "print(\"{:=^60}\".format(\" Comparison \"))\n",
    "print(\"Electron vs Positron\")\n",
    "print(f\"{electron.is_antiparticle(positron)}\")"
   ]
  },
  {
   "cell_type": "markdown",
   "metadata": {},
   "source": [
    "#### Testing _all_ of your code is important!\n",
    "\n",
    "Any time you write new code, you should get in the habit of trying to test it to make sure it is working as intended, but we didn't check **all** of your new functionality in the code cell above.\n",
    "\n",
    "**&#9989; Question 3.2.2 (2 points):** Is everything working correctly? What happens when you create a boson with fractional spin? What happens if you try the anti-particle has a different mass?\n",
    "\n",
    "**Write some code that proves that your methods are working correctly**. You have some options for how you might do this. \n",
    "\n",
    "*Remember*, if you're editing your script and testing things out, you may need to make sure your class is being imported again to ensure that you're using the newest version of your script.\n",
    "\n",
    "In the markdown cell below your code, **explain how you know that your method is working correctly based on the code that you provided**.\n"
   ]
  },
  {
   "cell_type": "code",
   "execution_count": null,
   "metadata": {},
   "outputs": [],
   "source": [
    "# PUT YOUR CODE HERE"
   ]
  },
  {
   "cell_type": "markdown",
   "metadata": {},
   "source": [
    "**<font size=+3>&#9998;</font> Do This** - Erase the contents of this cell and replace it with your explanation of how you would test your code."
   ]
  },
  {
   "cell_type": "markdown",
   "metadata": {},
   "source": [
    "Ok, now we have the building blocks to start creating more complex particles. \n",
    "\n",
    "**&#9989; Question 3.2.3 (8 points)**: Create a new class called `CompositeParticle`. **You should create this new class in the same `standard_model.py` script.** When you're done, there should be four different classes available to be imported from the script: `ElementaryParticles`, `Fermion`, `Boson`, `CompositeParticle`.\n",
    "\n",
    "\n",
    "The new `CompositeParticle` class has the following documentation:\n",
    "\n",
    "    \"\"\"\n",
    "    A particle composed of several elementary particles.\n",
    "    \n",
    "    Parameters\n",
    "    ----------\n",
    "\n",
    "    name: str\n",
    "        Name of the particle.\n",
    "\n",
    "    particles : list\n",
    "        List of particles objects that compose this particle.\n",
    "    \n",
    "    charge : float\n",
    "        Electric charge of the particle.\n",
    "\n",
    "    mass : float\n",
    "        Rest mass in MeV of the particle.\n",
    "\n",
    "    spin: float\n",
    "        Spin of the particle.\n",
    "        \n",
    "    \"\"\"\n",
    "* These documentations tell you what attributes you need to write. \n",
    "\n",
    "* This classes should have an `__init__` method that takes in two arguments: `name`, `particles`. This method should assign the charge, mass, and spin attributes by calculating the sum of the respective attributes of the elements of `particles`.\n",
    "\n",
    "* In the following cell create a new `CompositeParticle` called `pion` from the union of an up quark and a down antiquark. Print the value of the charge of the pion. _Note for the physicists_: this is not a real pion so don't expect to obtain the correct spin.\n",
    "\n",
    "* Copy the above docstring into your code.\n"
   ]
  },
  {
   "cell_type": "code",
   "execution_count": null,
   "metadata": {},
   "outputs": [],
   "source": [
    "# PUT YOUR CODE HERE\n"
   ]
  },
  {
   "cell_type": "markdown",
   "metadata": {},
   "source": [
    "---\n",
    "### &#128721; STOP\n",
    "**Pause to commit your changes to your Git repository!**\n",
    "\n",
    "Take a moment to save your notebook, commit the changes to your Git repository using the commit message \"Committing part 3.2\", and push the changes to GitHub. **Make sure you've added and committed your newest version of `standard_model.py` to your repository!**\n",
    "\n",
    "---"
   ]
  },
  {
   "cell_type": "markdown",
   "metadata": {},
   "source": [
    "## Part 4: Creating an ABM universe (26 points)\n",
    "\n",
    "Let's create our universe. You'll need to download the `universe.py` script and put it in the same location as this notebook. **You should also add it and commit it to your repository in the same `hw-02` folder**. You will also **turn in your final version of this script into D2L along with your notebook**.\n",
    "\n",
    "You can download the file from here:\n",
    "\n",
    "`https://raw.githubusercontent.com/msu-cmse-courses/cmse202-S22-data/main/code_samples/universe.py`\n"
   ]
  },
  {
   "cell_type": "markdown",
   "metadata": {},
   "source": [
    "**&#9989; Question 4.1 (11 points)**: The Python class contained in this script is called `Universe` and, not surprisingly, it is designed to implement a simple ABM of the universe. However, it is lacking some information. \n",
    "\n",
    "1. Write docstrings for the methods.\n",
    "2. Complete the `evolve` method. It has a docstring that explains what it should do.\n",
    "3. Answer the questions in the `check_interaction` method."
   ]
  },
  {
   "cell_type": "markdown",
   "metadata": {},
   "source": [
    "**<font size=+3>&#9998;</font> Do This** - Erase the content of this cell and replace it with your answers to the questions in the `check_interaction` method."
   ]
  },
  {
   "cell_type": "markdown",
   "metadata": {},
   "source": [
    "Run the following cell to initialize our universe"
   ]
  },
  {
   "cell_type": "code",
   "execution_count": null,
   "metadata": {
    "scrolled": false
   },
   "outputs": [],
   "source": [
    "# The \"magic\" command below tells Jupyter Notebook to automatically load classes and methods from external files \n",
    "# in case they have changed from last load time;\n",
    "# This is needed when you change the universe.py file\n",
    "%reload_ext autoreload\n",
    "%autoreload 2\n",
    "%pylab\n",
    "%matplotlib inline\n",
    "\n",
    "from IPython.display import display, clear_output\n",
    "\n",
    "from standard_model_INSTRUCTOR import Fermion, Boson\n",
    "from universe_INSTRUCTOR import Universe\n",
    "\n",
    "my_uni = Universe(width = 200 , height = 200)\n",
    "\n",
    "np.random.seed(123456789)\n",
    "\n",
    "# Create the universe with a list of particles\n",
    "for p in range(200):\n",
    "    my_uni.fermions.append(\n",
    "        Fermion( \n",
    "            name = f\"electron_{p}\",\n",
    "            charge = 1.0,\n",
    "            mass = 0.5,\n",
    "            spin = 0.5\n",
    "        )\n",
    "    )\n",
    "    my_uni.fermions.append(\n",
    "        Fermion( \n",
    "            name = f\"positron_{p}\",\n",
    "            charge = -1.0,\n",
    "            mass = 0.5,\n",
    "            spin = 0.5\n",
    "        )\n",
    "    )\n",
    "    my_uni.bosons.append(\n",
    "        Boson( \n",
    "            name = f\"photon_{p}\",\n",
    "            mass = 0., \n",
    "            charge = 0.0, \n",
    "            spin = 1.0\n",
    "        )\n",
    "    )\n",
    "\n",
    "# Group both sets of particles in one list. You will see later how this is useful.\n",
    "my_uni._all_particles = [*my_uni.fermions, *my_uni.bosons]\n",
    "\n",
    "print(\"Done\")"
   ]
  },
  {
   "cell_type": "markdown",
   "metadata": {},
   "source": [
    "**&#9989; Question 4.2 (6 points)**: We need to initialize the position of each particle. In the next cell randomly place each particle inside the confines of `my_uni` and make a new plot of the universe with the particles."
   ]
  },
  {
   "cell_type": "code",
   "execution_count": null,
   "metadata": {},
   "outputs": [],
   "source": [
    "# PUT YOUR CODE HERE\n"
   ]
  },
  {
   "cell_type": "markdown",
   "metadata": {},
   "source": [
    "**&#9989; Question 4.3.1 (9 points):**  Let's run our ABM simulation. The following cell though will throw an error. Fix the error and then print the number of fermion annihilated and the number of boson created at each timestep. "
   ]
  },
  {
   "cell_type": "code",
   "execution_count": null,
   "metadata": {
    "scrolled": false
   },
   "outputs": [],
   "source": [
    "fig, ax = plt.subplots(figsize = (10,10))\n",
    "\n",
    "start = time.time()\n",
    "times = []\n",
    "\n",
    "for i in range(100):\n",
    "    \n",
    "    # RUN YOUR ABM\n",
    "    my_uni.evolve()\n",
    "    my_uni.draw()\n",
    "\n",
    "    # Animation part: Comment this part if you want it to go faster\n",
    "    plt.title(f\"Time = {i}\")\n",
    "    clear_output(wait=True) # Clear output for dynamic display\n",
    "    display(fig)            # Reset display\n",
    "    fig.clear()             # Prevent overlapping and layered plots\n",
    "        \n",
    "    end = time.time()\n",
    "    times.append(end-start)\n",
    "    \n",
    "print(\"Total time =\", end-start)    \n",
    "print(times)"
   ]
  },
  {
   "cell_type": "markdown",
   "metadata": {},
   "source": [
    "**&#9989; Question 4.3.2 (3 points):**\n",
    "1. How many bosons have been created in total, if any?\n",
    "2. How many fermions have been annihilated in total, if any?\n",
    "3. What can you do to speed up your simulation? (Beside commenting out the animation part)"
   ]
  },
  {
   "cell_type": "markdown",
   "metadata": {},
   "source": [
    "---\n",
    "### &#128721; STOP\n",
    "**Pause to commit your changes to your Git repository!**\n",
    "\n",
    "Take a moment to save your notebook, commit the changes to your Git repository using the commit message \"Committing part 4\", merge the changes in the main branch, and push the changes to GitHub.\n",
    "\n",
    "---"
   ]
  },
  {
   "cell_type": "markdown",
   "metadata": {},
   "source": [
    "---\n",
    "## Assignment wrap-up\n",
    "\n",
    "Please fill out the form that appears when you run the code below.  **You must completely fill this out in order to receive credit for the assignment!**"
   ]
  },
  {
   "cell_type": "code",
   "execution_count": null,
   "metadata": {},
   "outputs": [],
   "source": [
    "from IPython.display import HTML\n",
    "HTML(\n",
    "\"\"\"\n",
    "<iframe \n",
    "\tsrc=\"https://forms.office.com/Pages/ResponsePage.aspx?id=MHEXIi9k2UGSEXQjetVofVWe89dpqk1HpKW7eyyv-IhURDZRWEZYMFJISDhWN0FNTjJOSFhDREc0Mi4u\"\n",
    "\twidth=\"800px\" \n",
    "\theight=\"600px\" \n",
    "\tframeborder=\"0\" \n",
    "\tmarginheight=\"0\" \n",
    "\tmarginwidth=\"0\">\n",
    "\tLoading...\n",
    "</iframe>\n",
    "\"\"\"\n",
    ")"
   ]
  },
  {
   "cell_type": "markdown",
   "metadata": {},
   "source": [
    "### Congratulations, you're done!\n",
    "\n",
    "Submit this assignment by uploading it to the course Desire2Learn web page.  Go to the \"Homework Assignments\" folder, find the dropbox link for Homework #2, and upload **your notebook, your standard_model.py, and your universe.py scripts** there."
   ]
  },
  {
   "cell_type": "markdown",
   "metadata": {},
   "source": [
    "&#169; Copyright 2021,  Department of Computational Mathematics, Science and Engineering at Michigan State University"
   ]
  }
 ],
 "metadata": {
  "anaconda-cloud": {},
  "kernelspec": {
   "display_name": "Python 3 (ipykernel)",
   "language": "python",
   "name": "python3"
  },
  "language_info": {
   "codemirror_mode": {
    "name": "ipython",
    "version": 3
   },
   "file_extension": ".py",
   "mimetype": "text/x-python",
   "name": "python",
   "nbconvert_exporter": "python",
   "pygments_lexer": "ipython3",
   "version": "3.8.12"
  }
 },
 "nbformat": 4,
 "nbformat_minor": 4
}
